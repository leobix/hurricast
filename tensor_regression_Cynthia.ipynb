{
 "cells": [
  {
   "cell_type": "code",
   "execution_count": 113,
   "metadata": {},
   "outputs": [],
   "source": [
    "from run import Prepro\n",
    "import numpy as np\n",
    "import pandas as pd\n",
    "import matplotlib.pyplot as plt\n",
    "from xgboost import XGBClassifier\n",
    "from xgboost import XGBRegressor\n",
    "from sklearn.metrics import accuracy_score\n",
    "from sklearn.ensemble import RandomForestClassifier\n",
    "from sklearn.metrics import mean_absolute_error\n",
    "import torch\n",
    "import torch.nn as nn\n",
    "import tensorly as tl #tensorly package\n",
    "from tensorly.decomposition import tucker #tucker decomp package\n",
    "import utils_tensor as utils "
   ]
  },
  {
   "cell_type": "code",
   "execution_count": 151,
   "metadata": {},
   "outputs": [],
   "source": [
    "#load data \n",
    "#vision_data = np.load('data/vision_data_30_16_120_3years_test2.npy', allow_pickle = True)\n",
    "vision_data = np.load('data/vision_data_50_20_60_3years_v2.npy', allow_pickle = True)\n",
    "# vision_data = np.load('../../../Volumes/Samsung_T5/vision_data_50_20_90_1980_v3.npy', allow_pickle = True)\n",
    "#y = np.load('data/y_30_16_120_3years_test2.npy', allow_pickle = True)\n",
    "y = np.load('data/y_50_20_60_3years_v2.npy', allow_pickle = True) \n",
    "# y = np.load('../../../Volumes/Samsung_T5/y_50_20_90_1980_v3.npy', allow_pickle = True) "
   ]
  },
  {
   "cell_type": "code",
   "execution_count": 152,
   "metadata": {},
   "outputs": [
    {
     "name": "stdout",
     "output_type": "stream",
     "text": [
      "(83, 60, 3, 3, 25, 25)\n",
      "(83, 60, 11)\n"
     ]
    }
   ],
   "source": [
    "print(vision_data.shape)\n",
    "print(y.shape)"
   ]
  },
  {
   "cell_type": "code",
   "execution_count": 220,
   "metadata": {},
   "outputs": [],
   "source": [
    "class tensor_regression(torch.nn.Module):\n",
    "\n",
    "    def __init__(self, x_stat, x_viz): \n",
    "        super(tensor_regression, self).__init__()\n",
    "        v=1e-2 \n",
    "        self.W1 = torch.nn.Parameter(torch.randn(x_stat.shape[1], x_stat.shape[2]) * v)\n",
    "        self.W2 = torch.nn.Parameter(torch.randn(x_viz.shape[1], x_viz.shape[2], x_viz.shape[3], x_viz.shape[4]) * v)\n",
    "        self.b = torch.nn.Parameter(torch.rand(1)) #scalar \n",
    "        \n",
    "\n",
    "    def forward(self, x_stat, x_viz):\n",
    "        'element-wise dot product + bias'\n",
    "        #maybe this could be more elaborate, e.g. for each time step, do mapping, and then regress along time steps etc. \n",
    "        y1 = torch.einsum('nij,ij->n', x_stat, self.W1) #broadcast for each sample \n",
    "        y2 = torch.einsum('nijkl,ijkl->n',x_viz, self.W2)\n",
    "        y_hat = y1+y2+self.b #bias term \n",
    "        \n",
    "        return y_hat #vector of dim: n (sample size)\n",
    "\n",
    "def loss_fn(y_hat, y):\n",
    "    loss =  (y_hat - y).pow(2).sum() \n",
    "    return loss"
   ]
  },
  {
   "cell_type": "code",
   "execution_count": 221,
   "metadata": {},
   "outputs": [],
   "source": [
    "#vision data reduce dims \n",
    "def viz_reduce(tensors, core_ranks): #input: tensors, sample_size = first dimension\n",
    "    tensors = tensors.numpy()\n",
    "    #low rank decomp\n",
    "    core_out = np.zeros((tensors.shape[0], core_ranks[0], core_ranks[1], core_ranks[2], core_ranks[3]))\n",
    "    approx_error = 0 \n",
    "    for i in range(tensors.shape[0]):\n",
    "        tensor = tensors[i]\n",
    "        tensor = (tensor-np.amin(tensor)) / (np.amax(tensor)-np.amin(tensor)) #normalize \n",
    "        core, factors = tucker(tensor, core_ranks)\n",
    "        core_out[i,:,:,:] = core \n",
    "        #calculate approximation error\n",
    "        approx = utils.tucker_to_tensor(core, factors)\n",
    "        approx_error +=  tl.norm(approx-tensor)/tl.norm(tensor)*100  #euclidean norm\n",
    "    approx_error = approx_error/tensors.shape[0]\n",
    "    \n",
    "    core_out = torch.tensor(core_out).float()\n",
    "\n",
    "    return core_out,  approx_error\n",
    "\n",
    "\n"
   ]
  },
  {
   "cell_type": "code",
   "execution_count": 222,
   "metadata": {},
   "outputs": [],
   "source": [
    "#train nn \n",
    "def train_tensor_regression(y, x_stat, x_viz_compress, max_itr=4000, lr=1e-19):\n",
    "    loss_arr =[] #record loss trajectory\n",
    "    model = tensor_regression(x_stat_train, s_viz_train) \n",
    "    # optimizer = torch.optim.SGD(model.parameters(), lr=lr, momentum=0.9)\n",
    "    optimizer = torch.optim.Adam(model.parameters())\n",
    "\n",
    "\n",
    "    for t in range(max_itr):\n",
    "        optimizer.zero_grad()\n",
    "        y_hat= model(x_stat_train, s_viz_train)\n",
    "        loss = loss_fn(y_hat, y_train)\n",
    "        loss.backward()\n",
    "        optimizer.step()\n",
    "\n",
    "        #record loss and gradients \n",
    "        loss_arr.append(loss.detach().item())\n",
    "\n",
    "    #plot loss \n",
    "    plt.plot(np.log(np.array(loss_arr)))\n",
    "    print('final loss=', loss_arr[-1])\n",
    "    return model "
   ]
  },
  {
   "cell_type": "code",
   "execution_count": null,
   "metadata": {},
   "outputs": [],
   "source": [
    "train_test_split = 0.8 #how much train test data\n",
    "predict_at = 5 #steps_out\n",
    "window_size = 8 #how many timesteps from the past to take ie steps_in\n",
    "\n",
    "train_tensors, test_tensors = Prepro.process(vision_data, y, train_test_split, predict_at = predict_at, window_size=window_size)\n",
    "x_viz_train, x_stat_train, tgt_intensity_cat_train, tgt_intensity_cat_baseline_train, tgt_displacement_train, tgt_intensity_train = train_tensors\n",
    "x_viz_test, x_stat_test, tgt_intensity_cat_test, tgt_intensity_cat_baseline_test, tgt_displacement_test, tgt_intensity_test = test_tensors\n",
    "\n",
    "print(vision_data.shape)\n",
    "print(x_stat_train.shape)\n",
    "print(x_viz_train.shape)"
   ]
  },
  {
   "cell_type": "code",
   "execution_count": null,
   "metadata": {},
   "outputs": [],
   "source": [
    "core_ranks = [8,5,5,5]\n",
    "s_viz_train, compression_error = viz_reduce(x_viz_train, core_ranks) #compress viz data \n",
    "print('compression_error=',compression_error)\n",
    "s_viz_test, compression_error = viz_reduce(x_viz_test, core_ranks) #compress viz data \n",
    "print('compression_error=',compression_error)"
   ]
  },
  {
   "cell_type": "code",
   "execution_count": 210,
   "metadata": {},
   "outputs": [
    {
     "name": "stdout",
     "output_type": "stream",
     "text": [
      "final loss= 1453.5244140625\n",
      "tensor_regression dx_mae 0.5257858\n",
      "final loss= 1444.4901123046875\n",
      "tensor_regression dy_mae 3.1421301\n"
     ]
    },
    {
     "data": {
      "image/png": "[encoded data removed]",
      "text/plain": [
       "<Figure size 432x288 with 1 Axes>"
      ]
     },
     "metadata": {
      "needs_background": "light"
     },
     "output_type": "display_data"
    }
   ],
   "source": [
    "y_train = tgt_displacement_train[:,0]\n",
    "model = train_tensor_regression(y_train, x_stat_train, s_viz_train,lr=1e-5)\n",
    "y_hat = model(x_stat_test, s_viz_test)\n",
    "y_true = tgt_displacement_test[:,0]\n",
    "print(\"tensor_regression dx_mae\", mean_absolute_error(y_true, y_hat.detach().numpy()))\n",
    "\n",
    "y_train2 = tgt_displacement_train[:,1]\n",
    "model = train_tensor_regression(y_train2, x_stat_train, s_viz_train,lr=1e-5)\n",
    "y_hat2 = model(x_stat_test, s_viz_test)\n",
    "y_true2= tgt_displacement_test[:,1]\n",
    "print(\"tensor_regression dy_mae\", mean_absolute_error(y_true2, y_hat2.detach().numpy()))\n"
   ]
  },
  {
   "cell_type": "code",
   "execution_count": 218,
   "metadata": {},
   "outputs": [
    {
     "name": "stdout",
     "output_type": "stream",
     "text": [
      "final loss= 1113.613037109375\n",
      "accuracy score 0.6318114874815906\n",
      "Baseline score 0.5949926362297496\n"
     ]
    },
    {
     "data": {
      "image/png": "[encoded data removed]",
      "text/plain": [
       "<Figure size 432x288 with 1 Axes>"
      ]
     },
     "metadata": {
      "needs_background": "light"
     },
     "output_type": "display_data"
    }
   ],
   "source": [
    "y_train = tgt_intensity_cat_train \n",
    "model = train_tensor_regression(y_train, x_stat_train, s_viz_train, max_itr=6000, lr=5e-5)\n",
    "y_hat3 = model(x_stat_test, s_viz_test)\n",
    "y_true = tgt_intensity_cat_test\n",
    "print(\"accuracy score\", accuracy_score(y_true, y_hat3.round().detach().numpy()))\n",
    "print(\"Baseline score\", accuracy_score(y_true, tgt_intensity_cat_baseline_test))"
   ]
  },
  {
   "cell_type": "code",
   "execution_count": null,
   "metadata": {},
   "outputs": [],
   "source": []
  }
 ],
 "metadata": {
  "kernelspec": {
   "display_name": "Python 3",
   "language": "python",
   "name": "python3"
  },
  "language_info": {
   "codemirror_mode": {
    "name": "ipython",
    "version": 3
   },
   "file_extension": ".py",
   "mimetype": "text/x-python",
   "name": "python",
   "nbconvert_exporter": "python",
   "pygments_lexer": "ipython3",
   "version": "3.7.3"
  }
 },
 "nbformat": 4,
 "nbformat_minor": 4
}
