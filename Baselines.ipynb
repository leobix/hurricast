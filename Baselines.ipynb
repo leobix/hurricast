{
 "cells": [
  {
   "cell_type": "code",
   "execution_count": 3,
   "metadata": {},
   "outputs": [],
   "source": [
    "from run import Prepro\n",
    "import numpy as np"
   ]
  },
  {
   "cell_type": "code",
   "execution_count": 4,
   "metadata": {},
   "outputs": [
    {
     "name": "stdout",
     "output_type": "stream",
     "text": [
      "New dataset and corresponding sizes (null elements included):\n",
      "X_vision torch.Size([3735, 8, 9, 25, 25])\n",
      "X_stat torch.Size([3735, 8, 10])\n",
      "target_displacement torch.Size([3735, 8, 2])\n",
      "target_intensity torch.Size([3735])\n",
      "target_intensity_cat torch.Size([3735])\n",
      "target_intensity_cat_baseline torch.Size([3735])\n",
      "Keeping 3143 samples out of the initial 3735.\n",
      "Reshaping the displacement target...\n"
     ]
    }
   ],
   "source": [
    "train_test_split = 0.2 #how much train test data\n",
    "predict_at = 8 #steps_out\n",
    "window_size = 8 #how many timesteps from the past to take ie steps_in\n",
    "\n",
    "vision_data = np.load('data/vision_data_50_20_60_3years_v2.npy', allow_pickle = True)\n",
    "y = np.load('data/y_50_20_60_3years_v2.npy', allow_pickle = True)\n",
    "train_tensors, test_tensors = Prepro.process(vision_data, y, train_test_split, predict_at = 8, window_size =  8)\n",
    "x_viz_train, x_stat_train, tgt_intensity_cat_train, tgt_intensity_cat_baseline_train, tgt_displacement_train, tgt_intensity_train = train_tensors\n",
    "x_viz_test, x_stat_test, tgt_intensity_cat_test, tgt_intensity_cat_baseline_test, tgt_displacement_test, tgt_intensity_test = test_tensors"
   ]
  },
  {
   "cell_type": "code",
   "execution_count": 5,
   "metadata": {},
   "outputs": [
    {
     "data": {
      "text/plain": [
       "tensor([ 6.8000e+00, -1.7200e+02,  5.5000e+01,  9.9400e+02,  2.1470e+03,\n",
       "         8.0000e+00,  3.2100e+02,  1.0000e+00,  4.1247e-01, -3.0800e-01])"
      ]
     },
     "execution_count": 5,
     "metadata": {},
     "output_type": "execute_result"
    }
   ],
   "source": [
    "x_stat_train[0,1,:]\n",
    "#'LAT', 'LON', 'WMO_WIND', 'WMO_PRES', 'DIST2LAND', 'STORM_SPEED', 'STORM_DIR', 'STORM CATEGORY', \n",
    "#'STORM_DISPLACEMENT_X', 'STORM_DISPLACEMENT_Y'"
   ]
  },
  {
   "cell_type": "code",
   "execution_count": 21,
   "metadata": {},
   "outputs": [
    {
     "data": {
      "text/plain": [
       "tensor([[-0.1960,  0.0601],\n",
       "        [-0.2376,  0.1446],\n",
       "        [-0.2534,  0.2426],\n",
       "        ...,\n",
       "        [ 2.5309, -0.2668],\n",
       "        [ 2.5147, -0.2978],\n",
       "        [ 2.4879, -0.2972]])"
      ]
     },
     "execution_count": 21,
     "metadata": {},
     "output_type": "execute_result"
    }
   ],
   "source": [
    "tgt_displacement_train"
   ]
  }
 ],
 "metadata": {
  "kernelspec": {
   "display_name": "Python 3",
   "language": "python",
   "name": "python3"
  },
  "language_info": {
   "codemirror_mode": {
    "name": "ipython",
    "version": 3
   },
   "file_extension": ".py",
   "mimetype": "text/x-python",
   "name": "python",
   "nbconvert_exporter": "python",
   "pygments_lexer": "ipython3",
   "version": "3.6.8"
  }
 },
 "nbformat": 4,
 "nbformat_minor": 4
}
