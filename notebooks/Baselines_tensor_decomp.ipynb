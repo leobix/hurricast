{
 "cells": [
  {
   "cell_type": "code",
   "execution_count": 19,
   "metadata": {},
   "outputs": [],
   "source": [
    "import sys\n",
    "sys.path.insert(0,'..')\n",
    "from run import Prepro\n",
    "import numpy as np\n",
    "import torch\n",
    "import matplotlib.pyplot as plt\n",
    "from xgboost import XGBClassifier\n",
    "from xgboost import XGBRegressor\n",
    "from sklearn.metrics import accuracy_score\n",
    "from sklearn.ensemble import RandomForestClassifier\n",
    "from sklearn.metrics import mean_absolute_error\n",
    "import pandas as pd\n",
    "import tensorly as tl #tensorly package\n",
    "from tensorly.decomposition import tucker #tucker decomp package\n",
    "from utils import utils_tensor as utils \n"
   ]
  },
  {
   "cell_type": "code",
   "execution_count": 2,
   "metadata": {},
   "outputs": [
    {
     "data": {
      "text/html": [
       "<div>\n",
       "<style scoped>\n",
       "    .dataframe tbody tr th:only-of-type {\n",
       "        vertical-align: middle;\n",
       "    }\n",
       "\n",
       "    .dataframe tbody tr th {\n",
       "        vertical-align: top;\n",
       "    }\n",
       "\n",
       "    .dataframe thead th {\n",
       "        text-align: right;\n",
       "    }\n",
       "</style>\n",
       "<table border=\"1\" class=\"dataframe\">\n",
       "  <thead>\n",
       "    <tr style=\"text-align: right;\">\n",
       "      <th></th>\n",
       "      <th>compression_error</th>\n",
       "      <th>intensity_cat_accu</th>\n",
       "      <th>intensity_cat_accu_base</th>\n",
       "      <th>mae_dx</th>\n",
       "      <th>mae_dy</th>\n",
       "      <th>mae_intensity</th>\n",
       "      <th>max_depth</th>\n",
       "      <th>past_n_steps</th>\n",
       "      <th>pred_n_steps</th>\n",
       "      <th>reduced_ranks</th>\n",
       "    </tr>\n",
       "  </thead>\n",
       "  <tbody>\n",
       "    <tr>\n",
       "      <th>0</th>\n",
       "      <td>28.117535</td>\n",
       "      <td>0.565</td>\n",
       "      <td>0.495</td>\n",
       "      <td>0.960</td>\n",
       "      <td>1.390</td>\n",
       "      <td>12.448000</td>\n",
       "      <td>5</td>\n",
       "      <td>16</td>\n",
       "      <td>8</td>\n",
       "      <td>[5, 7, 5, 5]</td>\n",
       "    </tr>\n",
       "    <tr>\n",
       "      <th>1</th>\n",
       "      <td>16.757579</td>\n",
       "      <td>0.590</td>\n",
       "      <td>0.495</td>\n",
       "      <td>0.927</td>\n",
       "      <td>1.409</td>\n",
       "      <td>12.548000</td>\n",
       "      <td>5</td>\n",
       "      <td>16</td>\n",
       "      <td>8</td>\n",
       "      <td>[10, 7, 10, 10]</td>\n",
       "    </tr>\n",
       "    <tr>\n",
       "      <th>2</th>\n",
       "      <td>26.952783</td>\n",
       "      <td>0.594</td>\n",
       "      <td>0.495</td>\n",
       "      <td>0.914</td>\n",
       "      <td>1.358</td>\n",
       "      <td>12.535000</td>\n",
       "      <td>5</td>\n",
       "      <td>16</td>\n",
       "      <td>8</td>\n",
       "      <td>[15, 7, 5, 5]</td>\n",
       "    </tr>\n",
       "    <tr>\n",
       "      <th>3</th>\n",
       "      <td>28.504854</td>\n",
       "      <td>0.500</td>\n",
       "      <td>0.392</td>\n",
       "      <td>2.593</td>\n",
       "      <td>2.911</td>\n",
       "      <td>15.597000</td>\n",
       "      <td>5</td>\n",
       "      <td>16</td>\n",
       "      <td>16</td>\n",
       "      <td>[5, 7, 5, 5]</td>\n",
       "    </tr>\n",
       "    <tr>\n",
       "      <th>4</th>\n",
       "      <td>17.073582</td>\n",
       "      <td>0.570</td>\n",
       "      <td>0.392</td>\n",
       "      <td>2.335</td>\n",
       "      <td>2.911</td>\n",
       "      <td>15.682000</td>\n",
       "      <td>5</td>\n",
       "      <td>16</td>\n",
       "      <td>16</td>\n",
       "      <td>[10, 7, 10, 10]</td>\n",
       "    </tr>\n",
       "    <tr>\n",
       "      <th>5</th>\n",
       "      <td>27.310780</td>\n",
       "      <td>0.562</td>\n",
       "      <td>0.392</td>\n",
       "      <td>2.310</td>\n",
       "      <td>3.000</td>\n",
       "      <td>16.356001</td>\n",
       "      <td>5</td>\n",
       "      <td>16</td>\n",
       "      <td>16</td>\n",
       "      <td>[15, 7, 5, 5]</td>\n",
       "    </tr>\n",
       "    <tr>\n",
       "      <th>6</th>\n",
       "      <td>28.630795</td>\n",
       "      <td>0.622</td>\n",
       "      <td>0.559</td>\n",
       "      <td>1.000</td>\n",
       "      <td>1.590</td>\n",
       "      <td>10.574000</td>\n",
       "      <td>5</td>\n",
       "      <td>24</td>\n",
       "      <td>8</td>\n",
       "      <td>[5, 7, 5, 5]</td>\n",
       "    </tr>\n",
       "    <tr>\n",
       "      <th>7</th>\n",
       "      <td>17.482150</td>\n",
       "      <td>0.616</td>\n",
       "      <td>0.559</td>\n",
       "      <td>0.968</td>\n",
       "      <td>1.619</td>\n",
       "      <td>10.119000</td>\n",
       "      <td>5</td>\n",
       "      <td>24</td>\n",
       "      <td>8</td>\n",
       "      <td>[10, 7, 10, 10]</td>\n",
       "    </tr>\n",
       "    <tr>\n",
       "      <th>8</th>\n",
       "      <td>26.650156</td>\n",
       "      <td>0.630</td>\n",
       "      <td>0.559</td>\n",
       "      <td>1.016</td>\n",
       "      <td>1.467</td>\n",
       "      <td>10.378000</td>\n",
       "      <td>5</td>\n",
       "      <td>24</td>\n",
       "      <td>8</td>\n",
       "      <td>[15, 7, 5, 5]</td>\n",
       "    </tr>\n",
       "    <tr>\n",
       "      <th>9</th>\n",
       "      <td>30.076771</td>\n",
       "      <td>0.560</td>\n",
       "      <td>0.428</td>\n",
       "      <td>2.776</td>\n",
       "      <td>3.384</td>\n",
       "      <td>14.305000</td>\n",
       "      <td>5</td>\n",
       "      <td>24</td>\n",
       "      <td>16</td>\n",
       "      <td>[5, 7, 5, 5]</td>\n",
       "    </tr>\n",
       "    <tr>\n",
       "      <th>10</th>\n",
       "      <td>18.457538</td>\n",
       "      <td>0.576</td>\n",
       "      <td>0.428</td>\n",
       "      <td>2.897</td>\n",
       "      <td>3.507</td>\n",
       "      <td>15.116000</td>\n",
       "      <td>5</td>\n",
       "      <td>24</td>\n",
       "      <td>16</td>\n",
       "      <td>[10, 7, 10, 10]</td>\n",
       "    </tr>\n",
       "    <tr>\n",
       "      <th>11</th>\n",
       "      <td>27.987965</td>\n",
       "      <td>0.584</td>\n",
       "      <td>0.428</td>\n",
       "      <td>2.630</td>\n",
       "      <td>3.486</td>\n",
       "      <td>14.474000</td>\n",
       "      <td>5</td>\n",
       "      <td>24</td>\n",
       "      <td>16</td>\n",
       "      <td>[15, 7, 5, 5]</td>\n",
       "    </tr>\n",
       "  </tbody>\n",
       "</table>\n",
       "</div>"
      ],
      "text/plain": [
       "    compression_error  intensity_cat_accu  intensity_cat_accu_base  mae_dx  \\\n",
       "0           28.117535               0.565                    0.495   0.960   \n",
       "1           16.757579               0.590                    0.495   0.927   \n",
       "2           26.952783               0.594                    0.495   0.914   \n",
       "3           28.504854               0.500                    0.392   2.593   \n",
       "4           17.073582               0.570                    0.392   2.335   \n",
       "5           27.310780               0.562                    0.392   2.310   \n",
       "6           28.630795               0.622                    0.559   1.000   \n",
       "7           17.482150               0.616                    0.559   0.968   \n",
       "8           26.650156               0.630                    0.559   1.016   \n",
       "9           30.076771               0.560                    0.428   2.776   \n",
       "10          18.457538               0.576                    0.428   2.897   \n",
       "11          27.987965               0.584                    0.428   2.630   \n",
       "\n",
       "    mae_dy  mae_intensity  max_depth  past_n_steps  pred_n_steps  \\\n",
       "0    1.390      12.448000          5            16             8   \n",
       "1    1.409      12.548000          5            16             8   \n",
       "2    1.358      12.535000          5            16             8   \n",
       "3    2.911      15.597000          5            16            16   \n",
       "4    2.911      15.682000          5            16            16   \n",
       "5    3.000      16.356001          5            16            16   \n",
       "6    1.590      10.574000          5            24             8   \n",
       "7    1.619      10.119000          5            24             8   \n",
       "8    1.467      10.378000          5            24             8   \n",
       "9    3.384      14.305000          5            24            16   \n",
       "10   3.507      15.116000          5            24            16   \n",
       "11   3.486      14.474000          5            24            16   \n",
       "\n",
       "      reduced_ranks  \n",
       "0      [5, 7, 5, 5]  \n",
       "1   [10, 7, 10, 10]  \n",
       "2     [15, 7, 5, 5]  \n",
       "3      [5, 7, 5, 5]  \n",
       "4   [10, 7, 10, 10]  \n",
       "5     [15, 7, 5, 5]  \n",
       "6      [5, 7, 5, 5]  \n",
       "7   [10, 7, 10, 10]  \n",
       "8     [15, 7, 5, 5]  \n",
       "9      [5, 7, 5, 5]  \n",
       "10  [10, 7, 10, 10]  \n",
       "11    [15, 7, 5, 5]  "
      ]
     },
     "execution_count": 2,
     "metadata": {},
     "output_type": "execute_result"
    }
   ],
   "source": [
    "pd.read_csv('../cluster_results/xgb_tensor_accuracy.csv')"
   ]
  },
  {
   "cell_type": "code",
   "execution_count": 3,
   "metadata": {},
   "outputs": [],
   "source": [
    "#load data \n",
    "#vision_data = np.load('data/vision_data_30_16_120_3years_test2.npy', allow_pickle = True)\n",
    "vision_data = np.load('../data/vision_data_50_20_60_3years_v2.npy', allow_pickle = True)\n",
    "# vision_data = np.load('../../../Volumes/Samsung_T5/vision_data_50_20_90_1980_v3.npy', allow_pickle = True)\n",
    "#y = np.load('data/y_30_16_120_3years_test2.npy', allow_pickle = True)\n",
    "y = np.load('../data/y_50_20_60_3years_v2.npy', allow_pickle = True) \n",
    "# y = np.load('../../../Volumes/Samsung_T5/y_50_20_90_1980_v3.npy', allow_pickle = True) "
   ]
  },
  {
   "cell_type": "code",
   "execution_count": 4,
   "metadata": {},
   "outputs": [
    {
     "name": "stdout",
     "output_type": "stream",
     "text": [
      "(83, 60, 3, 3, 25, 25)\n",
      "(83, 60, 11)\n"
     ]
    }
   ],
   "source": [
    "print(vision_data.shape)\n",
    "print(y.shape)"
   ]
  },
  {
   "cell_type": "code",
   "execution_count": 47,
   "metadata": {},
   "outputs": [
    {
     "name": "stdout",
     "output_type": "stream",
     "text": [
      "New dataset and corresponding sizes (null elements included):\n",
      "X_vision torch.Size([3071, 16, 9, 25, 25])\n",
      "X_stat torch.Size([3071, 16, 10])\n",
      "target_displacement torch.Size([3071, 8, 2])\n",
      "target_intensity torch.Size([3071])\n",
      "target_intensity_cat torch.Size([3071])\n",
      "target_intensity_cat_baseline torch.Size([3071])\n",
      "Keeping 2481 samples out of the initial 3071.\n",
      "Reshaping the displacement target...\n"
     ]
    }
   ],
   "source": [
    "train_test_split = 0.2 #how much train test data\n",
    "predict_at = 8 #steps_out\n",
    "window_size = 16 #how many timesteps from the past to take ie steps_in\n",
    "\n",
    "train_tensors, test_tensors = Prepro.process(vision_data, y, train_test_split, predict_at = predict_at, window_size=window_size)\n",
    "x_viz_train, x_stat_train, tgt_intensity_cat_train, tgt_intensity_cat_baseline_train, tgt_displacement_train, tgt_intensity_train = train_tensors\n",
    "x_viz_test, x_stat_test, tgt_intensity_cat_test, tgt_intensity_cat_baseline_test, tgt_displacement_test, tgt_intensity_test = test_tensors"
   ]
  },
  {
   "cell_type": "code",
   "execution_count": 6,
   "metadata": {},
   "outputs": [
    {
     "name": "stdout",
     "output_type": "stream",
     "text": [
      "(83, 60, 3, 3, 25, 25)\n",
      "torch.Size([496, 16, 10])\n",
      "torch.Size([496, 16, 9, 25, 25])\n"
     ]
    }
   ],
   "source": [
    "print(vision_data.shape)\n",
    "print(x_stat_train.shape)\n",
    "print(x_viz_train.shape)"
   ]
  },
  {
   "cell_type": "code",
   "execution_count": 21,
   "metadata": {},
   "outputs": [
    {
     "name": "stdout",
     "output_type": "stream",
     "text": [
      "approximation error= 0.05237335717538372\n"
     ]
    }
   ],
   "source": [
    "viz_reduce, error = viz_reduce(x_viz_train, [5,5,5,5])"
   ]
  },
  {
   "cell_type": "code",
   "execution_count": 40,
   "metadata": {},
   "outputs": [
    {
     "data": {
      "text/plain": [
       "'5555_lala.npy'"
      ]
     },
     "execution_count": 40,
     "metadata": {},
     "output_type": "execute_result"
    }
   ],
   "source": [
    "def ranks_to_str(ranks):  \n",
    "    # Converting integer list to string list \n",
    "    s = [str(i) for i in ranks] \n",
    "    # Join list items using join() \n",
    "    out = \"\".join(s)\n",
    "    return out \n",
    "\n",
    "str(ranks_to_str([5,5,5,5]))+'_lala.npy'"
   ]
  },
  {
   "cell_type": "code",
   "execution_count": 61,
   "metadata": {},
   "outputs": [
    {
     "data": {
      "text/plain": [
       "<matplotlib.image.AxesImage at 0x1c41585390>"
      ]
     },
     "execution_count": 61,
     "metadata": {},
     "output_type": "execute_result"
    },
    {
     "data": {
      "image/png": "[encoded data removed]",
      "text/plain": [
       "<Figure size 432x288 with 1 Axes>"
      ]
     },
     "metadata": {
      "needs_background": "light"
     },
     "output_type": "display_data"
    },
    {
     "data": {
      "image/png": "[encoded data removed]",
      "text/plain": [
       "<Figure size 432x288 with 1 Axes>"
      ]
     },
     "metadata": {
      "needs_background": "light"
     },
     "output_type": "display_data"
    },
    {
     "data": {
      "image/png": "[encoded data removed]",
      "text/plain": [
       "<Figure size 432x288 with 1 Axes>"
      ]
     },
     "metadata": {
      "needs_background": "light"
     },
     "output_type": "display_data"
    }
   ],
   "source": [
    "test = x_viz_train[:,-4:,:,6:19,6:19] \n",
    "plt.imshow(test[2,1,1,:,:])\n",
    "plt.figure()\n",
    "plt.imshow(x_viz_train[2,1,1,:,:])\n",
    "plt.figure()\n",
    "# plt.imshow(x_viz_reduce[2,1,1,:,:])"
   ]
  },
  {
   "cell_type": "code",
   "execution_count": 59,
   "metadata": {},
   "outputs": [],
   "source": [
    "# np.save('../data/X_train_viz_reduce_1980_50_20_90_w8.npy', viz_reduce, allow_pickle=True)\n",
    "# np.save('data/X_train_stat_1980_50_20_90_w' + str(window_size) + '.npy', X_train, allow_pickle = True)\n",
    "# x_viz_reduce=np.load('../data/X_train_viz_reduce.npy',  allow_pickle=True)\n"
   ]
  },
  {
   "cell_type": "code",
   "execution_count": 68,
   "metadata": {},
   "outputs": [],
   "source": [
    "viz_reduce2 = np.load('../data/X_train_viz_reduce.npy',allow_pickle=True)\n",
    "\n"
   ]
  },
  {
   "cell_type": "code",
   "execution_count": 67,
   "metadata": {},
   "outputs": [
    {
     "data": {
      "text/plain": [
       "(496, 625)"
      ]
     },
     "execution_count": 67,
     "metadata": {},
     "output_type": "execute_result"
    }
   ],
   "source": [
    "# viz_reduce2.reshape(viz_reduce2[0],-1,-1,-1)\n",
    "# viz_reduce2.reshape(viz_reduce2.shape[0],-1).shape"
   ]
  },
  {
   "cell_type": "code",
   "execution_count": 74,
   "metadata": {},
   "outputs": [
    {
     "data": {
      "text/plain": [
       "torch.Size([496, 16, 10])"
      ]
     },
     "execution_count": 74,
     "metadata": {},
     "output_type": "execute_result"
    }
   ],
   "source": [
    "viz_reduce2.reshape(viz_reduce2.shape[0],-1).shape\n",
    "x_stat_train.reshape()"
   ]
  },
  {
   "cell_type": "code",
   "execution_count": 16,
   "metadata": {},
   "outputs": [],
   "source": [
    "#vision data reduce dims \n",
    "def viz_reduce(tensors, core_ranks): #input: tensors, sample_size = first dimension\n",
    "    tensors = tensors.numpy()\n",
    "    #low rank decomp\n",
    "    core_out = np.zeros((tensors.shape[0], core_ranks[0], core_ranks[1], core_ranks[2], core_ranks[3]))\n",
    "    approx_error = 0 \n",
    "    for i in range(tensors.shape[0]):\n",
    "        tensor = tensors[i]\n",
    "        core, factors = tucker(tensor, core_ranks)\n",
    "        core_out[i,:,:,:] = core \n",
    "        #calculate approximation error\n",
    "        approx = utils.tucker_to_tensor(core, factors)\n",
    "        approx_error +=  tl.norm(approx-tensor)/tl.norm(tensor)*100  #euclidean norm\n",
    "    approx_error = approx_error/tensors.shape[0]\n",
    "    \n",
    "    core_out = torch.tensor(core_out).float()\n",
    "#     print('approximation error=', approx_error)\n",
    "    return core_out,  approx_error"
   ]
  },
  {
   "cell_type": "code",
   "execution_count": 50,
   "metadata": {},
   "outputs": [],
   "source": [
    "# utils.get_norms_4d(x_viz_train.numpy())"
   ]
  },
  {
   "cell_type": "code",
   "execution_count": 51,
   "metadata": {},
   "outputs": [],
   "source": [
    "#function intaking x_stat, x_viz and concat them according to ranks \n",
    "def concat_stat_viz(x_stat_train, x_viz_train, reduced_ranks): #third arg is vision tensor's dimensions \n",
    "    #reshape tabular data \n",
    "    X_train = x_stat_train.reshape(x_stat_train.shape[0], -1)\n",
    "\n",
    "    #compress vision data according to reduced_ranks \n",
    "    viz = np.zeros((x_viz_train.shape[0], np.prod(reduced_ranks)))\n",
    "    avg_error = 0 \n",
    "    for i in range(x_viz_train.shape[0]):\n",
    "        viz[i,:], error = utils.viz_to_arr(x_viz_train[i].numpy(), reduced_ranks)\n",
    "        avg_error += error \n",
    "    X_train = np.concatenate((X_train.numpy(), viz), axis=1)\n",
    "    compression_error = avg_error/x_viz_train.shape[0]\n",
    "    \n",
    "    return X_train, compression_error \n",
    "\n",
    "#concat viz with tabular \n",
    "X_train, error =utils.concat_stat_viz(x_stat_train, x_viz_train, reduced_ranks=[10,7,10,10])\n",
    "X_test, error  =concat_stat_viz(x_stat_test, x_viz_test, reduced_ranks=[10,7,10,10])\n"
   ]
  },
  {
   "cell_type": "code",
   "execution_count": 52,
   "metadata": {},
   "outputs": [],
   "source": [
    "#standardize x:\n",
    "def standardize_x(x_viz_train, x_viz_test, x_stat_train, x_stat_test):\n",
    "    means = x_viz_train.mean(dim=(0, 1, 3, 4))\n",
    "    stds = x_viz_train.std(dim=(0, 1, 3, 4))\n",
    "\n",
    "    means_stat = x_stat_train.mean(dim=(0, 1))\n",
    "    stds_stat = x_stat_train.std(dim=(0, 1))\n",
    "\n",
    "    for i in range(len(means)):\n",
    "        x_viz_train[:, :, i] = (x_viz_train[:, :, i] - means[i]) / stds[i]\n",
    "        x_viz_test[:, :, i] = (x_viz_test[:, :, i] - means[i]) / stds[i]\n",
    "\n",
    "    for i in range(len(means_stat)):\n",
    "        x_stat_train[:, :, i] = (x_stat_train[:, :, i] - means_stat[i]) / stds_stat[i]\n",
    "        x_stat_test[:, :, i] = (x_stat_test[:, :, i] - means_stat[i]) / stds_stat[i]\n",
    "    return x_viz_train, x_viz_test, x_stat_train, x_stat_test\n",
    "\n",
    "#standardize y: \n",
    "def standardize_y(y_train, y_test):\n",
    "    y_train = y_train.numpy()\n",
    "    y_test = y_test.numpy()\n",
    "    mean = y_train.mean()\n",
    "    std = y_train.std()\n",
    "    y_train = (y_train-mean)/std\n",
    "    y_test = (y_test-mean)/std\n",
    "    return y_train, y_test, mean , std \n",
    "\n",
    "x_viz_train, x_viz_test, x_stat_train, x_stat_test = standardize_x(x_viz_train, x_viz_test, x_stat_train, x_stat_test)\n",
    "tgt_intensity_train,tgt_intensity_test, mean_intensity, std_intensity  = standardize_y(tgt_intensity_train,tgt_intensity_test)\n"
   ]
  },
  {
   "cell_type": "code",
   "execution_count": 53,
   "metadata": {},
   "outputs": [
    {
     "data": {
      "text/plain": [
       "12.021875"
      ]
     },
     "execution_count": 53,
     "metadata": {},
     "output_type": "execute_result"
    }
   ],
   "source": [
    "# #get training and test tensors\n",
    "# ##maybe we don't have to call this for each prediction period, since x is the same, just y different? \n",
    "# # train_tensors, test_tensors = Prepro.process(vision_data, y, train_test_split, predict_at = predict_at, window_size=window_size)\n",
    "# # x_viz_train, x_stat_train, tgt_intensity_cat_train, tgt_intensity_cat_baseline_train, tgt_displacement_train, tgt_intensity_train = train_tensors\n",
    "# # x_viz_test, x_stat_test, tgt_intensity_cat_test, tgt_intensity_cat_baseline_test, tgt_displacement_test, tgt_intensity_test = test_tensors\n",
    "\n",
    "#need to standardize \n",
    "\n",
    "# # #concat viz with tabular \n",
    "# # X_train, compress_error =concat_stat_viz(x_stat_train, x_viz_train, reduced_ranks)\n",
    "# # X_test, _ =concat_stat_viz(x_stat_test, x_viz_test, reduced_ranks)\n",
    "\n",
    "# #run XGB on intensity\n",
    "xgb = XGBRegressor(max_depth=5, n_estimators=80)\n",
    "xgb.fit(X_train, tgt_intensity_train)\n",
    "yhat = xgb.predict(X_test)\n",
    "mae_intensity = mean_absolute_error(tgt_intensity_test*std_intensity + mean_intensity, yhat*std_intensity+mean_intensity) \n",
    "\n",
    "\n",
    "\n",
    "# # xgb = XGBRegressor(max_depth=5, n_estimators=80)\n",
    "# # xgb.fit(X_train, tgt_displacement_train[:,0])\n",
    "# # yhat = xgb.predict(X_test)\n",
    "# # mae_dx = mean_absolute_error(tgt_displacement_test[:,0], yhat) \n",
    "# # mae_dx\n",
    "\n",
    "# mae_intensity\n",
    "mae_intensity\n"
   ]
  },
  {
   "cell_type": "code",
   "execution_count": null,
   "metadata": {},
   "outputs": [],
   "source": [
    "def run_xgb(vision_data, stat_data, window_size, predict_at, max_depth, reduced_ranks):\n",
    "    #get training and test tensors\n",
    "    ##maybe we don't have to call this for each prediction period, since x is the same, just y different?\n",
    "    train_test_split=0.8\n",
    "    train_tensors, test_tensors = Prepro.process(vision_data, stat_data, train_test_split, predict_at = predict_at, window_size=window_size)\n",
    "    x_viz_train, x_stat_train, tgt_intensity_cat_train, tgt_intensity_cat_baseline_train, tgt_displacement_train, tgt_intensity_train = train_tensors\n",
    "    x_viz_test, x_stat_test, tgt_intensity_cat_test, tgt_intensity_cat_baseline_test, tgt_displacement_test, tgt_intensity_test = test_tensors\n",
    "\n",
    "    #standardize:\n",
    "    means = x_viz_train.mean(dim=(0, 1, 3, 4))\n",
    "    stds = x_viz_train.std(dim=(0, 1, 3, 4))\n",
    "\n",
    "    means_stat = x_stat_train.mean(dim=(0, 1))\n",
    "    stds_stat = x_stat_train.std(dim=(0, 1))\n",
    "\n",
    "    for i in range(len(means)):\n",
    "        x_viz_train[:, :, i] = (x_viz_train[:, :, i] - means[i]) / stds[i]\n",
    "        x_viz_test[:, :, i] = (x_viz_test[:, :, i] - means[i]) / stds[i]\n",
    "\n",
    "    for i in range(len(means_stat)):\n",
    "        x_stat_train[:, :, i] = (x_stat_train[:, :, i] - means_stat[i]) / stds_stat[i]\n",
    "        x_stat_test[:, :, i] = (x_stat_test[:, :, i] - means_stat[i]) / stds_stat[i]\n",
    "\n",
    "    #concat viz with tabular\n",
    "    X_train, compress_error =utils.concat_stat_viz(x_stat_train, x_viz_train, reduced_ranks)\n",
    "    X_test, _ =utils.concat_stat_viz(x_stat_test, x_viz_test, reduced_ranks)\n",
    "\n",
    "    #run XGB on intensity\n",
    "    xgb = XGBRegressor(max_depth=5, n_estimators=80)\n",
    "    xgb.fit(X_train, tgt_intensity_train)\n",
    "    yhat = xgb.predict(X_test)\n",
    "    mae_intensity = mean_absolute_error(tgt_intensity_test, yhat)\n",
    "    \n",
    "    mean_intensity = tgt_intensity_train.mean()\n",
    "    std_intensity = tgt_intensity_train.std()\n",
    "\n",
    "    #run XGB on displacement\n",
    "    xgb = XGBRegressor(max_depth=5, n_estimators=80)\n",
    "    xgb.fit(X_train, tgt_displacement_train[:,0])\n",
    "    yhat = xgb.predict(X_test)\n",
    "    mae_dx = mean_absolute_error(tgt_displacement_test[:,0], yhat)\n",
    "\n",
    "    xgb = XGBRegressor(max_depth=5, n_estimators=80)\n",
    "    xgb.fit(X_train, tgt_displacement_train[:,1])\n",
    "    yhat = xgb.predict(X_test)\n",
    "    mae_dy = mean_absolute_error(tgt_displacement_test[:,1], yhat)\n",
    "\n",
    "    # #run XGB on intensity category\n",
    "    xgb = XGBClassifier(max_depth=max_depth, n_estimators=80)\n",
    "    xgb.fit(X_train, tgt_intensity_cat_train)\n",
    "    yhat = xgb.predict(X_test)\n",
    "    score_xgb = accuracy_score(tgt_intensity_cat_test, yhat)\n",
    "    score_base = accuracy_score(tgt_intensity_cat_test, tgt_intensity_cat_baseline_test)\n",
    "\n",
    "    return np.round(mae_intensity,3) , np.round(mae_dx,3), np.round(mae_dy,3), np.round(,3), np.round(score_xgb,3), np.round(score_base,3), compress_error"
   ]
  },
  {
   "cell_type": "code",
   "execution_count": 9,
   "metadata": {},
   "outputs": [
    {
     "data": {
      "text/plain": [
       "array([ 2,  4,  6,  8, 10, 12, 14, 16, 18])"
      ]
     },
     "execution_count": 9,
     "metadata": {},
     "output_type": "execute_result"
    }
   ],
   "source": [
    "np.arange(2,20,2)"
   ]
  },
  {
   "cell_type": "code",
   "execution_count": 8,
   "metadata": {},
   "outputs": [
    {
     "name": "stdout",
     "output_type": "stream",
     "text": [
      "New dataset and corresponding sizes (null elements included):\n",
      "X_vision torch.Size([4233, 8, 9, 25, 25])\n",
      "X_stat torch.Size([4233, 8, 10])\n",
      "target_displacement torch.Size([4233, 2, 2])\n",
      "target_intensity torch.Size([4233])\n",
      "target_intensity_cat torch.Size([4233])\n",
      "target_intensity_cat_baseline torch.Size([4233])\n",
      "Keeping 3641 samples out of the initial 4233.\n",
      "Reshaping the displacement target...\n"
     ]
    },
    {
     "ename": "KeyboardInterrupt",
     "evalue": "",
     "output_type": "error",
     "traceback": [
      "\u001b[0;31m---------------------------------------------------------------------------\u001b[0m",
      "\u001b[0;31mKeyboardInterrupt\u001b[0m                         Traceback (most recent call last)",
      "\u001b[0;32m<ipython-input-8-6298e2226b06>\u001b[0m in \u001b[0;36m<module>\u001b[0;34m\u001b[0m\n\u001b[1;32m     28\u001b[0m \u001b[0;34m\u001b[0m\u001b[0m\n\u001b[1;32m     29\u001b[0m \u001b[0;34m\u001b[0m\u001b[0m\n\u001b[0;32m---> 30\u001b[0;31m \u001b[0mrun_xgb\u001b[0m\u001b[0;34m(\u001b[0m\u001b[0mwindow_size\u001b[0m\u001b[0;34m=\u001b[0m\u001b[0;36m8\u001b[0m\u001b[0;34m,\u001b[0m \u001b[0mpredict_at\u001b[0m\u001b[0;34m=\u001b[0m\u001b[0;36m2\u001b[0m\u001b[0;34m,\u001b[0m \u001b[0mreduced_ranks\u001b[0m \u001b[0;34m=\u001b[0m \u001b[0;34m[\u001b[0m\u001b[0;36m5\u001b[0m\u001b[0;34m,\u001b[0m\u001b[0;36m7\u001b[0m\u001b[0;34m,\u001b[0m\u001b[0;36m10\u001b[0m\u001b[0;34m,\u001b[0m\u001b[0;36m10\u001b[0m\u001b[0;34m]\u001b[0m\u001b[0;34m)\u001b[0m\u001b[0;34m\u001b[0m\u001b[0;34m\u001b[0m\u001b[0m\n\u001b[0m",
      "\u001b[0;32m<ipython-input-8-6298e2226b06>\u001b[0m in \u001b[0;36mrun_xgb\u001b[0;34m(window_size, predict_at, reduced_ranks)\u001b[0m\n\u001b[1;32m      7\u001b[0m \u001b[0;34m\u001b[0m\u001b[0m\n\u001b[1;32m      8\u001b[0m     \u001b[0;31m#concat viz with tabular\u001b[0m\u001b[0;34m\u001b[0m\u001b[0;34m\u001b[0m\u001b[0;34m\u001b[0m\u001b[0m\n\u001b[0;32m----> 9\u001b[0;31m     \u001b[0mX_train\u001b[0m\u001b[0;34m,\u001b[0m \u001b[0mcompress_error\u001b[0m \u001b[0;34m=\u001b[0m\u001b[0mconcat_stat_viz\u001b[0m\u001b[0;34m(\u001b[0m\u001b[0mx_stat_train\u001b[0m\u001b[0;34m,\u001b[0m \u001b[0mx_viz_train\u001b[0m\u001b[0;34m,\u001b[0m \u001b[0mreduced_ranks\u001b[0m\u001b[0;34m)\u001b[0m\u001b[0;34m\u001b[0m\u001b[0;34m\u001b[0m\u001b[0m\n\u001b[0m\u001b[1;32m     10\u001b[0m     \u001b[0mX_test\u001b[0m\u001b[0;34m,\u001b[0m \u001b[0m_\u001b[0m \u001b[0;34m=\u001b[0m\u001b[0mconcat_stat_viz\u001b[0m\u001b[0;34m(\u001b[0m\u001b[0mx_stat_test\u001b[0m\u001b[0;34m,\u001b[0m \u001b[0mx_viz_test\u001b[0m\u001b[0;34m,\u001b[0m \u001b[0mreduced_ranks\u001b[0m\u001b[0;34m)\u001b[0m\u001b[0;34m\u001b[0m\u001b[0;34m\u001b[0m\u001b[0m\n\u001b[1;32m     11\u001b[0m \u001b[0;34m\u001b[0m\u001b[0m\n",
      "\u001b[0;32m<ipython-input-7-4afa779b4be1>\u001b[0m in \u001b[0;36mconcat_stat_viz\u001b[0;34m(x_stat_train, x_viz_train, reduced_ranks)\u001b[0m\n\u001b[1;32m      8\u001b[0m     \u001b[0mavg_error\u001b[0m \u001b[0;34m=\u001b[0m \u001b[0;36m0\u001b[0m\u001b[0;34m\u001b[0m\u001b[0;34m\u001b[0m\u001b[0m\n\u001b[1;32m      9\u001b[0m     \u001b[0;32mfor\u001b[0m \u001b[0mi\u001b[0m \u001b[0;32min\u001b[0m \u001b[0mrange\u001b[0m\u001b[0;34m(\u001b[0m\u001b[0mx_viz_train\u001b[0m\u001b[0;34m.\u001b[0m\u001b[0mshape\u001b[0m\u001b[0;34m[\u001b[0m\u001b[0;36m0\u001b[0m\u001b[0;34m]\u001b[0m\u001b[0;34m)\u001b[0m\u001b[0;34m:\u001b[0m\u001b[0;34m\u001b[0m\u001b[0;34m\u001b[0m\u001b[0m\n\u001b[0;32m---> 10\u001b[0;31m         \u001b[0mviz\u001b[0m\u001b[0;34m[\u001b[0m\u001b[0mi\u001b[0m\u001b[0;34m,\u001b[0m\u001b[0;34m:\u001b[0m\u001b[0;34m]\u001b[0m\u001b[0;34m,\u001b[0m \u001b[0merror\u001b[0m \u001b[0;34m=\u001b[0m \u001b[0mutils\u001b[0m\u001b[0;34m.\u001b[0m\u001b[0mviz_to_arr\u001b[0m\u001b[0;34m(\u001b[0m\u001b[0mx_viz_train\u001b[0m\u001b[0;34m[\u001b[0m\u001b[0mi\u001b[0m\u001b[0;34m]\u001b[0m\u001b[0;34m.\u001b[0m\u001b[0mnumpy\u001b[0m\u001b[0;34m(\u001b[0m\u001b[0;34m)\u001b[0m\u001b[0;34m,\u001b[0m \u001b[0mreduced_ranks\u001b[0m\u001b[0;34m)\u001b[0m\u001b[0;34m\u001b[0m\u001b[0;34m\u001b[0m\u001b[0m\n\u001b[0m\u001b[1;32m     11\u001b[0m         \u001b[0mavg_error\u001b[0m \u001b[0;34m+=\u001b[0m \u001b[0merror\u001b[0m\u001b[0;34m\u001b[0m\u001b[0;34m\u001b[0m\u001b[0m\n\u001b[1;32m     12\u001b[0m \u001b[0;31m#     print('average tensor approx pct error is', avg_error/x_viz_train.shape[0])\u001b[0m\u001b[0;34m\u001b[0m\u001b[0;34m\u001b[0m\u001b[0;34m\u001b[0m\u001b[0m\n",
      "\u001b[0;32m~/hurricast/utils_tensor.py\u001b[0m in \u001b[0;36mviz_to_arr\u001b[0;34m(tensor, reduced_ranks)\u001b[0m\n\u001b[1;32m     44\u001b[0m \u001b[0;32mdef\u001b[0m \u001b[0mviz_to_arr\u001b[0m\u001b[0;34m(\u001b[0m\u001b[0mtensor\u001b[0m\u001b[0;34m,\u001b[0m \u001b[0mreduced_ranks\u001b[0m\u001b[0;34m)\u001b[0m\u001b[0;34m:\u001b[0m\u001b[0;34m\u001b[0m\u001b[0;34m\u001b[0m\u001b[0m\n\u001b[1;32m     45\u001b[0m     \u001b[0;31m#low rank decomp\u001b[0m\u001b[0;34m\u001b[0m\u001b[0;34m\u001b[0m\u001b[0;34m\u001b[0m\u001b[0m\n\u001b[0;32m---> 46\u001b[0;31m     \u001b[0mcore\u001b[0m\u001b[0;34m,\u001b[0m \u001b[0mfactors\u001b[0m \u001b[0;34m=\u001b[0m \u001b[0mtucker\u001b[0m\u001b[0;34m(\u001b[0m\u001b[0mtensor\u001b[0m\u001b[0;34m,\u001b[0m \u001b[0mreduced_ranks\u001b[0m\u001b[0;34m)\u001b[0m\u001b[0;34m\u001b[0m\u001b[0;34m\u001b[0m\u001b[0m\n\u001b[0m\u001b[1;32m     47\u001b[0m     \u001b[0mout_arr\u001b[0m \u001b[0;34m=\u001b[0m \u001b[0mcore\u001b[0m\u001b[0;34m.\u001b[0m\u001b[0mflatten\u001b[0m\u001b[0;34m(\u001b[0m\u001b[0;34m)\u001b[0m\u001b[0;34m\u001b[0m\u001b[0;34m\u001b[0m\u001b[0m\n\u001b[1;32m     48\u001b[0m \u001b[0;34m\u001b[0m\u001b[0m\n",
      "\u001b[0;32m~/anaconda3/lib/python3.7/site-packages/tensorly/decomposition/_tucker.py\u001b[0m in \u001b[0;36mtucker\u001b[0;34m(tensor, rank, ranks, n_iter_max, init, svd, tol, random_state, verbose)\u001b[0m\n\u001b[1;32m    152\u001b[0m     \u001b[0mmodes\u001b[0m \u001b[0;34m=\u001b[0m \u001b[0mlist\u001b[0m\u001b[0;34m(\u001b[0m\u001b[0mrange\u001b[0m\u001b[0;34m(\u001b[0m\u001b[0mtl\u001b[0m\u001b[0;34m.\u001b[0m\u001b[0mndim\u001b[0m\u001b[0;34m(\u001b[0m\u001b[0mtensor\u001b[0m\u001b[0;34m)\u001b[0m\u001b[0;34m)\u001b[0m\u001b[0;34m)\u001b[0m\u001b[0;34m\u001b[0m\u001b[0;34m\u001b[0m\u001b[0m\n\u001b[1;32m    153\u001b[0m     return partial_tucker(tensor, modes, rank=rank, ranks=ranks, n_iter_max=n_iter_max, init=init,\n\u001b[0;32m--> 154\u001b[0;31m                           svd=svd, tol=tol, random_state=random_state, verbose=verbose)\n\u001b[0m\u001b[1;32m    155\u001b[0m \u001b[0;34m\u001b[0m\u001b[0m\n\u001b[1;32m    156\u001b[0m \u001b[0;34m\u001b[0m\u001b[0m\n",
      "\u001b[0;32m~/anaconda3/lib/python3.7/site-packages/tensorly/decomposition/_tucker.py\u001b[0m in \u001b[0;36mpartial_tucker\u001b[0;34m(tensor, modes, rank, n_iter_max, init, tol, svd, random_state, verbose, ranks)\u001b[0m\n\u001b[1;32m     88\u001b[0m         \u001b[0;32mfor\u001b[0m \u001b[0mindex\u001b[0m\u001b[0;34m,\u001b[0m \u001b[0mmode\u001b[0m \u001b[0;32min\u001b[0m \u001b[0menumerate\u001b[0m\u001b[0;34m(\u001b[0m\u001b[0mmodes\u001b[0m\u001b[0;34m)\u001b[0m\u001b[0;34m:\u001b[0m\u001b[0;34m\u001b[0m\u001b[0;34m\u001b[0m\u001b[0m\n\u001b[1;32m     89\u001b[0m             \u001b[0mcore_approximation\u001b[0m \u001b[0;34m=\u001b[0m \u001b[0mmulti_mode_dot\u001b[0m\u001b[0;34m(\u001b[0m\u001b[0mtensor\u001b[0m\u001b[0;34m,\u001b[0m \u001b[0mfactors\u001b[0m\u001b[0;34m,\u001b[0m \u001b[0mmodes\u001b[0m\u001b[0;34m=\u001b[0m\u001b[0mmodes\u001b[0m\u001b[0;34m,\u001b[0m \u001b[0mskip\u001b[0m\u001b[0;34m=\u001b[0m\u001b[0mindex\u001b[0m\u001b[0;34m,\u001b[0m \u001b[0mtranspose\u001b[0m\u001b[0;34m=\u001b[0m\u001b[0;32mTrue\u001b[0m\u001b[0;34m)\u001b[0m\u001b[0;34m\u001b[0m\u001b[0;34m\u001b[0m\u001b[0m\n\u001b[0;32m---> 90\u001b[0;31m             \u001b[0meigenvecs\u001b[0m\u001b[0;34m,\u001b[0m \u001b[0m_\u001b[0m\u001b[0;34m,\u001b[0m \u001b[0m_\u001b[0m \u001b[0;34m=\u001b[0m \u001b[0msvd_fun\u001b[0m\u001b[0;34m(\u001b[0m\u001b[0munfold\u001b[0m\u001b[0;34m(\u001b[0m\u001b[0mcore_approximation\u001b[0m\u001b[0;34m,\u001b[0m \u001b[0mmode\u001b[0m\u001b[0;34m)\u001b[0m\u001b[0;34m,\u001b[0m \u001b[0mn_eigenvecs\u001b[0m\u001b[0;34m=\u001b[0m\u001b[0mrank\u001b[0m\u001b[0;34m[\u001b[0m\u001b[0mindex\u001b[0m\u001b[0;34m]\u001b[0m\u001b[0;34m,\u001b[0m \u001b[0mrandom_state\u001b[0m\u001b[0;34m=\u001b[0m\u001b[0mrandom_state\u001b[0m\u001b[0;34m)\u001b[0m\u001b[0;34m\u001b[0m\u001b[0;34m\u001b[0m\u001b[0m\n\u001b[0m\u001b[1;32m     91\u001b[0m             \u001b[0mfactors\u001b[0m\u001b[0;34m[\u001b[0m\u001b[0mindex\u001b[0m\u001b[0;34m]\u001b[0m \u001b[0;34m=\u001b[0m \u001b[0meigenvecs\u001b[0m\u001b[0;34m\u001b[0m\u001b[0;34m\u001b[0m\u001b[0m\n\u001b[1;32m     92\u001b[0m \u001b[0;34m\u001b[0m\u001b[0m\n",
      "\u001b[0;32m~/anaconda3/lib/python3.7/site-packages/tensorly/backend/core.py\u001b[0m in \u001b[0;36mpartial_svd\u001b[0;34m(self, matrix, n_eigenvecs, random_state, **kwargs)\u001b[0m\n\u001b[1;32m    719\u001b[0m                     \u001b[0mnp\u001b[0m\u001b[0;34m.\u001b[0m\u001b[0mdot\u001b[0m\u001b[0;34m(\u001b[0m\u001b[0mmatrix\u001b[0m\u001b[0;34m,\u001b[0m \u001b[0mmatrix\u001b[0m\u001b[0;34m.\u001b[0m\u001b[0mT\u001b[0m\u001b[0;34m.\u001b[0m\u001b[0mconj\u001b[0m\u001b[0;34m(\u001b[0m\u001b[0;34m)\u001b[0m\u001b[0;34m)\u001b[0m\u001b[0;34m,\u001b[0m \u001b[0mk\u001b[0m\u001b[0;34m=\u001b[0m\u001b[0mn_eigenvecs\u001b[0m\u001b[0;34m,\u001b[0m \u001b[0mwhich\u001b[0m\u001b[0;34m=\u001b[0m\u001b[0;34m'LM'\u001b[0m\u001b[0;34m,\u001b[0m \u001b[0mv0\u001b[0m\u001b[0;34m=\u001b[0m\u001b[0mv0\u001b[0m\u001b[0;34m\u001b[0m\u001b[0;34m\u001b[0m\u001b[0m\n\u001b[1;32m    720\u001b[0m                 )\n\u001b[0;32m--> 721\u001b[0;31m                 \u001b[0mS\u001b[0m \u001b[0;34m=\u001b[0m \u001b[0mnp\u001b[0m\u001b[0;34m.\u001b[0m\u001b[0mwhere\u001b[0m\u001b[0;34m(\u001b[0m\u001b[0mnp\u001b[0m\u001b[0;34m.\u001b[0m\u001b[0mabs\u001b[0m\u001b[0;34m(\u001b[0m\u001b[0mS\u001b[0m\u001b[0;34m)\u001b[0m \u001b[0;34m<=\u001b[0m \u001b[0mnp\u001b[0m\u001b[0;34m.\u001b[0m\u001b[0mfinfo\u001b[0m\u001b[0;34m(\u001b[0m\u001b[0mS\u001b[0m\u001b[0;34m.\u001b[0m\u001b[0mdtype\u001b[0m\u001b[0;34m)\u001b[0m\u001b[0;34m.\u001b[0m\u001b[0meps\u001b[0m\u001b[0;34m,\u001b[0m \u001b[0;36m0\u001b[0m\u001b[0;34m,\u001b[0m \u001b[0mnp\u001b[0m\u001b[0;34m.\u001b[0m\u001b[0msqrt\u001b[0m\u001b[0;34m(\u001b[0m\u001b[0mS\u001b[0m\u001b[0;34m)\u001b[0m\u001b[0;34m)\u001b[0m\u001b[0;34m\u001b[0m\u001b[0;34m\u001b[0m\u001b[0m\n\u001b[0m\u001b[1;32m    722\u001b[0m                 \u001b[0mV\u001b[0m \u001b[0;34m=\u001b[0m \u001b[0mnp\u001b[0m\u001b[0;34m.\u001b[0m\u001b[0mdot\u001b[0m\u001b[0;34m(\u001b[0m\u001b[0mmatrix\u001b[0m\u001b[0;34m.\u001b[0m\u001b[0mT\u001b[0m\u001b[0;34m.\u001b[0m\u001b[0mconj\u001b[0m\u001b[0;34m(\u001b[0m\u001b[0;34m)\u001b[0m\u001b[0;34m,\u001b[0m \u001b[0mU\u001b[0m \u001b[0;34m*\u001b[0m \u001b[0mnp\u001b[0m\u001b[0;34m.\u001b[0m\u001b[0mwhere\u001b[0m\u001b[0;34m(\u001b[0m\u001b[0mnp\u001b[0m\u001b[0;34m.\u001b[0m\u001b[0mabs\u001b[0m\u001b[0;34m(\u001b[0m\u001b[0mS\u001b[0m\u001b[0;34m)\u001b[0m \u001b[0;34m<=\u001b[0m \u001b[0mnp\u001b[0m\u001b[0;34m.\u001b[0m\u001b[0mfinfo\u001b[0m\u001b[0;34m(\u001b[0m\u001b[0mS\u001b[0m\u001b[0;34m.\u001b[0m\u001b[0mdtype\u001b[0m\u001b[0;34m)\u001b[0m\u001b[0;34m.\u001b[0m\u001b[0meps\u001b[0m\u001b[0;34m,\u001b[0m \u001b[0;36m0\u001b[0m\u001b[0;34m,\u001b[0m \u001b[0;36m1\u001b[0m\u001b[0;34m/\u001b[0m\u001b[0mS\u001b[0m\u001b[0;34m)\u001b[0m\u001b[0;34m[\u001b[0m\u001b[0;32mNone\u001b[0m\u001b[0;34m,\u001b[0m \u001b[0;34m:\u001b[0m\u001b[0;34m]\u001b[0m\u001b[0;34m)\u001b[0m\u001b[0;34m\u001b[0m\u001b[0;34m\u001b[0m\u001b[0m\n\u001b[1;32m    723\u001b[0m             \u001b[0;32melse\u001b[0m\u001b[0;34m:\u001b[0m\u001b[0;34m\u001b[0m\u001b[0;34m\u001b[0m\u001b[0m\n",
      "\u001b[0;32m~/anaconda3/lib/python3.7/site-packages/numpy/core/getlimits.py\u001b[0m in \u001b[0;36m__new__\u001b[0;34m(cls, dtype)\u001b[0m\n\u001b[1;32m    370\u001b[0m             \u001b[0mdtype\u001b[0m \u001b[0;34m=\u001b[0m \u001b[0mnumeric\u001b[0m\u001b[0;34m.\u001b[0m\u001b[0mdtype\u001b[0m\u001b[0;34m(\u001b[0m\u001b[0mtype\u001b[0m\u001b[0;34m(\u001b[0m\u001b[0mdtype\u001b[0m\u001b[0;34m)\u001b[0m\u001b[0;34m)\u001b[0m\u001b[0;34m\u001b[0m\u001b[0;34m\u001b[0m\u001b[0m\n\u001b[1;32m    371\u001b[0m \u001b[0;34m\u001b[0m\u001b[0m\n\u001b[0;32m--> 372\u001b[0;31m         \u001b[0mobj\u001b[0m \u001b[0;34m=\u001b[0m \u001b[0mcls\u001b[0m\u001b[0;34m.\u001b[0m\u001b[0m_finfo_cache\u001b[0m\u001b[0;34m.\u001b[0m\u001b[0mget\u001b[0m\u001b[0;34m(\u001b[0m\u001b[0mdtype\u001b[0m\u001b[0;34m,\u001b[0m \u001b[0;32mNone\u001b[0m\u001b[0;34m)\u001b[0m\u001b[0;34m\u001b[0m\u001b[0;34m\u001b[0m\u001b[0m\n\u001b[0m\u001b[1;32m    373\u001b[0m         \u001b[0;32mif\u001b[0m \u001b[0mobj\u001b[0m \u001b[0;32mis\u001b[0m \u001b[0;32mnot\u001b[0m \u001b[0;32mNone\u001b[0m\u001b[0;34m:\u001b[0m\u001b[0;34m\u001b[0m\u001b[0;34m\u001b[0m\u001b[0m\n\u001b[1;32m    374\u001b[0m             \u001b[0;32mreturn\u001b[0m \u001b[0mobj\u001b[0m\u001b[0;34m\u001b[0m\u001b[0;34m\u001b[0m\u001b[0m\n",
      "\u001b[0;31mKeyboardInterrupt\u001b[0m: "
     ]
    }
   ],
   "source": [
    "def run_xgb(window_size, predict_at, reduced_ranks = [5,7,10,10]):\n",
    "    #get training and test tensors\n",
    "    ##maybe we don't have to call this for each prediction period, since x is the same, just y different? \n",
    "    train_tensors, test_tensors = Prepro.process(vision_data, y, train_test_split, predict_at = predict_at, window_size=window_size)\n",
    "    x_viz_train, x_stat_train, tgt_intensity_cat_train, tgt_intensity_cat_baseline_train, tgt_displacement_train, tgt_intensity_train = train_tensors\n",
    "    x_viz_test, x_stat_test, tgt_intensity_cat_test, tgt_intensity_cat_baseline_test, tgt_displacement_test, tgt_intensity_test = test_tensors\n",
    "    \n",
    "    #concat viz with tabular \n",
    "    X_train, compress_error =concat_stat_viz(x_stat_train, x_viz_train, reduced_ranks)\n",
    "    X_test, _ =concat_stat_viz(x_stat_test, x_viz_test, reduced_ranks)\n",
    "    \n",
    "    #run XGB on intensity\n",
    "    xgb = XGBRegressor(max_depth=max_depth, n_estimators=80)\n",
    "    xgb.fit(X_train, tgt_intensity_train)\n",
    "    yhat = xgb.predict(X_test)\n",
    "    score_xgb = mean_absolute_error(tgt_intensity_test, yhat)    \n",
    "    \n",
    "    #run XGB on displacement \n",
    "    xgb2 = XGBRegressor(max_depth=5, n_estimators=80)\n",
    "    xgb2.fit(X_train, tgt_displacement_train)\n",
    "    yhat2 = xgb.predict(X_test)\n",
    "    disp_xgb = mean_absolute_error(tgt_displacement_test, yhat2) \n",
    "    disp_base = mean_absolute_error(tgt_intensity_cat_test, tgt_displacement_baseline_test)\n",
    "    \n",
    "    return intensity_xgb, intensity_base, disp_xgb, disp_base, compress_error \n",
    "\n",
    "    \n",
    "run_xgb(window_size=8, predict_at=2, reduced_ranks = [5,7,10,10])"
   ]
  },
  {
   "cell_type": "code",
   "execution_count": 4,
   "metadata": {},
   "outputs": [
    {
     "data": {
      "text/plain": [
       "(25, 25)"
      ]
     },
     "execution_count": 4,
     "metadata": {},
     "output_type": "execute_result"
    }
   ],
   "source": [
    "# # #vision data to array data using tensor decomp \n",
    "# # def viz_to_arr(tensor, reduced_ranks):\n",
    "# #     #low rank decomp \n",
    "# #     core, factors = tucker(tensor, reduced_ranks)\n",
    "# #     out_arr = core.flatten()\n",
    "    \n",
    "# #     #calculate approximation error\n",
    "# #     approx = tucker_to_tensor(core, factors)\n",
    "# #     approx_error = tl.norm(approx-tensor)/tl.norm(tensor)*100  #euclidean norm \n",
    "    \n",
    "# #     return out_arr,  approx_error\n",
    "\n",
    "# out_arr, error = viz_to_arr(x_viz_train[50].numpy(), [5,7,10,10])\n",
    "# print(error)"
   ]
  },
  {
   "cell_type": "code",
   "execution_count": 5,
   "metadata": {},
   "outputs": [
    {
     "data": {
      "text/plain": [
       "tensor([ 6.8000e+00, -1.7200e+02,  5.5000e+01,  9.9400e+02,  2.1470e+03,\n",
       "         8.0000e+00,  3.2100e+02,  1.0000e+00,  4.1247e-01, -3.0800e-01])"
      ]
     },
     "execution_count": 5,
     "metadata": {},
     "output_type": "execute_result"
    }
   ],
   "source": [
    "x_stat_train[0,1,:]\n",
    "#'LAT', 'LON', 'WMO_WIND', 'WMO_PRES', 'DIST2LAND', 'STORM_SPEED', 'STORM_DIR', \n",
    "\n",
    "\n",
    "#'LAT', 'LON', 'WMO_WIND', 'WMO_PRES', 'DIST2LAND',\n",
    "#'STORM_SPEED', 'STORM_DIR', 'storm_category', 'basin_EP', 'basin_NI',\n",
    "#'basin_SI', 'basin_SP', 'basin_WP', 'nature_DS', 'nature_ET',\n",
    "#'nature_MX', 'nature_NR', 'nature_SS', 'nature_TS'\n",
    "#'STORM CATEGORY', \n",
    "#'STORM_DISPLACEMENT_X', 'STORM_DISPLACEMENT_Y'"
   ]
  },
  {
   "cell_type": "code",
   "execution_count": 32,
   "metadata": {},
   "outputs": [
    {
     "data": {
      "text/plain": [
       "torch.Size([2514, 2])"
      ]
     },
     "execution_count": 32,
     "metadata": {},
     "output_type": "execute_result"
    }
   ],
   "source": [
    "tgt_displacement_train.shape"
   ]
  },
  {
   "cell_type": "code",
   "execution_count": 19,
   "metadata": {},
   "outputs": [
    {
     "data": {
      "text/plain": [
       "torch.Size([2514, 8, 9, 25, 25])"
      ]
     },
     "execution_count": 19,
     "metadata": {},
     "output_type": "execute_result"
    }
   ],
   "source": [
    "x_viz_train.shape"
   ]
  },
  {
   "cell_type": "code",
   "execution_count": 57,
   "metadata": {},
   "outputs": [
    {
     "data": {
      "text/plain": [
       "<matplotlib.image.AxesImage at 0x1c4a648320>"
      ]
     },
     "execution_count": 57,
     "metadata": {},
     "output_type": "execute_result"
    },
    {
     "data": {
      "image/png": "[encoded data removed]",
      "text/plain": [
       "<Figure size 432x288 with 1 Axes>"
      ]
     },
     "metadata": {
      "needs_background": "light"
     },
     "output_type": "display_data"
    }
   ],
   "source": [
    "plt.imshow(x_viz_train[20,7,5,:,:])"
   ]
  },
  {
   "cell_type": "code",
   "execution_count": 35,
   "metadata": {},
   "outputs": [],
   "source": [
    "import tensorly as tl #tensorly package\n",
    "from tensorly.decomposition import tucker #tucker decomp package\n",
    "# import hosvd as hosvd\n",
    "test_tensor = x_viz_train[30].numpy()\n",
    "# print(test_tensor.shape)\n",
    "\n",
    "# core, factors = tucker(test_tensor)\n",
    "# print(core.shape)\n",
    "# norms = get_norms_4d(test_tensor)\n",
    "# print((norms.cumsum()/norms.sum()).head(10)) #'cumsum of norms'\n",
    "\n",
    "# #try with rank [5,5,5]\n",
    "# core, factors = tucker(test_tensor, [5,5,5,5])\n",
    "# core.flatten()\n",
    "\n",
    "# #reconstruction accuracy: \n",
    "# approx = tucker_to_tensor(core, factors)\n",
    "# # print(hosvd.error(test_tensor, approx)) \n",
    "\n",
    "#function to calculate dimensional norms  \n",
    "def get_norms_4d(tensor):   \n",
    "  \n",
    "    tensor_shape = tensor.shape\n",
    "    dim = len(tensor.shape) \n",
    "    \n",
    "    core, _ = tucker(tensor, ranks=tensor_shape)\n",
    "     \n",
    "    norm0=[]\n",
    "    for i in range(core.shape[0]):\n",
    "        norm0.append(tl.norm(core[i,:,:,:]))  \n",
    "\n",
    "    norm1=[]\n",
    "    for i in range(core.shape[1]):\n",
    "        norm1.append(tl.norm(core[:,i,:,:]))  \n",
    "\n",
    "    norm2=[]\n",
    "    for i in range(core.shape[2]):\n",
    "        norm2.append(tl.norm(core[:,:,i,:]))  \n",
    "    \n",
    "    norm3 = [] \n",
    "    for i in range(core.shape[2]):\n",
    "        norm3.append(tl.norm(core[:,:,:,i])) \n",
    "    \n",
    "    norms = pd.concat([pd.Series(norm0),pd.Series(norm1),pd.Series(norm2),pd.Series(norm3)], axis=1) \n",
    "    norms_cumsum = norms.cumsum()/norms.sum()#'cumsum of norms'\n",
    "    return norms_cumsum \n",
    "\n",
    "#function reconstruct tensor given core and factors\n",
    "def tucker_to_tensor(core, factors):\n",
    "    tensor = core.copy()\n",
    "    dim = len(core.shape)\n",
    "    for i in range(dim):\n",
    "        tensor = tl.tenalg.mode_dot(tensor, factors[i], mode=i)\n",
    "    return tensor\n"
   ]
  },
  {
   "cell_type": "code",
   "execution_count": 33,
   "metadata": {},
   "outputs": [
    {
     "name": "stdout",
     "output_type": "stream",
     "text": [
      "7.672566920518875\n"
     ]
    }
   ],
   "source": [
    "#vision data to array data using tensor decomp \n",
    "def viz_to_arr(tensor, reduced_ranks):\n",
    "    #low rank decomp \n",
    "    core, factors = tucker(tensor, reduced_ranks)\n",
    "    out_arr = core.flatten()\n",
    "    \n",
    "    #calculate approximation error\n",
    "    approx = tucker_to_tensor(core, factors)\n",
    "    approx_error = tl.norm(approx-tensor)/tl.norm(tensor)*100  #euclidean norm \n",
    "    \n",
    "    return out_arr,  approx_error\n",
    "\n",
    "out_arr, error = viz_to_arr(x_viz_train[50].numpy(), [5,7,10,10])\n",
    "print(error)"
   ]
  },
  {
   "cell_type": "code",
   "execution_count": 36,
   "metadata": {},
   "outputs": [
    {
     "data": {
      "text/html": [
       "<div>\n",
       "<style scoped>\n",
       "    .dataframe tbody tr th:only-of-type {\n",
       "        vertical-align: middle;\n",
       "    }\n",
       "\n",
       "    .dataframe tbody tr th {\n",
       "        vertical-align: top;\n",
       "    }\n",
       "\n",
       "    .dataframe thead th {\n",
       "        text-align: right;\n",
       "    }\n",
       "</style>\n",
       "<table border=\"1\" class=\"dataframe\">\n",
       "  <thead>\n",
       "    <tr style=\"text-align: right;\">\n",
       "      <th></th>\n",
       "      <th>0</th>\n",
       "      <th>1</th>\n",
       "      <th>2</th>\n",
       "      <th>3</th>\n",
       "    </tr>\n",
       "  </thead>\n",
       "  <tbody>\n",
       "    <tr>\n",
       "      <th>0</th>\n",
       "      <td>0.768218</td>\n",
       "      <td>0.486046</td>\n",
       "      <td>0.485992</td>\n",
       "      <td>0.531203</td>\n",
       "    </tr>\n",
       "    <tr>\n",
       "      <th>1</th>\n",
       "      <td>0.867152</td>\n",
       "      <td>0.629811</td>\n",
       "      <td>0.643634</td>\n",
       "      <td>0.671907</td>\n",
       "    </tr>\n",
       "    <tr>\n",
       "      <th>2</th>\n",
       "      <td>0.908902</td>\n",
       "      <td>0.762647</td>\n",
       "      <td>0.740847</td>\n",
       "      <td>0.752590</td>\n",
       "    </tr>\n",
       "    <tr>\n",
       "      <th>3</th>\n",
       "      <td>0.937377</td>\n",
       "      <td>0.826369</td>\n",
       "      <td>0.791783</td>\n",
       "      <td>0.815600</td>\n",
       "    </tr>\n",
       "    <tr>\n",
       "      <th>4</th>\n",
       "      <td>0.961314</td>\n",
       "      <td>0.884546</td>\n",
       "      <td>0.827399</td>\n",
       "      <td>0.846564</td>\n",
       "    </tr>\n",
       "    <tr>\n",
       "      <th>5</th>\n",
       "      <td>0.977005</td>\n",
       "      <td>0.928143</td>\n",
       "      <td>0.853319</td>\n",
       "      <td>0.874254</td>\n",
       "    </tr>\n",
       "    <tr>\n",
       "      <th>6</th>\n",
       "      <td>0.989584</td>\n",
       "      <td>0.963088</td>\n",
       "      <td>0.873027</td>\n",
       "      <td>0.891845</td>\n",
       "    </tr>\n",
       "    <tr>\n",
       "      <th>7</th>\n",
       "      <td>1.000000</td>\n",
       "      <td>0.991416</td>\n",
       "      <td>0.890445</td>\n",
       "      <td>0.906335</td>\n",
       "    </tr>\n",
       "    <tr>\n",
       "      <th>8</th>\n",
       "      <td>NaN</td>\n",
       "      <td>1.000000</td>\n",
       "      <td>0.904175</td>\n",
       "      <td>0.918492</td>\n",
       "    </tr>\n",
       "    <tr>\n",
       "      <th>9</th>\n",
       "      <td>NaN</td>\n",
       "      <td>NaN</td>\n",
       "      <td>0.917839</td>\n",
       "      <td>0.929491</td>\n",
       "    </tr>\n",
       "    <tr>\n",
       "      <th>10</th>\n",
       "      <td>NaN</td>\n",
       "      <td>NaN</td>\n",
       "      <td>0.928717</td>\n",
       "      <td>0.938784</td>\n",
       "    </tr>\n",
       "    <tr>\n",
       "      <th>11</th>\n",
       "      <td>NaN</td>\n",
       "      <td>NaN</td>\n",
       "      <td>0.938114</td>\n",
       "      <td>0.947473</td>\n",
       "    </tr>\n",
       "    <tr>\n",
       "      <th>12</th>\n",
       "      <td>NaN</td>\n",
       "      <td>NaN</td>\n",
       "      <td>0.947484</td>\n",
       "      <td>0.954630</td>\n",
       "    </tr>\n",
       "    <tr>\n",
       "      <th>13</th>\n",
       "      <td>NaN</td>\n",
       "      <td>NaN</td>\n",
       "      <td>0.955190</td>\n",
       "      <td>0.961204</td>\n",
       "    </tr>\n",
       "    <tr>\n",
       "      <th>14</th>\n",
       "      <td>NaN</td>\n",
       "      <td>NaN</td>\n",
       "      <td>0.961805</td>\n",
       "      <td>0.966880</td>\n",
       "    </tr>\n",
       "    <tr>\n",
       "      <th>15</th>\n",
       "      <td>NaN</td>\n",
       "      <td>NaN</td>\n",
       "      <td>0.968125</td>\n",
       "      <td>0.971824</td>\n",
       "    </tr>\n",
       "    <tr>\n",
       "      <th>16</th>\n",
       "      <td>NaN</td>\n",
       "      <td>NaN</td>\n",
       "      <td>0.973685</td>\n",
       "      <td>0.976385</td>\n",
       "    </tr>\n",
       "    <tr>\n",
       "      <th>17</th>\n",
       "      <td>NaN</td>\n",
       "      <td>NaN</td>\n",
       "      <td>0.978541</td>\n",
       "      <td>0.980380</td>\n",
       "    </tr>\n",
       "    <tr>\n",
       "      <th>18</th>\n",
       "      <td>NaN</td>\n",
       "      <td>NaN</td>\n",
       "      <td>0.982755</td>\n",
       "      <td>0.983882</td>\n",
       "    </tr>\n",
       "    <tr>\n",
       "      <th>19</th>\n",
       "      <td>NaN</td>\n",
       "      <td>NaN</td>\n",
       "      <td>0.986646</td>\n",
       "      <td>0.987284</td>\n",
       "    </tr>\n",
       "    <tr>\n",
       "      <th>20</th>\n",
       "      <td>NaN</td>\n",
       "      <td>NaN</td>\n",
       "      <td>0.990404</td>\n",
       "      <td>0.990375</td>\n",
       "    </tr>\n",
       "    <tr>\n",
       "      <th>21</th>\n",
       "      <td>NaN</td>\n",
       "      <td>NaN</td>\n",
       "      <td>0.993409</td>\n",
       "      <td>0.993301</td>\n",
       "    </tr>\n",
       "    <tr>\n",
       "      <th>22</th>\n",
       "      <td>NaN</td>\n",
       "      <td>NaN</td>\n",
       "      <td>0.996274</td>\n",
       "      <td>0.995905</td>\n",
       "    </tr>\n",
       "    <tr>\n",
       "      <th>23</th>\n",
       "      <td>NaN</td>\n",
       "      <td>NaN</td>\n",
       "      <td>0.998490</td>\n",
       "      <td>0.998294</td>\n",
       "    </tr>\n",
       "    <tr>\n",
       "      <th>24</th>\n",
       "      <td>NaN</td>\n",
       "      <td>NaN</td>\n",
       "      <td>1.000000</td>\n",
       "      <td>1.000000</td>\n",
       "    </tr>\n",
       "  </tbody>\n",
       "</table>\n",
       "</div>"
      ],
      "text/plain": [
       "           0         1         2         3\n",
       "0   0.768218  0.486046  0.485992  0.531203\n",
       "1   0.867152  0.629811  0.643634  0.671907\n",
       "2   0.908902  0.762647  0.740847  0.752590\n",
       "3   0.937377  0.826369  0.791783  0.815600\n",
       "4   0.961314  0.884546  0.827399  0.846564\n",
       "5   0.977005  0.928143  0.853319  0.874254\n",
       "6   0.989584  0.963088  0.873027  0.891845\n",
       "7   1.000000  0.991416  0.890445  0.906335\n",
       "8        NaN  1.000000  0.904175  0.918492\n",
       "9        NaN       NaN  0.917839  0.929491\n",
       "10       NaN       NaN  0.928717  0.938784\n",
       "11       NaN       NaN  0.938114  0.947473\n",
       "12       NaN       NaN  0.947484  0.954630\n",
       "13       NaN       NaN  0.955190  0.961204\n",
       "14       NaN       NaN  0.961805  0.966880\n",
       "15       NaN       NaN  0.968125  0.971824\n",
       "16       NaN       NaN  0.973685  0.976385\n",
       "17       NaN       NaN  0.978541  0.980380\n",
       "18       NaN       NaN  0.982755  0.983882\n",
       "19       NaN       NaN  0.986646  0.987284\n",
       "20       NaN       NaN  0.990404  0.990375\n",
       "21       NaN       NaN  0.993409  0.993301\n",
       "22       NaN       NaN  0.996274  0.995905\n",
       "23       NaN       NaN  0.998490  0.998294\n",
       "24       NaN       NaN  1.000000  1.000000"
      ]
     },
     "execution_count": 36,
     "metadata": {},
     "output_type": "execute_result"
    }
   ],
   "source": [
    "get_norms_4d(x_viz_train[50].numpy())"
   ]
  },
  {
   "cell_type": "code",
   "execution_count": 34,
   "metadata": {},
   "outputs": [
    {
     "name": "stdout",
     "output_type": "stream",
     "text": [
      "average tensor approx pct error is 16.294653242929595\n",
      "average tensor approx pct error is 15.749946799845878\n"
     ]
    }
   ],
   "source": [
    "#function intaking x_stat, x_viz and concat them according to ranks \n",
    "def concat_viz_tensor(x_stat_train, x_viz_train, reduced_ranks): #third arg is vision tensor's dimensions \n",
    "    #get tabular data \n",
    "    X_train = x_stat_train.reshape(x_stat_train.shape[0], -1)\n",
    "\n",
    "    #get vision data according to tensor_ranks \n",
    "    viz = np.zeros((x_viz_train.shape[0], np.prod(reduced_ranks)))\n",
    "    avg_error = 0 \n",
    "    for i in range(x_viz_train.shape[0]):\n",
    "        viz[i,:], error = viz_to_arr(x_viz_train[i].numpy(), reduced_ranks)\n",
    "        avg_error += error \n",
    "    print('average tensor approx pct error is', avg_error/x_viz_train.shape[0])   \n",
    "    X_train = np.concatenate((X_train.numpy(), viz), axis=1)\n",
    "    return X_train \n",
    "\n",
    "#concat viz with tabular \n",
    "X_train =concat_viz_tensor(x_stat_train, x_viz_train, reduced_ranks=[5,7,10,10])\n",
    "X_test =concat_viz_tensor(x_stat_test, x_viz_test, reduced_ranks=[5,7,10,10])"
   ]
  },
  {
   "cell_type": "code",
   "execution_count": 37,
   "metadata": {},
   "outputs": [
    {
     "name": "stdout",
     "output_type": "stream",
     "text": [
      "XGB score 0.5453100158982512\n",
      "Baseline score 0.45151033386327505\n"
     ]
    }
   ],
   "source": [
    "xgb = XGBClassifier(max_depth=5, n_estimators=80)\n",
    "xgb.fit(X_train, tgt_intensity_cat_train)\n",
    "yhat = xgb.predict(X_test)\n",
    "print(\"XGB score\", accuracy_score(tgt_intensity_cat_test, yhat))\n",
    "print(\"Baseline score\", accuracy_score(tgt_intensity_cat_test, tgt_intensity_cat_baseline_test))"
   ]
  },
  {
   "cell_type": "code",
   "execution_count": 8,
   "metadata": {},
   "outputs": [],
   "source": []
  },
  {
   "cell_type": "code",
   "execution_count": 34,
   "metadata": {},
   "outputs": [
    {
     "data": {
      "text/plain": [
       "torch.Size([2514, 8, 9, 25, 25])"
      ]
     },
     "execution_count": 34,
     "metadata": {},
     "output_type": "execute_result"
    }
   ],
   "source": [
    "x_viz_train.shape\n",
    "#samples * timesteps * number of maps * size of map * size of map"
   ]
  },
  {
   "cell_type": "code",
   "execution_count": 35,
   "metadata": {},
   "outputs": [
    {
     "data": {
      "text/plain": [
       "torch.Size([2514, 8, 10])"
      ]
     },
     "execution_count": 35,
     "metadata": {},
     "output_type": "execute_result"
    }
   ],
   "source": [
    "x_stat_train.shape\n",
    "#samples * number of past timesteps * number of features"
   ]
  },
  {
   "cell_type": "code",
   "execution_count": 42,
   "metadata": {},
   "outputs": [
    {
     "data": {
      "text/plain": [
       "(83, 60, 11)"
      ]
     },
     "execution_count": 42,
     "metadata": {},
     "output_type": "execute_result"
    }
   ],
   "source": [
    "y.shape\n",
    "#number of storms * number of timesteps * number of features"
   ]
  },
  {
   "cell_type": "code",
   "execution_count": 43,
   "metadata": {},
   "outputs": [
    {
     "data": {
      "text/plain": [
       "torch.Size([2514, 80])"
      ]
     },
     "execution_count": 43,
     "metadata": {},
     "output_type": "execute_result"
    }
   ],
   "source": [
    "X_train = x_stat_train.reshape(x_stat_train.shape[0], -1)\n",
    "X_test = x_stat_test.reshape(x_stat_test.shape[0], -1)\n",
    "X_train.shape"
   ]
  },
  {
   "cell_type": "code",
   "execution_count": 44,
   "metadata": {},
   "outputs": [
    {
     "name": "stdout",
     "output_type": "stream",
     "text": [
      "torch.Size([2514, 45000])\n",
      "torch.Size([629, 45000])\n"
     ]
    }
   ],
   "source": [
    "X_train_vision = x_viz_train.reshape(x_viz_train.shape[0], -1)\n",
    "X_test_vision = x_viz_test.reshape(x_viz_test.shape[0], -1)\n",
    "print(X_train_vision.shape)\n",
    "print(X_test_vision.shape)"
   ]
  },
  {
   "cell_type": "code",
   "execution_count": 39,
   "metadata": {},
   "outputs": [],
   "source": [
    "X_train_tab_vision = np.concatenate((X_train, X_train_vision), axis = 1)\n",
    "X_test_tab_vision = np.concatenate((X_test, X_test_vision), axis = 1)"
   ]
  },
  {
   "cell_type": "code",
   "execution_count": 40,
   "metadata": {},
   "outputs": [
    {
     "name": "stdout",
     "output_type": "stream",
     "text": [
      "torch.Size([2514])\n",
      "torch.Size([629])\n"
     ]
    }
   ],
   "source": [
    "print(tgt_intensity_cat_train.shape)\n",
    "print(tgt_intensity_cat_test.shape)"
   ]
  },
  {
   "cell_type": "code",
   "execution_count": 41,
   "metadata": {},
   "outputs": [
    {
     "name": "stdout",
     "output_type": "stream",
     "text": [
      "XGB score 0.5405405405405406\n",
      "Baseline score 0.45151033386327505\n"
     ]
    }
   ],
   "source": [
    "xgb = XGBClassifier(max_depth=5, n_estimators=80)\n",
    "xgb.fit(X_train, tgt_intensity_cat_train)\n",
    "yhat = xgb.predict(X_test)\n",
    "print(\"XGB score\", accuracy_score(tgt_intensity_cat_test, yhat))\n",
    "print(\"Baseline score\", accuracy_score(tgt_intensity_cat_test, tgt_intensity_cat_baseline_test))"
   ]
  },
  {
   "cell_type": "code",
   "execution_count": 139,
   "metadata": {},
   "outputs": [
    {
     "name": "stdout",
     "output_type": "stream",
     "text": [
      "XGB score 0.5405405405405406\n",
      "Baseline score 0.45151033386327505\n"
     ]
    }
   ],
   "source": [
    "xgb = XGBClassifier(max_depth=5, n_estimators=80)\n",
    "xgb.fit(x_stat_train.reshape(x_stat_train.shape[0], -1), tgt_intensity_cat_train)\n",
    "yhat = xgb.predict(x_stat_test.reshape(x_stat_test.shape[0], -1))\n",
    "print(\"XGB score\", accuracy_score(tgt_intensity_cat_test, yhat))\n",
    "print(\"Baseline score\", accuracy_score(tgt_intensity_cat_test, tgt_intensity_cat_baseline_test))"
   ]
  },
  {
   "cell_type": "code",
   "execution_count": 45,
   "metadata": {},
   "outputs": [
    {
     "ename": "KeyboardInterrupt",
     "evalue": "",
     "output_type": "error",
     "traceback": [
      "\u001b[0;31m---------------------------------------------------------------------------\u001b[0m",
      "\u001b[0;31mKeyboardInterrupt\u001b[0m                         Traceback (most recent call last)",
      "\u001b[0;32m<ipython-input-45-47b2e8190d0b>\u001b[0m in \u001b[0;36m<module>\u001b[0;34m\u001b[0m\n\u001b[1;32m      1\u001b[0m \u001b[0mxgb\u001b[0m \u001b[0;34m=\u001b[0m \u001b[0mXGBClassifier\u001b[0m\u001b[0;34m(\u001b[0m\u001b[0mmax_depth\u001b[0m\u001b[0;34m=\u001b[0m\u001b[0;36m6\u001b[0m\u001b[0;34m,\u001b[0m \u001b[0mn_estimators\u001b[0m\u001b[0;34m=\u001b[0m\u001b[0;36m200\u001b[0m\u001b[0;34m)\u001b[0m\u001b[0;34m\u001b[0m\u001b[0;34m\u001b[0m\u001b[0m\n\u001b[0;32m----> 2\u001b[0;31m \u001b[0mxgb\u001b[0m\u001b[0;34m.\u001b[0m\u001b[0mfit\u001b[0m\u001b[0;34m(\u001b[0m\u001b[0mX_train_tab_vision\u001b[0m\u001b[0;34m,\u001b[0m \u001b[0mtgt_intensity_cat_train\u001b[0m\u001b[0;34m)\u001b[0m\u001b[0;34m\u001b[0m\u001b[0;34m\u001b[0m\u001b[0m\n\u001b[0m\u001b[1;32m      3\u001b[0m \u001b[0myhat\u001b[0m \u001b[0;34m=\u001b[0m \u001b[0mxgb\u001b[0m\u001b[0;34m.\u001b[0m\u001b[0mpredict\u001b[0m\u001b[0;34m(\u001b[0m\u001b[0mX_test_tab_vision\u001b[0m\u001b[0;34m)\u001b[0m\u001b[0;34m\u001b[0m\u001b[0;34m\u001b[0m\u001b[0m\n\u001b[1;32m      4\u001b[0m \u001b[0mprint\u001b[0m\u001b[0;34m(\u001b[0m\u001b[0;34m\"XGB score\"\u001b[0m\u001b[0;34m,\u001b[0m \u001b[0maccuracy_score\u001b[0m\u001b[0;34m(\u001b[0m\u001b[0mtgt_intensity_cat_test\u001b[0m\u001b[0;34m,\u001b[0m \u001b[0myhat\u001b[0m\u001b[0;34m)\u001b[0m\u001b[0;34m)\u001b[0m\u001b[0;34m\u001b[0m\u001b[0;34m\u001b[0m\u001b[0m\n\u001b[1;32m      5\u001b[0m \u001b[0mprint\u001b[0m\u001b[0;34m(\u001b[0m\u001b[0;34m\"Baseline score\"\u001b[0m\u001b[0;34m,\u001b[0m \u001b[0maccuracy_score\u001b[0m\u001b[0;34m(\u001b[0m\u001b[0mtgt_intensity_cat_test\u001b[0m\u001b[0;34m,\u001b[0m \u001b[0mtgt_intensity_cat_baseline_test\u001b[0m\u001b[0;34m)\u001b[0m\u001b[0;34m)\u001b[0m\u001b[0;34m\u001b[0m\u001b[0;34m\u001b[0m\u001b[0m\n",
      "\u001b[0;32m~/anaconda3/lib/python3.7/site-packages/xgboost/sklearn.py\u001b[0m in \u001b[0;36mfit\u001b[0;34m(self, X, y, sample_weight, base_margin, eval_set, eval_metric, early_stopping_rounds, verbose, xgb_model, sample_weight_eval_set, callbacks)\u001b[0m\n\u001b[1;32m    821\u001b[0m                               \u001b[0mevals_result\u001b[0m\u001b[0;34m=\u001b[0m\u001b[0mevals_result\u001b[0m\u001b[0;34m,\u001b[0m \u001b[0mobj\u001b[0m\u001b[0;34m=\u001b[0m\u001b[0mobj\u001b[0m\u001b[0;34m,\u001b[0m \u001b[0mfeval\u001b[0m\u001b[0;34m=\u001b[0m\u001b[0mfeval\u001b[0m\u001b[0;34m,\u001b[0m\u001b[0;34m\u001b[0m\u001b[0;34m\u001b[0m\u001b[0m\n\u001b[1;32m    822\u001b[0m                               \u001b[0mverbose_eval\u001b[0m\u001b[0;34m=\u001b[0m\u001b[0mverbose\u001b[0m\u001b[0;34m,\u001b[0m \u001b[0mxgb_model\u001b[0m\u001b[0;34m=\u001b[0m\u001b[0mxgb_model\u001b[0m\u001b[0;34m,\u001b[0m\u001b[0;34m\u001b[0m\u001b[0;34m\u001b[0m\u001b[0m\n\u001b[0;32m--> 823\u001b[0;31m                               callbacks=callbacks)\n\u001b[0m\u001b[1;32m    824\u001b[0m \u001b[0;34m\u001b[0m\u001b[0m\n\u001b[1;32m    825\u001b[0m         \u001b[0mself\u001b[0m\u001b[0;34m.\u001b[0m\u001b[0mobjective\u001b[0m \u001b[0;34m=\u001b[0m \u001b[0mxgb_options\u001b[0m\u001b[0;34m[\u001b[0m\u001b[0;34m\"objective\"\u001b[0m\u001b[0;34m]\u001b[0m\u001b[0;34m\u001b[0m\u001b[0;34m\u001b[0m\u001b[0m\n",
      "\u001b[0;32m~/anaconda3/lib/python3.7/site-packages/xgboost/training.py\u001b[0m in \u001b[0;36mtrain\u001b[0;34m(params, dtrain, num_boost_round, evals, obj, feval, maximize, early_stopping_rounds, evals_result, verbose_eval, xgb_model, callbacks)\u001b[0m\n\u001b[1;32m    207\u001b[0m                            \u001b[0mevals\u001b[0m\u001b[0;34m=\u001b[0m\u001b[0mevals\u001b[0m\u001b[0;34m,\u001b[0m\u001b[0;34m\u001b[0m\u001b[0;34m\u001b[0m\u001b[0m\n\u001b[1;32m    208\u001b[0m                            \u001b[0mobj\u001b[0m\u001b[0;34m=\u001b[0m\u001b[0mobj\u001b[0m\u001b[0;34m,\u001b[0m \u001b[0mfeval\u001b[0m\u001b[0;34m=\u001b[0m\u001b[0mfeval\u001b[0m\u001b[0;34m,\u001b[0m\u001b[0;34m\u001b[0m\u001b[0;34m\u001b[0m\u001b[0m\n\u001b[0;32m--> 209\u001b[0;31m                            xgb_model=xgb_model, callbacks=callbacks)\n\u001b[0m\u001b[1;32m    210\u001b[0m \u001b[0;34m\u001b[0m\u001b[0m\n\u001b[1;32m    211\u001b[0m \u001b[0;34m\u001b[0m\u001b[0m\n",
      "\u001b[0;32m~/anaconda3/lib/python3.7/site-packages/xgboost/training.py\u001b[0m in \u001b[0;36m_train_internal\u001b[0;34m(params, dtrain, num_boost_round, evals, obj, feval, xgb_model, callbacks)\u001b[0m\n\u001b[1;32m     72\u001b[0m         \u001b[0;31m# Skip the first update if it is a recovery step.\u001b[0m\u001b[0;34m\u001b[0m\u001b[0;34m\u001b[0m\u001b[0;34m\u001b[0m\u001b[0m\n\u001b[1;32m     73\u001b[0m         \u001b[0;32mif\u001b[0m \u001b[0mversion\u001b[0m \u001b[0;34m%\u001b[0m \u001b[0;36m2\u001b[0m \u001b[0;34m==\u001b[0m \u001b[0;36m0\u001b[0m\u001b[0;34m:\u001b[0m\u001b[0;34m\u001b[0m\u001b[0;34m\u001b[0m\u001b[0m\n\u001b[0;32m---> 74\u001b[0;31m             \u001b[0mbst\u001b[0m\u001b[0;34m.\u001b[0m\u001b[0mupdate\u001b[0m\u001b[0;34m(\u001b[0m\u001b[0mdtrain\u001b[0m\u001b[0;34m,\u001b[0m \u001b[0mi\u001b[0m\u001b[0;34m,\u001b[0m \u001b[0mobj\u001b[0m\u001b[0;34m)\u001b[0m\u001b[0;34m\u001b[0m\u001b[0;34m\u001b[0m\u001b[0m\n\u001b[0m\u001b[1;32m     75\u001b[0m             \u001b[0mbst\u001b[0m\u001b[0;34m.\u001b[0m\u001b[0msave_rabit_checkpoint\u001b[0m\u001b[0;34m(\u001b[0m\u001b[0;34m)\u001b[0m\u001b[0;34m\u001b[0m\u001b[0;34m\u001b[0m\u001b[0m\n\u001b[1;32m     76\u001b[0m             \u001b[0mversion\u001b[0m \u001b[0;34m+=\u001b[0m \u001b[0;36m1\u001b[0m\u001b[0;34m\u001b[0m\u001b[0;34m\u001b[0m\u001b[0m\n",
      "\u001b[0;32m~/anaconda3/lib/python3.7/site-packages/xgboost/core.py\u001b[0m in \u001b[0;36mupdate\u001b[0;34m(self, dtrain, iteration, fobj)\u001b[0m\n\u001b[1;32m   1247\u001b[0m             _check_call(_LIB.XGBoosterUpdateOneIter(self.handle,\n\u001b[1;32m   1248\u001b[0m                                                     \u001b[0mctypes\u001b[0m\u001b[0;34m.\u001b[0m\u001b[0mc_int\u001b[0m\u001b[0;34m(\u001b[0m\u001b[0miteration\u001b[0m\u001b[0;34m)\u001b[0m\u001b[0;34m,\u001b[0m\u001b[0;34m\u001b[0m\u001b[0;34m\u001b[0m\u001b[0m\n\u001b[0;32m-> 1249\u001b[0;31m                                                     dtrain.handle))\n\u001b[0m\u001b[1;32m   1250\u001b[0m         \u001b[0;32melse\u001b[0m\u001b[0;34m:\u001b[0m\u001b[0;34m\u001b[0m\u001b[0;34m\u001b[0m\u001b[0m\n\u001b[1;32m   1251\u001b[0m             \u001b[0mpred\u001b[0m \u001b[0;34m=\u001b[0m \u001b[0mself\u001b[0m\u001b[0;34m.\u001b[0m\u001b[0mpredict\u001b[0m\u001b[0;34m(\u001b[0m\u001b[0mdtrain\u001b[0m\u001b[0;34m,\u001b[0m \u001b[0mtraining\u001b[0m\u001b[0;34m=\u001b[0m\u001b[0;32mTrue\u001b[0m\u001b[0;34m)\u001b[0m\u001b[0;34m\u001b[0m\u001b[0;34m\u001b[0m\u001b[0m\n",
      "\u001b[0;31mKeyboardInterrupt\u001b[0m: "
     ]
    }
   ],
   "source": [
    "xgb = XGBClassifier(max_depth=6, n_estimators=200)\n",
    "xgb.fit(X_train_tab_vision, tgt_intensity_cat_train)\n",
    "yhat = xgb.predict(X_test_tab_vision)\n",
    "print(\"XGB score\", accuracy_score(tgt_intensity_cat_test, yhat))\n",
    "print(\"Baseline score\", accuracy_score(tgt_intensity_cat_test, tgt_intensity_cat_baseline_test))"
   ]
  },
  {
   "cell_type": "code",
   "execution_count": null,
   "metadata": {},
   "outputs": [],
   "source": [
    "xgb = XGBClassifier(max_depth=4, n_estimators=80)\n",
    "xgb.fit(X_train_vision, tgt_intensity_cat_train)\n",
    "yhat = xgb.predict(X_test_vision)\n",
    "print(\"XGB score\", accuracy_score(tgt_intensity_cat_test, yhat))\n",
    "print(\"Baseline score\", accuracy_score(tgt_intensity_cat_test, tgt_intensity_cat_baseline_test))"
   ]
  },
  {
   "cell_type": "code",
   "execution_count": 55,
   "metadata": {},
   "outputs": [
    {
     "name": "stdout",
     "output_type": "stream",
     "text": [
      "RF score 0.8814372999709048\n",
      "Baseline score 0.8910386965376782\n"
     ]
    }
   ],
   "source": [
    "rf = RandomForestClassifier(n_estimators=200)\n",
    "rf.fit(X_train, tgt_intensity_cat_train)\n",
    "yhat = rf.predict(X_test)\n",
    "print(\"RF score\", accuracy_score(tgt_intensity_cat_test, yhat))\n",
    "print(\"Baseline score\", accuracy_score(tgt_intensity_cat_test, tgt_intensity_cat_baseline_test))"
   ]
  },
  {
   "cell_type": "code",
   "execution_count": null,
   "metadata": {},
   "outputs": [],
   "source": []
  },
  {
   "cell_type": "code",
   "execution_count": 68,
   "metadata": {},
   "outputs": [
    {
     "name": "stdout",
     "output_type": "stream",
     "text": [
      "[22:10:57] WARNING: src/objective/regression_obj.cu:152: reg:linear is now deprecated in favor of reg:squarederror.\n",
      "[22:10:58] WARNING: src/objective/regression_obj.cu:152: reg:linear is now deprecated in favor of reg:squarederror.\n",
      "XGB x score 0.34135345\n",
      "XGB y score 0.33949062\n"
     ]
    }
   ],
   "source": [
    "xgb_x = XGBRegressor(max_depth=3, n_estimators=80)\n",
    "xgb_y = XGBRegressor(max_depth=3, n_estimators=80)\n",
    "xgb_x.fit(X_train, tgt_displacement_train[:,0])\n",
    "xgb_y.fit(X_train, tgt_displacement_train[:,1])\n",
    "\n",
    "yhat_x = xgb_x.predict(X_test)\n",
    "yhat_y = xgb_y.predict(X_test)\n",
    "print(\"XGB x score\", mean_absolute_error(tgt_displacement_test[:,0], yhat_x))\n",
    "print(\"XGB y score\", mean_absolute_error(tgt_displacement_test[:,1], yhat_y))\n",
    "#be careful for interpretation because the displacement is in degree + standardized + I did not code any baseline"
   ]
  },
  {
   "cell_type": "code",
   "execution_count": 69,
   "metadata": {},
   "outputs": [
    {
     "data": {
      "text/plain": [
       "tensor(4.7578)"
      ]
     },
     "execution_count": 69,
     "metadata": {},
     "output_type": "execute_result"
    }
   ],
   "source": [
    "tgt_displacement_train.max()"
   ]
  },
  {
   "cell_type": "code",
   "execution_count": 74,
   "metadata": {},
   "outputs": [
    {
     "data": {
      "text/plain": [
       "tensor(1.0000)"
      ]
     },
     "execution_count": 74,
     "metadata": {},
     "output_type": "execute_result"
    }
   ],
   "source": [
    "tgt_displacement_train[:,0].std()"
   ]
  },
  {
   "cell_type": "code",
   "execution_count": null,
   "metadata": {},
   "outputs": [],
   "source": [
    "def run_models(steps_in, steps_out, max_depth=5):\n",
    "    train_test_split = 0.8\n",
    "    predict_at = steps_in #steps_out\n",
    "    window_size= steps_out #how many timesteps from the past to take ie steps_in\n",
    "\n",
    "    train_tensors, test_tensors = Prepro.process(vision_data, y, train_test_split, predict_at, window_size)\n",
    "    x_viz_train, x_stat_train, tgt_intensity_cat_train, tgt_intensity_cat_baseline_train, tgt_displacement_train, tgt_intensity_train = train_tensors\n",
    "    x_viz_test, x_stat_test, tgt_intensity_cat_test, tgt_intensity_cat_baseline_test, tgt_displacement_test, tgt_intensity_test = test_tensors\n",
    "\n",
    "    #reshape and concat\n",
    "    X_train = x_stat_train.reshape(x_stat_train.shape[0], -1)\n",
    "    X_test = x_stat_test.reshape(x_stat_test.shape[0], -1)\n",
    "    X_train_vision = x_viz_train.reshape(x_viz_train.shape[0], -1)\n",
    "    X_test_vision = x_viz_test.reshape(x_viz_test.shape[0], -1)\n",
    "    X_train_tab_vision = np.concatenate((X_train, X_train_vision), axis = 1)\n",
    "    X_test_tab_vision = np.concatenate((X_test, X_test_vision), axis = 1)\n",
    "\n",
    "    #run xgb for intensity\n",
    "    xgb = XGBClassifier(max_depth, n_estimators=100)\n",
    "    xgb.fit(X_train, tgt_intensity_cat_train)\n",
    "    intensity_xgb = xgb.predict(X_test)\n",
    "\n",
    "    #run random forrest for intensity\n",
    "    rf = RandomForestClassifier(n_estimators=200)\n",
    "    rf.fit(X_train, tgt_intensity_cat_train)\n",
    "    intensity_rf = rf.predict(X_test)\n",
    "\n",
    "    #run xbg for displacement x and y\n",
    "    xgb_x = XGBRegressor(max_depth, n_estimators=100)\n",
    "    xgb_y = XGBRegressor(max_depth, n_estimators=100)\n",
    "    xgb_x.fit(X_train, tgt_displacement_train[:,0])\n",
    "    xgb_y.fit(X_train, tgt_displacement_train[:,1])\n",
    "\n",
    "    dx_xgb= xgb_x.predict(X_test)\n",
    "    dy_xgb= xgb_y.predict(X_test)\n",
    "\n",
    "    # #calculate accuracy score for intensity\n",
    "    intensity_xgb_score = accuracy_score(tgt_intensity_cat_test, intensity_xgb).round(3)\n",
    "    intensity_rf_score = accuracy_score(tgt_intensity_cat_test, intensity_rf).round(3)\n",
    "    intensity_base_score = accuracy_score(tgt_intensity_cat_test, tgt_intensity_cat_baseline_test).round(3)\n",
    "\n",
    "    #calculate displacement mae\n",
    "    dx_xgb_mae =  mean_absolute_error(tgt_displacement_test[:,0], dx_xgb).round(3)\n",
    "    dy_xgb_mae = mean_absolute_error(tgt_displacement_test[:,1], dy_xgb).round(3)\n",
    "\n",
    "    return intensity_xgb_score, intensity_rf_score, intensity_base_score, dx_xgb_mae, dy_xgb_mae\n"
   ]
  },
  {
   "cell_type": "code",
   "execution_count": null,
   "metadata": {},
   "outputs": [],
   "source": [
    "#load data:\n",
    "#vision_data = np.load('data/vision_data_30_16_120_3years_test2.npy', allow_pickle = True)\n",
    "vision_data = np.load('data/vision_data_50_20_60_3years_v2.npy', allow_pickle = True)\n",
    "# vision_data = np.load('../../../Volumes/Samsung_T5/vision_data_50_20_90_1980_v3.npy', allow_pickle = True)\n",
    "\n",
    "#y = np.load('data/y_30_16_120_3years_test2.npy', allow_pickle = True)\n",
    "y = np.load('data/y_50_20_60_3years_v2.npy', allow_pickle = True)\n",
    "# y = np.load('../../../Volumes/Samsung_T5/y_50_20_90_1980_v3.npy', allow_pickle = True)\n",
    "\n",
    "#set up empty dataframes\n",
    "accuracy = pd.DataFrame(columns={})\n",
    "\n",
    "#prediction steps\n",
    "steps_out_list= [2] #[1,2,3,4,5,6,7,8,9,10,11,12,13,14,15,16,17,18,19,20]\n",
    "\n",
    "#max_depth\n",
    "max_depth_list = [4,5]\n",
    "\n",
    "#steps_in\n",
    "steps_in_list = [8]\n",
    "\n",
    "for max_depth in max_depth_list:\n",
    "    for steps_in in steps_in_list:\n",
    "        for steps_out in steps_out_list:\n",
    "            #run model\n",
    "            intensity_xgb_score, intensity_rf_score, intensity_base_score, dx_xgb_mae, dy_xgb_mae = run_models(steps_in, steps_out, max_depth)\n",
    "            #record accuracy\n",
    "            accuracy = accuracy.append({'past_n_steps': str(steps_in),\n",
    "                                              'pred_n_steps': str(t),\n",
    "                                              'max_depth': str(max_depth),\n",
    "                                              'xgb_intensity_accu': intensity_xgb_score,\n",
    "                                              'rf_intensity_accu': intensity_rf_score,\n",
    "                                              'base_intensity_accu': intensity_base_score,\n",
    "                                              'dx_xgb_mae':dx_xgb_mae,\n",
    "                                              'dy_xgb_mae':dy_xgb_mae}, ignore_index=True)\n",
    "\n",
    "#output results df\n",
    "accuracy.to_csv('cluster_results/model_accuracy.csv', index=False)"
   ]
  },
  {
   "cell_type": "code",
   "execution_count": null,
   "metadata": {},
   "outputs": [],
   "source": []
  }
 ],
 "metadata": {
  "kernelspec": {
   "display_name": "Python 3",
   "language": "python",
   "name": "python3"
  },
  "language_info": {
   "codemirror_mode": {
    "name": "ipython",
    "version": 3
   },
   "file_extension": ".py",
   "mimetype": "text/x-python",
   "name": "python",
   "nbconvert_exporter": "python",
   "pygments_lexer": "ipython3",
   "version": "3.7.3"
  }
 },
 "nbformat": 4,
 "nbformat_minor": 4
}
