{
 "cells": [
  {
   "cell_type": "code",
   "execution_count": 10,
   "metadata": {},
   "outputs": [],
   "source": [
    "import sys\n",
    "sys.path.insert(0,'..')\n",
    "from run import Prepro\n",
    "import numpy as np\n",
    "import matplotlib.pyplot as plt\n",
    "from xgboost import XGBClassifier\n",
    "from xgboost import XGBRegressor\n",
    "from sklearn.metrics import accuracy_score\n",
    "from sklearn.ensemble import RandomForestClassifier\n",
    "from sklearn.metrics import mean_absolute_error\n",
    "from utils import utils_tensor as utils \n",
    "import tensorly as tl #tensorly package\n",
    "from tensorly.decomposition import tucker #tucker decomp package\n",
    "from utils import utils_tensor as utils \n",
    "import torch "
   ]
  },
  {
   "cell_type": "code",
   "execution_count": 11,
   "metadata": {},
   "outputs": [],
   "source": [
    "#load data \n",
    "#vision_data = np.load('data/vision_data_30_16_120_3years_test2.npy', allow_pickle = True)\n",
    "vision_data = np.load('../data/vision_data_50_20_60_3years_v2.npy', allow_pickle = True)\n",
    "# vision_data = np.load('../../../Volumes/Samsung_T5/vision_data_50_20_90_1980_v3.npy', allow_pickle = True)\n",
    "#y = np.load('data/y_30_16_120_3years_test2.npy', allow_pickle = True)\n",
    "stat_data = np.load('../data/y_50_20_60_3years_v2.npy', allow_pickle = True) \n",
    "# y = np.load('../../../Volumes/Samsung_T5/y_50_20_90_1980_v3.npy', allow_pickle = True) "
   ]
  },
  {
   "cell_type": "code",
   "execution_count": 12,
   "metadata": {},
   "outputs": [
    {
     "name": "stdout",
     "output_type": "stream",
     "text": [
      "(83, 60, 3, 3, 25, 25)\n",
      "(83, 60, 11)\n"
     ]
    }
   ],
   "source": [
    "print(vision_data.shape)\n",
    "print(stat_data.shape)"
   ]
  },
  {
   "cell_type": "code",
   "execution_count": 90,
   "metadata": {},
   "outputs": [],
   "source": [
    "class tensor_regression(torch.nn.Module):\n",
    "\n",
    "    def __init__(self, x_stat, x_viz): \n",
    "        super(tensor_regression, self).__init__()\n",
    "        v=1e-2 \n",
    "        k=10\n",
    "        self.W1 = torch.nn.Parameter(torch.randn(x_stat.shape[1], x_stat.shape[2] ) * v)\n",
    "        self.V1 = torch.nn.Parameter(torch.randn(x_viz.shape[1], x_viz.shape[2], x_viz.shape[3], x_viz.shape[4]) * v)\n",
    "#         self.W2 = torch.nn.Parameter(torch.randn(k)*v)\n",
    "#         self.V2 = torch.nn.Parameter(torch.randn(k)*v)\n",
    "#         self.b11 = torch.nn.Parameter(torch.rand(1)) #scalar \n",
    "#         self.b12 = torch.nn.Parameter(torch.rand(1))\n",
    "        self.b2 = torch.nn.Parameter(torch.rand(1))\n",
    "        \n",
    "\n",
    "    def forward(self, x_stat, x_viz):\n",
    "        'element-wise dot product + bias'\n",
    "        #maybe this could be more elaborate, e.g. for each time step, do mapping, and then regress along time steps etc. \n",
    "        y1 = torch.einsum('nij,ij->n', x_stat, self.W1) #broadcast for each sample \n",
    "        z1 = torch.einsum('nijkl,ijkl->n',x_viz, self.V1)\n",
    "#         y2 = torch.einsum('nk,k->n', y1, self.W2) + self.b11\n",
    "#         z2 = torch.einsum('nk,k->n', z1, self.V2) + self.b12\n",
    "#         y_hat = y2+z2+self.b2 #bias term \n",
    "        y_hat = y1+z1+self.b2 #bias term  \n",
    "        \n",
    "        return y_hat #vector of dim: n (sample size)\n",
    "\n",
    "def schatten_norm(tensor, inner_ord=1, outer_ord=1):   #inner_ord=1 means nuclear norm \n",
    "    tensor = tensor.detach().numpy()\n",
    "    inner_norm = []\n",
    "    for i in range(len(tensor.shape)): #number of dimensions  \n",
    "        #get norm for each unfolding \n",
    "        unfold = tl.unfold(tensor, i)\n",
    "        s_vals= np.linalg.svd(unfold, full_matrices=False, compute_uv=False)\n",
    "        inner_norm.append(np.linalg.norm(s_vals, ord=inner_ord)) \n",
    "    outer_norm = np.linalg.norm(inner_norm, ord=outer_ord)\n",
    "    return outer_norm \n",
    "\n",
    "def loss_fn(y_hat, y):\n",
    "    loss =  (y_hat - y).pow(2).sum() \n",
    "    reg = schatten_norm(y_hat, inner_ord = 1, outer_ord = 1)\n",
    "    lam=20\n",
    "    loss = loss + lam* reg \n",
    "    return loss"
   ]
  },
  {
   "cell_type": "code",
   "execution_count": 86,
   "metadata": {},
   "outputs": [],
   "source": [
    "#vision data reduce dims \n",
    "def viz_reduce(tensors, core_ranks): #input: tensors, sample_size = first dimension\n",
    "    tensors = tensors.numpy()\n",
    "    #low rank decomp\n",
    "    core_out = np.zeros((tensors.shape[0], core_ranks[0], core_ranks[1], core_ranks[2], core_ranks[3]))\n",
    "    approx_error = 0 \n",
    "    for i in range(tensors.shape[0]):\n",
    "        tensor = tensors[i]\n",
    "        core, factors = tucker(tensor, core_ranks)\n",
    "        core_out[i,:,:,:] = core \n",
    "        #calculate approximation error\n",
    "        approx = utils.tucker_to_tensor(core, factors)\n",
    "        approx_error +=  tl.norm(approx-tensor)/tl.norm(tensor)*100  #euclidean norm\n",
    "    approx_error = approx_error/tensors.shape[0]\n",
    "    \n",
    "    core_out = torch.tensor(core_out).float()\n",
    "    print('approximation error=', approx_error)\n",
    "    return core_out,  approx_error\n",
    "\n"
   ]
  },
  {
   "cell_type": "code",
   "execution_count": 87,
   "metadata": {},
   "outputs": [],
   "source": [
    "#standardize x:\n",
    "def standardize_x(x_viz_train, x_viz_test, x_stat_train, x_stat_test):\n",
    "    means = x_viz_train.mean(dim=(0, 1, 3, 4))\n",
    "    stds = x_viz_train.std(dim=(0, 1, 3, 4))\n",
    "\n",
    "    means_stat = x_stat_train.mean(dim=(0, 1))\n",
    "    stds_stat = x_stat_train.std(dim=(0, 1))\n",
    "\n",
    "    for i in range(len(means)):\n",
    "        x_viz_train[:, :, i] = (x_viz_train[:, :, i] - means[i]) / stds[i]\n",
    "        x_viz_test[:, :, i] = (x_viz_test[:, :, i] - means[i]) / stds[i]\n",
    "\n",
    "    for i in range(len(means_stat)):\n",
    "        x_stat_train[:, :, i] = (x_stat_train[:, :, i] - means_stat[i]) / stds_stat[i]\n",
    "        x_stat_test[:, :, i] = (x_stat_test[:, :, i] - means_stat[i]) / stds_stat[i]\n",
    "    return x_viz_train, x_viz_test, x_stat_train, x_stat_test\n",
    "\n",
    "#standardize y: \n",
    "def standardize_y(y_train, y_test):\n",
    "    y_train = y_train.numpy()\n",
    "    y_test = y_test.numpy()\n",
    "    mean = y_train.mean()\n",
    "    std = y_train.std()\n",
    "    y_train = (y_train-mean)/std\n",
    "    y_test = (y_test-mean)/std\n",
    "    return y_train, y_test, mean , std \n",
    "\n",
    "# x_viz_train, x_viz_test, x_stat_train, x_stat_test = standardize_x(x_viz_train, x_viz_test, x_stat_train, x_stat_test)\n",
    "# tgt_intensity_train,tgt_intensity_test, mean_intensity, std_intensity  = standardize_y(tgt_intensity_train,tgt_intensity_test)\n",
    "\n"
   ]
  },
  {
   "cell_type": "code",
   "execution_count": 88,
   "metadata": {},
   "outputs": [],
   "source": [
    "#train nn \n",
    "def train_tensor_regression(y_train, x_stat_train, s_viz_train, max_itr=4000, lr=1e-5):\n",
    "    loss_arr =[] #record loss trajectory\n",
    "    model = tensor_regression(x_stat_train, s_viz_train) \n",
    "    # optimizer = torch.optim.SGD(model.parameters(), lr=lr, momentum=0.9)\n",
    "    optimizer = torch.optim.Adam(model.parameters())\n",
    "\n",
    "\n",
    "    for t in range(max_itr):\n",
    "        optimizer.zero_grad()\n",
    "        y_hat= model(x_stat_train, s_viz_train)\n",
    "        loss = loss_fn(y_hat, y_train)\n",
    "        loss.backward()\n",
    "        optimizer.step()\n",
    "\n",
    "        #record loss and gradients \n",
    "        loss_arr.append(loss.detach().item())\n",
    "\n",
    "    #plot loss \n",
    "    plt.plot(np.log(np.array(loss_arr)))\n",
    "    print('final loss=', loss_arr[-1])\n",
    "    return model "
   ]
  },
  {
   "cell_type": "code",
   "execution_count": 93,
   "metadata": {},
   "outputs": [
    {
     "name": "stdout",
     "output_type": "stream",
     "text": [
      "New dataset and corresponding sizes (null elements included):\n",
      "X_vision torch.Size([3071, 16, 9, 25, 25])\n",
      "X_stat torch.Size([3071, 16, 10])\n",
      "target_displacement torch.Size([3071, 8, 2])\n",
      "target_intensity torch.Size([3071])\n",
      "target_intensity_cat torch.Size([3071])\n",
      "target_intensity_cat_baseline torch.Size([3071])\n",
      "Keeping 2481 samples out of the initial 3071.\n",
      "Reshaping the displacement target...\n",
      "approximation error= 16.75757912903904\n",
      "approximation error= 15.905420608833522\n"
     ]
    }
   ],
   "source": [
    "core_ranks = [10,7,10,10]\n",
    "predict_at = 8 #steps_out\n",
    "window_size = 16 #how many timesteps from the past to take ie steps_in\n",
    "#get training and test tensors\n",
    "##maybe we don't have to call this for each prediction period, since x is the same, just y different?\n",
    "train_test_split=0.8\n",
    "train_tensors, test_tensors = Prepro.process(vision_data, stat_data, train_test_split, predict_at = predict_at, window_size=window_size)\n",
    "x_viz_train, x_stat_train, tgt_intensity_cat_train, tgt_intensity_cat_baseline_train, tgt_displacement_train, tgt_intensity_train = train_tensors\n",
    "x_viz_test, x_stat_test, tgt_intensity_cat_test, tgt_intensity_cat_baseline_test, tgt_displacement_test, tgt_intensity_test = test_tensors\n",
    "\n",
    "x_viz_train, x_viz_test, x_stat_train, x_stat_test = standardize_x(x_viz_train, x_viz_test, x_stat_train, x_stat_test)\n",
    "tgt_intensity_train,tgt_intensity_test, mean_intensity, std_intensity  = standardize_y(tgt_intensity_train,tgt_intensity_test)\n",
    "\n",
    "#compress viz data \n",
    "s_viz_train, compression_error_train = viz_reduce(x_viz_train, core_ranks) #compress viz data \n",
    "s_viz_test, compression_error_test = viz_reduce(x_viz_test, core_ranks) #compress viz data "
   ]
  },
  {
   "cell_type": "code",
   "execution_count": 96,
   "metadata": {},
   "outputs": [
    {
     "name": "stdout",
     "output_type": "stream",
     "text": [
      "final loss= 891.3062133789062\n"
     ]
    },
    {
     "data": {
      "image/png": "[encoded data removed]",
      "text/plain": [
       "<Figure size 432x288 with 1 Axes>"
      ]
     },
     "metadata": {
      "needs_background": "light"
     },
     "output_type": "display_data"
    }
   ],
   "source": [
    "#train model on intensity \n",
    "model = train_tensor_regression(torch.tensor(tgt_intensity_train), x_stat_train, s_viz_train, max_itr = 6000, lr=1e-5)\n",
    "yhat = model(x_stat_test, s_viz_test)\n",
    "mae_intensity = mean_absolute_error(tgt_intensity_test*std_intensity + mean_intensity, yhat.detach().numpy()*std_intensity+mean_intensity)"
   ]
  },
  {
   "cell_type": "code",
   "execution_count": 97,
   "metadata": {},
   "outputs": [
    {
     "data": {
      "text/plain": [
       "38.833145"
      ]
     },
     "execution_count": 97,
     "metadata": {},
     "output_type": "execute_result"
    }
   ],
   "source": [
    "mae_intensity"
   ]
  },
  {
   "cell_type": "code",
   "execution_count": 98,
   "metadata": {},
   "outputs": [
    {
     "name": "stdout",
     "output_type": "stream",
     "text": [
      "final loss= 893.7818603515625\n"
     ]
    },
    {
     "data": {
      "text/plain": [
       "3.035211"
      ]
     },
     "execution_count": 98,
     "metadata": {},
     "output_type": "execute_result"
    },
    {
     "data": {
      "image/png": "[encoded data removed]",
      "text/plain": [
       "<Figure size 432x288 with 1 Axes>"
      ]
     },
     "metadata": {
      "needs_background": "light"
     },
     "output_type": "display_data"
    }
   ],
   "source": [
    "#train model on dx\n",
    "tgt_dx_train,tgt_dx_test, mean_dx, std_dx  = standardize_y(tgt_displacement_train[:,0],tgt_displacement_test[:,0])\n",
    "model = train_tensor_regression(torch.tensor(tgt_dx_train), x_stat_train, s_viz_train, max_itr = 6000, lr=1e-5)\n",
    "yhat = model(x_stat_test, s_viz_test)\n",
    "mae_dx = mean_absolute_error(tgt_dx_test*std_dx + mean_dx, yhat.detach().numpy()*std_dx+mean_dx)\n",
    "mae_dx "
   ]
  },
  {
   "cell_type": "code",
   "execution_count": 100,
   "metadata": {},
   "outputs": [
    {
     "ename": "AttributeError",
     "evalue": "'numpy.ndarray' object has no attribute 'numpy'",
     "output_type": "error",
     "traceback": [
      "\u001b[0;31m---------------------------------------------------------------------------\u001b[0m",
      "\u001b[0;31mAttributeError\u001b[0m                            Traceback (most recent call last)",
      "\u001b[0;32m<ipython-input-100-d8ff60653f97>\u001b[0m in \u001b[0;36m<module>\u001b[0;34m\u001b[0m\n\u001b[1;32m      1\u001b[0m \u001b[0;31m#train model on cat\u001b[0m\u001b[0;34m\u001b[0m\u001b[0;34m\u001b[0m\u001b[0;34m\u001b[0m\u001b[0m\n\u001b[0;32m----> 2\u001b[0;31m \u001b[0mtgt_intensity_cat_train\u001b[0m\u001b[0;34m,\u001b[0m\u001b[0mtgt_intensity_cat_test\u001b[0m\u001b[0;34m,\u001b[0m \u001b[0mmean_cat\u001b[0m\u001b[0;34m,\u001b[0m \u001b[0mstd_cat\u001b[0m  \u001b[0;34m=\u001b[0m \u001b[0mstandardize_y\u001b[0m\u001b[0;34m(\u001b[0m\u001b[0mtgt_intensity_cat_train\u001b[0m\u001b[0;34m,\u001b[0m\u001b[0mtgt_intensity_cat_test\u001b[0m\u001b[0;34m)\u001b[0m\u001b[0;34m\u001b[0m\u001b[0;34m\u001b[0m\u001b[0m\n\u001b[0m\u001b[1;32m      3\u001b[0m \u001b[0mmodel\u001b[0m \u001b[0;34m=\u001b[0m \u001b[0mtrain_tensor_regression\u001b[0m\u001b[0;34m(\u001b[0m\u001b[0mtorch\u001b[0m\u001b[0;34m.\u001b[0m\u001b[0mtensor\u001b[0m\u001b[0;34m(\u001b[0m\u001b[0mtgt_intensity_cat_train\u001b[0m\u001b[0;34m)\u001b[0m\u001b[0;34m,\u001b[0m \u001b[0mx_stat_train\u001b[0m\u001b[0;34m,\u001b[0m \u001b[0ms_viz_train\u001b[0m\u001b[0;34m,\u001b[0m \u001b[0mmax_itr\u001b[0m \u001b[0;34m=\u001b[0m \u001b[0;36m3000\u001b[0m\u001b[0;34m,\u001b[0m \u001b[0mlr\u001b[0m\u001b[0;34m=\u001b[0m\u001b[0;36m1e-4\u001b[0m\u001b[0;34m)\u001b[0m\u001b[0;34m\u001b[0m\u001b[0;34m\u001b[0m\u001b[0m\n\u001b[1;32m      4\u001b[0m \u001b[0myhat\u001b[0m \u001b[0;34m=\u001b[0m \u001b[0mmodel\u001b[0m\u001b[0;34m(\u001b[0m\u001b[0mx_stat_test\u001b[0m\u001b[0;34m,\u001b[0m \u001b[0ms_viz_test\u001b[0m\u001b[0;34m)\u001b[0m\u001b[0;34m\u001b[0m\u001b[0;34m\u001b[0m\u001b[0m\n\u001b[1;32m      5\u001b[0m \u001b[0mmae_dx\u001b[0m \u001b[0;34m=\u001b[0m \u001b[0mmean_absolute_error\u001b[0m\u001b[0;34m(\u001b[0m\u001b[0mtgt_intensity_cat_test\u001b[0m\u001b[0;34m*\u001b[0m\u001b[0mstd_cat\u001b[0m \u001b[0;34m+\u001b[0m \u001b[0mmean_cat\u001b[0m\u001b[0;34m,\u001b[0m \u001b[0myhat\u001b[0m\u001b[0;34m.\u001b[0m\u001b[0mdetach\u001b[0m\u001b[0;34m(\u001b[0m\u001b[0;34m)\u001b[0m\u001b[0;34m.\u001b[0m\u001b[0mnumpy\u001b[0m\u001b[0;34m(\u001b[0m\u001b[0;34m)\u001b[0m\u001b[0;34m*\u001b[0m\u001b[0mstd_cat\u001b[0m\u001b[0;34m+\u001b[0m\u001b[0mmean_cat\u001b[0m\u001b[0;34m)\u001b[0m\u001b[0;34m\u001b[0m\u001b[0;34m\u001b[0m\u001b[0m\n",
      "\u001b[0;32m<ipython-input-87-6d69de63f24f>\u001b[0m in \u001b[0;36mstandardize_y\u001b[0;34m(y_train, y_test)\u001b[0m\n\u001b[1;32m     18\u001b[0m \u001b[0;31m#standardize y:\u001b[0m\u001b[0;34m\u001b[0m\u001b[0;34m\u001b[0m\u001b[0;34m\u001b[0m\u001b[0m\n\u001b[1;32m     19\u001b[0m \u001b[0;32mdef\u001b[0m \u001b[0mstandardize_y\u001b[0m\u001b[0;34m(\u001b[0m\u001b[0my_train\u001b[0m\u001b[0;34m,\u001b[0m \u001b[0my_test\u001b[0m\u001b[0;34m)\u001b[0m\u001b[0;34m:\u001b[0m\u001b[0;34m\u001b[0m\u001b[0;34m\u001b[0m\u001b[0m\n\u001b[0;32m---> 20\u001b[0;31m     \u001b[0my_train\u001b[0m \u001b[0;34m=\u001b[0m \u001b[0my_train\u001b[0m\u001b[0;34m.\u001b[0m\u001b[0mnumpy\u001b[0m\u001b[0;34m(\u001b[0m\u001b[0;34m)\u001b[0m\u001b[0;34m\u001b[0m\u001b[0;34m\u001b[0m\u001b[0m\n\u001b[0m\u001b[1;32m     21\u001b[0m     \u001b[0my_test\u001b[0m \u001b[0;34m=\u001b[0m \u001b[0my_test\u001b[0m\u001b[0;34m.\u001b[0m\u001b[0mnumpy\u001b[0m\u001b[0;34m(\u001b[0m\u001b[0;34m)\u001b[0m\u001b[0;34m\u001b[0m\u001b[0;34m\u001b[0m\u001b[0m\n\u001b[1;32m     22\u001b[0m     \u001b[0mmean\u001b[0m \u001b[0;34m=\u001b[0m \u001b[0my_train\u001b[0m\u001b[0;34m.\u001b[0m\u001b[0mmean\u001b[0m\u001b[0;34m(\u001b[0m\u001b[0;34m)\u001b[0m\u001b[0;34m\u001b[0m\u001b[0;34m\u001b[0m\u001b[0m\n",
      "\u001b[0;31mAttributeError\u001b[0m: 'numpy.ndarray' object has no attribute 'numpy'"
     ]
    }
   ],
   "source": [
    "#train model on cat\n",
    "# tgt_intensity_cat_train,tgt_intensity_cat_test, mean_cat, std_cat  = standardize_y(tgt_intensity_cat_train,tgt_intensity_cat_test)\n",
    "model = train_tensor_regression(torch.tensor(tgt_intensity_cat_train), x_stat_train, s_viz_train, max_itr = 3000, lr=1e-4)\n",
    "yhat = model(x_stat_test, s_viz_test)\n",
    "mae_dx = mean_absolute_error(tgt_intensity_cat_test, yhat.round())\n",
    "mae_dx "
   ]
  },
  {
   "cell_type": "code",
   "execution_count": 23,
   "metadata": {},
   "outputs": [],
   "source": [
    "def run_tensor_regression(vision_data, stat_data, window_size, predict_at,  core_ranks = [5,7,10,10]):\n",
    "    #get training and test tensors\n",
    "    ##maybe we don't have to call this for each prediction period, since x is the same, just y different?\n",
    "    train_test_split=0.8\n",
    "    train_tensors, test_tensors = Prepro.process(vision_data, stat_data, train_test_split, predict_at = predict_at, window_size=window_size)\n",
    "    x_viz_train, x_stat_train, tgt_intensity_cat_train, tgt_intensity_cat_baseline_train, tgt_displacement_train, tgt_intensity_train = train_tensors\n",
    "    x_viz_test, x_stat_test, tgt_intensity_cat_test, tgt_intensity_cat_baseline_test, tgt_displacement_test, tgt_intensity_test = test_tensors\n",
    "    \n",
    "    x_viz_train, x_viz_test, x_stat_train, x_stat_test = standardize_x(x_viz_train, x_viz_test, x_stat_train, x_stat_test)\n",
    "    tgt_intensity_train,tgt_intensity_test, mean_intensity, std_intensity  = standardize_y(tgt_intensity_train,tgt_intensity_test)\n",
    "\n",
    "    #compress viz data \n",
    "    s_viz_train, compression_error_train = viz_reduce(x_viz_train, core_ranks) #compress viz data \n",
    "    s_viz_test, compression_error_test = viz_reduce(x_viz_test, core_ranks) #compress viz data \n",
    "    \n",
    "    \n",
    "#     #train model on displacement \n",
    "#     y_train = tgt_displacement_train[:,0]\n",
    "#     model = train_tensor_regression(y_train, x_stat_train, s_viz_train,lr=1e-5)\n",
    "#     y_hat = model(x_stat_test, s_viz_test)\n",
    "#     y_true = tgt_displacement_test[:,0]\n",
    "#     error_dx = mean_absolute_error(y_true, y_hat.detach().numpy()) \n",
    "\n",
    "#     y_train2 = tgt_displacement_train[:,1]\n",
    "#     model2 = train_tensor_regression(y_train2, x_stat_train, s_viz_train,lr=1e-5)\n",
    "#     y_hat2 = model2(x_stat_test, s_viz_test)\n",
    "#     y_true2= tgt_displacement_test[:,1]\n",
    "#     error_dy= mean_absolute_error(y_true2, y_hat2.detach().numpy())\n",
    "    \n",
    "    #train model on intensity \n",
    "    model3 = train_tensor_regression(tgt_intensity_train, x_stat_train, s_viz_train, lr=5e-5)\n",
    "    y_hat3 = model3(x_stat_test, s_viz_test)\n",
    "    y_true3 = tgt_intensity_test\n",
    "    mae_intensity = mean_absolute_error(tgt_intensity_test*std_intensity + mean_intensity, yhat*std_intensity+mean_intensity)\n",
    "#     error_int_base = mean_absolute_error(y_true, tgt_intensity_baseline_test)\n",
    "    \n",
    "    return np.round(error_int,3) #np.round(error_dx,3) , np.round(error_dy,3), \n",
    "    "
   ]
  },
  {
   "cell_type": "code",
   "execution_count": 24,
   "metadata": {},
   "outputs": [
    {
     "name": "stdout",
     "output_type": "stream",
     "text": [
      "New dataset and corresponding sizes (null elements included):\n",
      "X_vision torch.Size([3071, 16, 9, 25, 25])\n",
      "X_stat torch.Size([3071, 16, 10])\n",
      "target_displacement torch.Size([3071, 8, 2])\n",
      "target_intensity torch.Size([3071])\n",
      "target_intensity_cat torch.Size([3071])\n",
      "target_intensity_cat_baseline torch.Size([3071])\n",
      "Keeping 2481 samples out of the initial 3071.\n",
      "Reshaping the displacement target...\n",
      "approximation error= 19.674294117853165\n",
      "approximation error= 18.796659583297053\n"
     ]
    },
    {
     "ename": "RuntimeError",
     "evalue": "Can't call numpy() on Variable that requires grad. Use var.detach().numpy() instead.",
     "output_type": "error",
     "traceback": [
      "\u001b[0;31m---------------------------------------------------------------------------\u001b[0m",
      "\u001b[0;31mRuntimeError\u001b[0m                              Traceback (most recent call last)",
      "\u001b[0;32m<ipython-input-24-957a11c17fed>\u001b[0m in \u001b[0;36m<module>\u001b[0;34m\u001b[0m\n\u001b[1;32m      3\u001b[0m \u001b[0mwindow_size\u001b[0m \u001b[0;34m=\u001b[0m \u001b[0;36m16\u001b[0m \u001b[0;31m#how many timesteps from the past to take ie steps_in\u001b[0m\u001b[0;34m\u001b[0m\u001b[0;34m\u001b[0m\u001b[0m\n\u001b[1;32m      4\u001b[0m \u001b[0;34m\u001b[0m\u001b[0m\n\u001b[0;32m----> 5\u001b[0;31m \u001b[0mrun_tensor_regression\u001b[0m\u001b[0;34m(\u001b[0m\u001b[0mvision_data\u001b[0m\u001b[0;34m,\u001b[0m \u001b[0mstat_data\u001b[0m\u001b[0;34m,\u001b[0m \u001b[0mwindow_size\u001b[0m\u001b[0;34m,\u001b[0m \u001b[0mpredict_at\u001b[0m\u001b[0;34m,\u001b[0m \u001b[0mcore_ranks\u001b[0m \u001b[0;34m=\u001b[0m \u001b[0;34m[\u001b[0m\u001b[0;36m5\u001b[0m\u001b[0;34m,\u001b[0m\u001b[0;36m7\u001b[0m\u001b[0;34m,\u001b[0m\u001b[0;36m10\u001b[0m\u001b[0;34m,\u001b[0m\u001b[0;36m10\u001b[0m\u001b[0;34m]\u001b[0m\u001b[0;34m)\u001b[0m\u001b[0;34m\u001b[0m\u001b[0;34m\u001b[0m\u001b[0m\n\u001b[0m",
      "\u001b[0;32m<ipython-input-23-18315dd5c373>\u001b[0m in \u001b[0;36mrun_tensor_regression\u001b[0;34m(vision_data, stat_data, window_size, predict_at, core_ranks)\u001b[0m\n\u001b[1;32m     29\u001b[0m \u001b[0;34m\u001b[0m\u001b[0m\n\u001b[1;32m     30\u001b[0m     \u001b[0;31m#train model on intensity\u001b[0m\u001b[0;34m\u001b[0m\u001b[0;34m\u001b[0m\u001b[0;34m\u001b[0m\u001b[0m\n\u001b[0;32m---> 31\u001b[0;31m     \u001b[0mmodel3\u001b[0m \u001b[0;34m=\u001b[0m \u001b[0mtrain_tensor_regression\u001b[0m\u001b[0;34m(\u001b[0m\u001b[0mtgt_intensity_train\u001b[0m\u001b[0;34m,\u001b[0m \u001b[0mx_stat_train\u001b[0m\u001b[0;34m,\u001b[0m \u001b[0ms_viz_train\u001b[0m\u001b[0;34m,\u001b[0m \u001b[0mlr\u001b[0m\u001b[0;34m=\u001b[0m\u001b[0;36m5e-5\u001b[0m\u001b[0;34m)\u001b[0m\u001b[0;34m\u001b[0m\u001b[0;34m\u001b[0m\u001b[0m\n\u001b[0m\u001b[1;32m     32\u001b[0m     \u001b[0my_hat3\u001b[0m \u001b[0;34m=\u001b[0m \u001b[0mmodel3\u001b[0m\u001b[0;34m(\u001b[0m\u001b[0mx_stat_test\u001b[0m\u001b[0;34m,\u001b[0m \u001b[0ms_viz_test\u001b[0m\u001b[0;34m)\u001b[0m\u001b[0;34m\u001b[0m\u001b[0;34m\u001b[0m\u001b[0m\n\u001b[1;32m     33\u001b[0m     \u001b[0my_true3\u001b[0m \u001b[0;34m=\u001b[0m \u001b[0mtgt_intensity_test\u001b[0m\u001b[0;34m\u001b[0m\u001b[0;34m\u001b[0m\u001b[0m\n",
      "\u001b[0;32m<ipython-input-20-ebd6277cc93f>\u001b[0m in \u001b[0;36mtrain_tensor_regression\u001b[0;34m(y_train, x_stat_train, s_viz_train, max_itr, lr)\u001b[0m\n\u001b[1;32m     10\u001b[0m         \u001b[0moptimizer\u001b[0m\u001b[0;34m.\u001b[0m\u001b[0mzero_grad\u001b[0m\u001b[0;34m(\u001b[0m\u001b[0;34m)\u001b[0m\u001b[0;34m\u001b[0m\u001b[0;34m\u001b[0m\u001b[0m\n\u001b[1;32m     11\u001b[0m         \u001b[0my_hat\u001b[0m\u001b[0;34m=\u001b[0m \u001b[0mmodel\u001b[0m\u001b[0;34m(\u001b[0m\u001b[0mx_stat_train\u001b[0m\u001b[0;34m,\u001b[0m \u001b[0ms_viz_train\u001b[0m\u001b[0;34m)\u001b[0m\u001b[0;34m\u001b[0m\u001b[0;34m\u001b[0m\u001b[0m\n\u001b[0;32m---> 12\u001b[0;31m         \u001b[0mloss\u001b[0m \u001b[0;34m=\u001b[0m \u001b[0mloss_fn\u001b[0m\u001b[0;34m(\u001b[0m\u001b[0my_hat\u001b[0m\u001b[0;34m,\u001b[0m \u001b[0my_train\u001b[0m\u001b[0;34m)\u001b[0m\u001b[0;34m\u001b[0m\u001b[0;34m\u001b[0m\u001b[0m\n\u001b[0m\u001b[1;32m     13\u001b[0m         \u001b[0mloss\u001b[0m\u001b[0;34m.\u001b[0m\u001b[0mbackward\u001b[0m\u001b[0;34m(\u001b[0m\u001b[0;34m)\u001b[0m\u001b[0;34m\u001b[0m\u001b[0;34m\u001b[0m\u001b[0m\n\u001b[1;32m     14\u001b[0m         \u001b[0moptimizer\u001b[0m\u001b[0;34m.\u001b[0m\u001b[0mstep\u001b[0m\u001b[0;34m(\u001b[0m\u001b[0;34m)\u001b[0m\u001b[0;34m\u001b[0m\u001b[0;34m\u001b[0m\u001b[0m\n",
      "\u001b[0;32m<ipython-input-13-543ee6df9581>\u001b[0m in \u001b[0;36mloss_fn\u001b[0;34m(y_hat, y)\u001b[0m\n\u001b[1;32m     30\u001b[0m \u001b[0;34m\u001b[0m\u001b[0m\n\u001b[1;32m     31\u001b[0m \u001b[0;32mdef\u001b[0m \u001b[0mloss_fn\u001b[0m\u001b[0;34m(\u001b[0m\u001b[0my_hat\u001b[0m\u001b[0;34m,\u001b[0m \u001b[0my\u001b[0m\u001b[0;34m)\u001b[0m\u001b[0;34m:\u001b[0m\u001b[0;34m\u001b[0m\u001b[0;34m\u001b[0m\u001b[0m\n\u001b[0;32m---> 32\u001b[0;31m     \u001b[0mloss\u001b[0m \u001b[0;34m=\u001b[0m  \u001b[0;34m(\u001b[0m\u001b[0my_hat\u001b[0m \u001b[0;34m-\u001b[0m \u001b[0my\u001b[0m\u001b[0;34m)\u001b[0m\u001b[0;34m.\u001b[0m\u001b[0mpow\u001b[0m\u001b[0;34m(\u001b[0m\u001b[0;36m2\u001b[0m\u001b[0;34m)\u001b[0m\u001b[0;34m.\u001b[0m\u001b[0msum\u001b[0m\u001b[0;34m(\u001b[0m\u001b[0;34m)\u001b[0m\u001b[0;34m\u001b[0m\u001b[0;34m\u001b[0m\u001b[0m\n\u001b[0m\u001b[1;32m     33\u001b[0m     \u001b[0mreg\u001b[0m \u001b[0;34m=\u001b[0m \u001b[0mschatten_norm\u001b[0m\u001b[0;34m(\u001b[0m\u001b[0my_hat\u001b[0m\u001b[0;34m,\u001b[0m \u001b[0minner_ord\u001b[0m \u001b[0;34m=\u001b[0m \u001b[0;36m1\u001b[0m\u001b[0;34m,\u001b[0m \u001b[0mouter_ord\u001b[0m \u001b[0;34m=\u001b[0m \u001b[0;36m1\u001b[0m\u001b[0;34m)\u001b[0m\u001b[0;34m\u001b[0m\u001b[0;34m\u001b[0m\u001b[0m\n\u001b[1;32m     34\u001b[0m     \u001b[0mloss\u001b[0m \u001b[0;34m=\u001b[0m \u001b[0mloss\u001b[0m \u001b[0;34m+\u001b[0m \u001b[0mlam\u001b[0m\u001b[0;34m*\u001b[0m \u001b[0mreg\u001b[0m\u001b[0;34m\u001b[0m\u001b[0;34m\u001b[0m\u001b[0m\n",
      "\u001b[0;32m~/anaconda3/lib/python3.7/site-packages/torch/tensor.py\u001b[0m in \u001b[0;36m__array__\u001b[0;34m(self, dtype)\u001b[0m\n\u001b[1;32m    484\u001b[0m     \u001b[0;32mdef\u001b[0m \u001b[0m__array__\u001b[0m\u001b[0;34m(\u001b[0m\u001b[0mself\u001b[0m\u001b[0;34m,\u001b[0m \u001b[0mdtype\u001b[0m\u001b[0;34m=\u001b[0m\u001b[0;32mNone\u001b[0m\u001b[0;34m)\u001b[0m\u001b[0;34m:\u001b[0m\u001b[0;34m\u001b[0m\u001b[0;34m\u001b[0m\u001b[0m\n\u001b[1;32m    485\u001b[0m         \u001b[0;32mif\u001b[0m \u001b[0mdtype\u001b[0m \u001b[0;32mis\u001b[0m \u001b[0;32mNone\u001b[0m\u001b[0;34m:\u001b[0m\u001b[0;34m\u001b[0m\u001b[0;34m\u001b[0m\u001b[0m\n\u001b[0;32m--> 486\u001b[0;31m             \u001b[0;32mreturn\u001b[0m \u001b[0mself\u001b[0m\u001b[0;34m.\u001b[0m\u001b[0mnumpy\u001b[0m\u001b[0;34m(\u001b[0m\u001b[0;34m)\u001b[0m\u001b[0;34m\u001b[0m\u001b[0;34m\u001b[0m\u001b[0m\n\u001b[0m\u001b[1;32m    487\u001b[0m         \u001b[0;32melse\u001b[0m\u001b[0;34m:\u001b[0m\u001b[0;34m\u001b[0m\u001b[0;34m\u001b[0m\u001b[0m\n\u001b[1;32m    488\u001b[0m             \u001b[0;32mreturn\u001b[0m \u001b[0mself\u001b[0m\u001b[0;34m.\u001b[0m\u001b[0mnumpy\u001b[0m\u001b[0;34m(\u001b[0m\u001b[0;34m)\u001b[0m\u001b[0;34m.\u001b[0m\u001b[0mastype\u001b[0m\u001b[0;34m(\u001b[0m\u001b[0mdtype\u001b[0m\u001b[0;34m,\u001b[0m \u001b[0mcopy\u001b[0m\u001b[0;34m=\u001b[0m\u001b[0;32mFalse\u001b[0m\u001b[0;34m)\u001b[0m\u001b[0;34m\u001b[0m\u001b[0;34m\u001b[0m\u001b[0m\n",
      "\u001b[0;31mRuntimeError\u001b[0m: Can't call numpy() on Variable that requires grad. Use var.detach().numpy() instead."
     ]
    }
   ],
   "source": [
    "train_test_split = 0.1 #how much train test data\n",
    "predict_at = 8 #steps_out\n",
    "window_size = 16 #how many timesteps from the past to take ie steps_in\n",
    "\n",
    "run_tensor_regression(vision_data, stat_data, window_size, predict_at, core_ranks = [5,7,10,10])"
   ]
  },
  {
   "cell_type": "code",
   "execution_count": null,
   "metadata": {},
   "outputs": [],
   "source": [
    "core_ranks = [8,5,5,5]\n",
    "s_viz_train, compression_error = viz_reduce(x_viz_train, core_ranks) #compress viz data \n",
    "print('compression_error=',compression_error)\n",
    "s_viz_test, compression_error = viz_reduce(x_viz_test, core_ranks) #compress viz data \n",
    "print('compression_error=',compression_error)"
   ]
  },
  {
   "cell_type": "code",
   "execution_count": 210,
   "metadata": {},
   "outputs": [
    {
     "name": "stdout",
     "output_type": "stream",
     "text": [
      "final loss= 1453.5244140625\n",
      "tensor_regression dx_mae 0.5257858\n",
      "final loss= 1444.4901123046875\n",
      "tensor_regression dy_mae 3.1421301\n"
     ]
    },
    {
     "data": {
      "image/png": "[encoded data removed]",
      "text/plain": [
       "<Figure size 432x288 with 1 Axes>"
      ]
     },
     "metadata": {
      "needs_background": "light"
     },
     "output_type": "display_data"
    }
   ],
   "source": [
    "y_train = tgt_displacement_train[:,0]\n",
    "model = train_tensor_regression(y_train, x_stat_train, s_viz_train,lr=1e-5)\n",
    "y_hat = model(x_stat_test, s_viz_test)\n",
    "y_true = tgt_displacement_test[:,0]\n",
    "print(\"tensor_regression dx_mae\", mean_absolute_error(y_true, y_hat.detach().numpy()))\n",
    "\n",
    "y_train2 = tgt_displacement_train[:,1]\n",
    "model = train_tensor_regression(y_train2, x_stat_train, s_viz_train,lr=1e-5)\n",
    "y_hat2 = model(x_stat_test, s_viz_test)\n",
    "y_true2= tgt_displacement_test[:,1]\n",
    "print(\"tensor_regression dy_mae\", mean_absolute_error(y_true2, y_hat2.detach().numpy()))\n"
   ]
  },
  {
   "cell_type": "code",
   "execution_count": 218,
   "metadata": {
    "scrolled": true
   },
   "outputs": [
    {
     "name": "stdout",
     "output_type": "stream",
     "text": [
      "final loss= 1113.613037109375\n",
      "accuracy score 0.6318114874815906\n",
      "Baseline score 0.5949926362297496\n"
     ]
    },
    {
     "data": {
      "image/png": "[encoded data removed]",
      "text/plain": [
       "<Figure size 432x288 with 1 Axes>"
      ]
     },
     "metadata": {
      "needs_background": "light"
     },
     "output_type": "display_data"
    }
   ],
   "source": [
    "y_train = tgt_intensity_cat_train \n",
    "model = train_tensor_regression(y_train, x_stat_train, s_viz_train, max_itr=6000, lr=5e-5)\n",
    "y_hat3 = model(x_stat_test, s_viz_test)\n",
    "y_true = tgt_intensity_cat_test\n",
    "print(\"accuracy score\", accuracy_score(y_true, y_hat3.round().detach().numpy()))\n",
    "print(\"Baseline score\", accuracy_score(y_true, tgt_intensity_cat_baseline_test))"
   ]
  },
  {
   "cell_type": "code",
   "execution_count": null,
   "metadata": {},
   "outputs": [],
   "source": []
  }
 ],
 "metadata": {
  "kernelspec": {
   "display_name": "Python 3",
   "language": "python",
   "name": "python3"
  },
  "language_info": {
   "codemirror_mode": {
    "name": "ipython",
    "version": 3
   },
   "file_extension": ".py",
   "mimetype": "text/x-python",
   "name": "python",
   "nbconvert_exporter": "python",
   "pygments_lexer": "ipython3",
   "version": "3.7.3"
  }
 },
 "nbformat": 4,
 "nbformat_minor": 4
}
