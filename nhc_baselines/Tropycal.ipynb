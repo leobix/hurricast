{
 "cells": [
  {
   "cell_type": "code",
   "execution_count": 1,
   "metadata": {},
   "outputs": [
    {
     "name": "stderr",
     "output_type": "stream",
     "text": [
      "/Users/cynthiazeng/anaconda3/lib/python3.7/site-packages/tropycal/plot/plot.py:16: UserWarning: Warning: Cartopy is not installed in your python environment. Plotting functions will not work.\n",
      "  warnings.warn(\"Warning: Cartopy is not installed in your python environment. Plotting functions will not work.\")\n",
      "/Users/cynthiazeng/anaconda3/lib/python3.7/site-packages/tropycal/tracks/plot.py:24: UserWarning: Warning: Cartopy is not installed in your python environment. Plotting functions will not work.\n",
      "  warnings.warn(\"Warning: Cartopy is not installed in your python environment. Plotting functions will not work.\")\n",
      "/Users/cynthiazeng/anaconda3/lib/python3.7/site-packages/tropycal/tornado/dataset.py:21: UserWarning: Warning: Cartopy is not installed in your python environment. Plotting functions will not work.\n",
      "  warnings.warn(warn_message)\n",
      "/Users/cynthiazeng/anaconda3/lib/python3.7/site-packages/tropycal/tornado/plot.py:21: UserWarning: Warning: Cartopy is not installed in your python environment. Plotting functions will not work.\n",
      "  warnings.warn(\"Warning: Cartopy is not installed in your python environment. Plotting functions will not work.\")\n",
      "/Users/cynthiazeng/anaconda3/lib/python3.7/site-packages/tropycal/recon/plot.py:22: UserWarning: Warning: Cartopy is not installed in your python environment. Plotting functions will not work.\n",
      "  warnings.warn(\"Warning: Cartopy is not installed in your python environment. Plotting functions will not work.\")\n"
     ]
    }
   ],
   "source": [
    "import tropycal.tracks as tracks\n",
    "import datetime as dt"
   ]
  },
  {
   "cell_type": "code",
   "execution_count": 2,
   "metadata": {},
   "outputs": [
    {
     "name": "stdout",
     "output_type": "stream",
     "text": [
      "--> Starting to read in HURDAT2 data\n",
      "--> Completed reading in HURDAT2 data (4.72 seconds)\n"
     ]
    }
   ],
   "source": [
    "#read north atlantic datasets\n",
    "hurdat_atl = tracks.TrackDataset(basin='north_atlantic',source='hurdat',include_btk=False)"
   ]
  },
  {
   "cell_type": "code",
   "execution_count": 3,
   "metadata": {},
   "outputs": [
    {
     "name": "stdout",
     "output_type": "stream",
     "text": [
      "                 date  extra_obs special type   lat   lon  vmax  mslp  \\\n",
      "0 2018-10-06 18:00:00          0           LO  17.8 -86.6    25  1006   \n",
      "1 2018-10-07 00:00:00          0           LO  18.1 -86.9    25  1004   \n",
      "2 2018-10-07 06:00:00          0           TD  18.4 -86.8    30  1004   \n",
      "3 2018-10-07 12:00:00          0           TS  18.8 -86.4    35  1003   \n",
      "4 2018-10-07 18:00:00          0           TS  19.1 -85.7    45   999   \n",
      "\n",
      "        wmo_basin  \n",
      "0  north_atlantic  \n",
      "1  north_atlantic  \n",
      "2  north_atlantic  \n",
      "3  north_atlantic  \n",
      "4  north_atlantic  \n"
     ]
    }
   ],
   "source": [
    "storm = hurdat_atl.get_storm(('michael',2018))\n",
    "print(storm.to_dataframe().head())"
   ]
  },
  {
   "cell_type": "code",
   "execution_count": 27,
   "metadata": {},
   "outputs": [
    {
     "name": "stdout",
     "output_type": "stream",
     "text": [
      "ZCZC MIATCDAT4 ALL\n",
      "TTAA00 KNHC DDHHMM\n",
      "\n",
      "Potential Tropical Cyclone Fourteen Discussion Number   1\n",
      "NWS National Hurricane Center Miami FL       AL142018\n",
      "400 PM CDT Sat Oct 06 2018\n",
      "\n",
      "Satellite imagery and surface observations indicate that the\n",
      "circulation of the low pressure area in the northwestern Caribbean\n",
      "Sea is getting better defined, and that the associated convection\n",
      "is becoming better organized.  While the system is currently not\n",
      "well enough organized to call it a tropical depression, current\n",
      "indications in the global models and the intensity guidance are that\n",
      "the system will develop into a tropical cyclone within 24 h and\n",
      "could bring tropical storm conditions to portions of western Cuba\n",
      "and the northeastern Yucatan Peninsula.  Based on the need for\n",
      "warnings and watches in these areas, advisories are being initiated\n",
      "on Potential Tropical Cyclone Fourteen.\n",
      "\n",
      "Although the intensity guidance is in excellent agreement that the\n",
      "system should strengthen through the forecast period, the global\n",
      "models indicate that shear caused by an upper-level trough over the\n",
      "Gulf of Mexico will persist through at least 48 h.  In addition, the\n",
      "strongest winds are currently well removed from the center, which is\n",
      "likely to slow development.  Based on this, the intensity forecast\n",
      "is in the lower part of the guidance envelope through 48 h, and then\n",
      "shows a faster rate of development from 48-96 h when the shear is\n",
      "forecast to diminish.  The intensity forecast is closest to a blend\n",
      "of the IVCN and HCCA consensus models.\n",
      "\n",
      "For the first 24-48 h, the disturbance should move generally\n",
      "northward on the western side of a weak mid-level ridge over the\n",
      "Caribbean Sea.  After that time, a large mid-latitude trough over\n",
      "the central United States and a mid- to upper-level ridge over the\n",
      "western Atlantic should steer the system generally northward at a\n",
      "faster forward speed, with the system expected to move near or over\n",
      "the northern Gulf coast in about 96 h.  After landfall, the system\n",
      "is likely to recurve northeastward into the westerlies.  The track\n",
      "guidance is in good overall agreement with this scenario.  However,\n",
      "it should be noted that there is a nearly 300 n mi cross-track\n",
      "spread in the guidance at the 96-h point.  The forecast track lies\n",
      "just to the west of the various consensus models.\n",
      "\n",
      "Key Messages for Potential Tropical Cyclone Fourteen:\n",
      "\n",
      "1.  This system is expected to produce heavy rainfall and flash\n",
      "flooding over portions of Central America, western Cuba, and the\n",
      "northeastern Yucatan Peninsula of Mexico during the next couple of\n",
      "days.  The system is also forecast to become a tropical storm by\n",
      "Sunday night and tropical storm conditions are expected over\n",
      "portions of western Cuba where a Tropical Storm Warning is in\n",
      "effect.\n",
      "\n",
      "2. The system could bring storm surge, rainfall, and wind impacts to\n",
      "portions of the northern Gulf Coast by mid-week, although it is too\n",
      "soon to specify the exact location and magnitude of these impacts.\n",
      "Residents in these areas should monitor the progress of this system.\n",
      "\n",
      "FORECAST POSITIONS AND MAX WINDS\n",
      "\n",
      "INIT  06/2100Z 18.0N  86.6W   25 KT  30 MPH...POTENTIAL TROP CYCLONE\n",
      " 12H  07/0600Z 18.7N  86.7W   25 KT  30 MPH\n",
      " 24H  07/1800Z 19.9N  86.6W   30 KT  35 MPH...TROPICAL CYCLONE\n",
      " 36H  08/0600Z 21.0N  86.6W   35 KT  40 MPH\n",
      " 48H  08/1800Z 22.5N  86.7W   40 KT  45 MPH\n",
      " 72H  09/1800Z 26.0N  87.5W   55 KT  65 MPH\n",
      " 96H  10/1800Z 30.5N  86.5W   60 KT  70 MPH\n",
      "120H  11/1800Z 35.5N  81.5W   30 KT  35 MPH...INLAND\n",
      "\n",
      "$$\n",
      "Forecaster Beven\n",
      "\n",
      "NNNN\n",
      "\n"
     ]
    }
   ],
   "source": [
    "# storm.plot(return_ax=True)\n",
    "\n",
    "# get_operational_forecasts()\n",
    "\n",
    "#Method 1: Specify date closest to desired discussion\n",
    "disco = storm.get_nhc_discussion(forecast=dt.datetime(2018,10,6,0))\n",
    "print(disco['text'])"
   ]
  },
  {
   "cell_type": "code",
   "execution_count": 26,
   "metadata": {},
   "outputs": [
    {
     "data": {
      "text/html": [
       "<div>\n",
       "<style scoped>\n",
       "    .dataframe tbody tr th:only-of-type {\n",
       "        vertical-align: middle;\n",
       "    }\n",
       "\n",
       "    .dataframe tbody tr th {\n",
       "        vertical-align: top;\n",
       "    }\n",
       "\n",
       "    .dataframe thead th {\n",
       "        text-align: right;\n",
       "    }\n",
       "</style>\n",
       "<table border=\"1\" class=\"dataframe\">\n",
       "  <thead>\n",
       "    <tr style=\"text-align: right;\">\n",
       "      <th></th>\n",
       "      <th>fhr</th>\n",
       "      <th>lat</th>\n",
       "      <th>lon</th>\n",
       "      <th>vmax</th>\n",
       "      <th>mslp</th>\n",
       "      <th>type</th>\n",
       "      <th>init</th>\n",
       "    </tr>\n",
       "  </thead>\n",
       "  <tbody>\n",
       "    <tr>\n",
       "      <th>0</th>\n",
       "      <td>-24</td>\n",
       "      <td>14.9</td>\n",
       "      <td>-83.5</td>\n",
       "      <td>20</td>\n",
       "      <td>NaN</td>\n",
       "      <td>TD</td>\n",
       "      <td>2018-10-06</td>\n",
       "    </tr>\n",
       "    <tr>\n",
       "      <th>1</th>\n",
       "      <td>-18</td>\n",
       "      <td>15.3</td>\n",
       "      <td>-83.8</td>\n",
       "      <td>20</td>\n",
       "      <td>NaN</td>\n",
       "      <td>TD</td>\n",
       "      <td>2018-10-06</td>\n",
       "    </tr>\n",
       "    <tr>\n",
       "      <th>2</th>\n",
       "      <td>-12</td>\n",
       "      <td>15.7</td>\n",
       "      <td>-84.0</td>\n",
       "      <td>20</td>\n",
       "      <td>NaN</td>\n",
       "      <td>TD</td>\n",
       "      <td>2018-10-06</td>\n",
       "    </tr>\n",
       "    <tr>\n",
       "      <th>3</th>\n",
       "      <td>-6</td>\n",
       "      <td>16.0</td>\n",
       "      <td>-84.3</td>\n",
       "      <td>25</td>\n",
       "      <td>NaN</td>\n",
       "      <td>TD</td>\n",
       "      <td>2018-10-06</td>\n",
       "    </tr>\n",
       "    <tr>\n",
       "      <th>4</th>\n",
       "      <td>0</td>\n",
       "      <td>16.5</td>\n",
       "      <td>-84.7</td>\n",
       "      <td>25</td>\n",
       "      <td>1007.0</td>\n",
       "      <td>TD</td>\n",
       "      <td>2018-10-06</td>\n",
       "    </tr>\n",
       "  </tbody>\n",
       "</table>\n",
       "</div>"
      ],
      "text/plain": [
       "   fhr   lat   lon  vmax    mslp type       init\n",
       "0  -24  14.9 -83.5    20     NaN   TD 2018-10-06\n",
       "1  -18  15.3 -83.8    20     NaN   TD 2018-10-06\n",
       "2  -12  15.7 -84.0    20     NaN   TD 2018-10-06\n",
       "3   -6  16.0 -84.3    25     NaN   TD 2018-10-06\n",
       "4    0  16.5 -84.7    25  1007.0   TD 2018-10-06"
      ]
     },
     "execution_count": 26,
     "metadata": {},
     "output_type": "execute_result"
    }
   ],
   "source": [
    "import pandas as pd\n",
    "pd.DataFrame(storm.get_operational_forecasts()['CARQ']['2018100600'])"
   ]
  },
  {
   "cell_type": "code",
   "execution_count": 6,
   "metadata": {},
   "outputs": [
    {
     "ename": "NameError",
     "evalue": "name 'ccrs' is not defined",
     "output_type": "error",
     "traceback": [
      "\u001b[0;31m---------------------------------------------------------------------------\u001b[0m",
      "\u001b[0;31mNameError\u001b[0m                                 Traceback (most recent call last)",
      "\u001b[0;32m<ipython-input-6-c7a06040ffee>\u001b[0m in \u001b[0;36m<module>\u001b[0;34m\u001b[0m\n\u001b[0;32m----> 1\u001b[0;31m \u001b[0mstorm\u001b[0m\u001b[0;34m.\u001b[0m\u001b[0mplot_nhc_forecast\u001b[0m\u001b[0;34m(\u001b[0m\u001b[0mforecast\u001b[0m\u001b[0;34m=\u001b[0m\u001b[0;36m2\u001b[0m\u001b[0;34m)\u001b[0m\u001b[0;34m\u001b[0m\u001b[0;34m\u001b[0m\u001b[0m\n\u001b[0m",
      "\u001b[0;32m~/anaconda3/lib/python3.7/site-packages/tropycal/tracks/storm.py\u001b[0m in \u001b[0;36mplot_nhc_forecast\u001b[0;34m(self, forecast, track_labels, cone_days, domain, ax, return_ax, cartopy_proj, prop, map_prop)\u001b[0m\n\u001b[1;32m    403\u001b[0m                 \u001b[0mself\u001b[0m\u001b[0;34m.\u001b[0m\u001b[0mplot_obj\u001b[0m\u001b[0;34m.\u001b[0m\u001b[0mcreate_cartopy\u001b[0m\u001b[0;34m(\u001b[0m\u001b[0mproj\u001b[0m\u001b[0;34m=\u001b[0m\u001b[0;34m'PlateCarree'\u001b[0m\u001b[0;34m,\u001b[0m\u001b[0mcentral_longitude\u001b[0m\u001b[0;34m=\u001b[0m\u001b[0;36m180.0\u001b[0m\u001b[0;34m)\u001b[0m\u001b[0;34m\u001b[0m\u001b[0;34m\u001b[0m\u001b[0m\n\u001b[1;32m    404\u001b[0m             \u001b[0;32melse\u001b[0m\u001b[0;34m:\u001b[0m\u001b[0;34m\u001b[0m\u001b[0;34m\u001b[0m\u001b[0m\n\u001b[0;32m--> 405\u001b[0;31m                 \u001b[0mself\u001b[0m\u001b[0;34m.\u001b[0m\u001b[0mplot_obj\u001b[0m\u001b[0;34m.\u001b[0m\u001b[0mcreate_cartopy\u001b[0m\u001b[0;34m(\u001b[0m\u001b[0mproj\u001b[0m\u001b[0;34m=\u001b[0m\u001b[0;34m'PlateCarree'\u001b[0m\u001b[0;34m,\u001b[0m\u001b[0mcentral_longitude\u001b[0m\u001b[0;34m=\u001b[0m\u001b[0;36m0.0\u001b[0m\u001b[0;34m)\u001b[0m\u001b[0;34m\u001b[0m\u001b[0;34m\u001b[0m\u001b[0m\n\u001b[0m\u001b[1;32m    406\u001b[0m \u001b[0;34m\u001b[0m\u001b[0m\n\u001b[1;32m    407\u001b[0m         \u001b[0;31m#Get forecasts dict saved into storm object, if it hasn't been already\u001b[0m\u001b[0;34m\u001b[0m\u001b[0;34m\u001b[0m\u001b[0;34m\u001b[0m\u001b[0m\n",
      "\u001b[0;32m~/anaconda3/lib/python3.7/site-packages/tropycal/plot/plot.py\u001b[0m in \u001b[0;36mcreate_cartopy\u001b[0;34m(self, proj, mapobj, **kwargs)\u001b[0m\n\u001b[1;32m     69\u001b[0m         \u001b[0;31m#Initialize an instance of cartopy if not passed\u001b[0m\u001b[0;34m\u001b[0m\u001b[0;34m\u001b[0m\u001b[0;34m\u001b[0m\u001b[0m\n\u001b[1;32m     70\u001b[0m         \u001b[0;32mif\u001b[0m \u001b[0mmapobj\u001b[0m \u001b[0;34m==\u001b[0m \u001b[0;32mNone\u001b[0m\u001b[0;34m:\u001b[0m\u001b[0;34m\u001b[0m\u001b[0;34m\u001b[0m\u001b[0m\n\u001b[0;32m---> 71\u001b[0;31m             \u001b[0mself\u001b[0m\u001b[0;34m.\u001b[0m\u001b[0mproj\u001b[0m \u001b[0;34m=\u001b[0m \u001b[0mgetattr\u001b[0m\u001b[0;34m(\u001b[0m\u001b[0mccrs\u001b[0m\u001b[0;34m,\u001b[0m \u001b[0mproj\u001b[0m\u001b[0;34m)\u001b[0m\u001b[0;34m(\u001b[0m\u001b[0;34m**\u001b[0m\u001b[0mkwargs\u001b[0m\u001b[0;34m)\u001b[0m\u001b[0;34m\u001b[0m\u001b[0;34m\u001b[0m\u001b[0m\n\u001b[0m\u001b[1;32m     72\u001b[0m         \u001b[0;32melse\u001b[0m\u001b[0;34m:\u001b[0m\u001b[0;34m\u001b[0m\u001b[0;34m\u001b[0m\u001b[0m\n\u001b[1;32m     73\u001b[0m             \u001b[0mself\u001b[0m\u001b[0;34m.\u001b[0m\u001b[0mproj\u001b[0m \u001b[0;34m=\u001b[0m \u001b[0mmapobj\u001b[0m\u001b[0;34m\u001b[0m\u001b[0;34m\u001b[0m\u001b[0m\n",
      "\u001b[0;31mNameError\u001b[0m: name 'ccrs' is not defined"
     ]
    }
   ],
   "source": [
    "storm.plot_nhc_forecast(forecast=2)"
   ]
  },
  {
   "cell_type": "code",
   "execution_count": null,
   "metadata": {},
   "outputs": [],
   "source": []
  }
 ],
 "metadata": {
  "kernelspec": {
   "display_name": "Python 3",
   "language": "python",
   "name": "python3"
  },
  "language_info": {
   "codemirror_mode": {
    "name": "ipython",
    "version": 3
   },
   "file_extension": ".py",
   "mimetype": "text/x-python",
   "name": "python",
   "nbconvert_exporter": "python",
   "pygments_lexer": "ipython3",
   "version": "3.7.3"
  }
 },
 "nbformat": 4,
 "nbformat_minor": 2
}
