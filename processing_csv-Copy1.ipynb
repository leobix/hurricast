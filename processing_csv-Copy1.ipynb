{
 "cells": [
  {
   "cell_type": "code",
   "execution_count": 2,
   "metadata": {},
   "outputs": [],
   "source": [
    "import pandas as pd \n",
    "import numpy as np\n",
    "import matplotlib.pyplot as plt\n",
    "import torch"
   ]
  },
  {
   "cell_type": "code",
   "execution_count": 3,
   "metadata": {},
   "outputs": [
    {
     "name": "stderr",
     "output_type": "stream",
     "text": [
      "/Users/cynthiazeng/anaconda3/lib/python3.7/site-packages/IPython/core/interactiveshell.py:3057: DtypeWarning: Columns (1,2,8,9,14,19,20,25,161,162) have mixed types. Specify dtype option on import or set low_memory=False.\n",
      "  interactivity=interactivity, compiler=compiler, result=result)\n"
     ]
    },
    {
     "data": {
      "text/html": [
       "<div>\n",
       "<style scoped>\n",
       "    .dataframe tbody tr th:only-of-type {\n",
       "        vertical-align: middle;\n",
       "    }\n",
       "\n",
       "    .dataframe tbody tr th {\n",
       "        vertical-align: top;\n",
       "    }\n",
       "\n",
       "    .dataframe thead th {\n",
       "        text-align: right;\n",
       "    }\n",
       "</style>\n",
       "<table border=\"1\" class=\"dataframe\">\n",
       "  <thead>\n",
       "    <tr style=\"text-align: right;\">\n",
       "      <th></th>\n",
       "      <th>SID</th>\n",
       "      <th>SEASON</th>\n",
       "      <th>NUMBER</th>\n",
       "      <th>BASIN</th>\n",
       "      <th>SUBBASIN</th>\n",
       "      <th>NAME</th>\n",
       "      <th>ISO_TIME</th>\n",
       "      <th>NATURE</th>\n",
       "      <th>LAT</th>\n",
       "      <th>LON</th>\n",
       "      <th>...</th>\n",
       "      <th>BOM_GUST_PER</th>\n",
       "      <th>REUNION_GUST</th>\n",
       "      <th>REUNION_GUST_PER</th>\n",
       "      <th>USA_SEAHGT</th>\n",
       "      <th>USA_SEARAD_NE</th>\n",
       "      <th>USA_SEARAD_SE</th>\n",
       "      <th>USA_SEARAD_SW</th>\n",
       "      <th>USA_SEARAD_NW</th>\n",
       "      <th>STORM_SPEED</th>\n",
       "      <th>STORM_DIR</th>\n",
       "    </tr>\n",
       "  </thead>\n",
       "  <tbody>\n",
       "    <tr>\n",
       "      <th>0</th>\n",
       "      <td></td>\n",
       "      <td>Year</td>\n",
       "      <td></td>\n",
       "      <td></td>\n",
       "      <td></td>\n",
       "      <td></td>\n",
       "      <td></td>\n",
       "      <td></td>\n",
       "      <td>degrees_north</td>\n",
       "      <td>degrees_east</td>\n",
       "      <td>...</td>\n",
       "      <td>second</td>\n",
       "      <td>kts</td>\n",
       "      <td>second</td>\n",
       "      <td>ft</td>\n",
       "      <td>nmile</td>\n",
       "      <td>nmile</td>\n",
       "      <td>nmile</td>\n",
       "      <td>nmile</td>\n",
       "      <td>kts</td>\n",
       "      <td>degrees</td>\n",
       "    </tr>\n",
       "    <tr>\n",
       "      <th>1</th>\n",
       "      <td>2016005N02187</td>\n",
       "      <td>2016</td>\n",
       "      <td>1</td>\n",
       "      <td>EP</td>\n",
       "      <td>CP</td>\n",
       "      <td>PALI</td>\n",
       "      <td>2016-01-05 06:00:00</td>\n",
       "      <td>NR</td>\n",
       "      <td>2.00000</td>\n",
       "      <td>-173.500</td>\n",
       "      <td>...</td>\n",
       "      <td></td>\n",
       "      <td></td>\n",
       "      <td></td>\n",
       "      <td></td>\n",
       "      <td></td>\n",
       "      <td></td>\n",
       "      <td></td>\n",
       "      <td></td>\n",
       "      <td>3</td>\n",
       "      <td>73</td>\n",
       "    </tr>\n",
       "    <tr>\n",
       "      <th>2</th>\n",
       "      <td>2016005N02187</td>\n",
       "      <td>2016</td>\n",
       "      <td>1</td>\n",
       "      <td>EP</td>\n",
       "      <td>CP</td>\n",
       "      <td>PALI</td>\n",
       "      <td>2016-01-05 09:00:00</td>\n",
       "      <td>NR</td>\n",
       "      <td>2.04500</td>\n",
       "      <td>-173.353</td>\n",
       "      <td>...</td>\n",
       "      <td></td>\n",
       "      <td></td>\n",
       "      <td></td>\n",
       "      <td></td>\n",
       "      <td></td>\n",
       "      <td></td>\n",
       "      <td></td>\n",
       "      <td></td>\n",
       "      <td>3</td>\n",
       "      <td>71</td>\n",
       "    </tr>\n",
       "    <tr>\n",
       "      <th>3</th>\n",
       "      <td>2016005N02187</td>\n",
       "      <td>2016</td>\n",
       "      <td>1</td>\n",
       "      <td>EP</td>\n",
       "      <td>CP</td>\n",
       "      <td>PALI</td>\n",
       "      <td>2016-01-05 12:00:00</td>\n",
       "      <td>NR</td>\n",
       "      <td>2.10000</td>\n",
       "      <td>-173.200</td>\n",
       "      <td>...</td>\n",
       "      <td></td>\n",
       "      <td></td>\n",
       "      <td></td>\n",
       "      <td></td>\n",
       "      <td></td>\n",
       "      <td></td>\n",
       "      <td></td>\n",
       "      <td></td>\n",
       "      <td>3</td>\n",
       "      <td>67</td>\n",
       "    </tr>\n",
       "    <tr>\n",
       "      <th>4</th>\n",
       "      <td>2016005N02187</td>\n",
       "      <td>2016</td>\n",
       "      <td>1</td>\n",
       "      <td>EP</td>\n",
       "      <td>CP</td>\n",
       "      <td>PALI</td>\n",
       "      <td>2016-01-05 15:00:00</td>\n",
       "      <td>NR</td>\n",
       "      <td>2.17750</td>\n",
       "      <td>-173.042</td>\n",
       "      <td>...</td>\n",
       "      <td></td>\n",
       "      <td></td>\n",
       "      <td></td>\n",
       "      <td></td>\n",
       "      <td></td>\n",
       "      <td></td>\n",
       "      <td></td>\n",
       "      <td></td>\n",
       "      <td>4</td>\n",
       "      <td>56</td>\n",
       "    </tr>\n",
       "  </tbody>\n",
       "</table>\n",
       "<p>5 rows × 163 columns</p>\n",
       "</div>"
      ],
      "text/plain": [
       "             SID SEASON NUMBER BASIN SUBBASIN  NAME             ISO_TIME  \\\n",
       "0                  Year                                                    \n",
       "1  2016005N02187   2016      1    EP       CP  PALI  2016-01-05 06:00:00   \n",
       "2  2016005N02187   2016      1    EP       CP  PALI  2016-01-05 09:00:00   \n",
       "3  2016005N02187   2016      1    EP       CP  PALI  2016-01-05 12:00:00   \n",
       "4  2016005N02187   2016      1    EP       CP  PALI  2016-01-05 15:00:00   \n",
       "\n",
       "  NATURE            LAT           LON  ... BOM_GUST_PER REUNION_GUST  \\\n",
       "0         degrees_north  degrees_east  ...       second          kts   \n",
       "1     NR        2.00000      -173.500  ...                             \n",
       "2     NR        2.04500      -173.353  ...                             \n",
       "3     NR        2.10000      -173.200  ...                             \n",
       "4     NR        2.17750      -173.042  ...                             \n",
       "\n",
       "  REUNION_GUST_PER USA_SEAHGT USA_SEARAD_NE USA_SEARAD_SE USA_SEARAD_SW  \\\n",
       "0           second         ft         nmile         nmile         nmile   \n",
       "1                                                                         \n",
       "2                                                                         \n",
       "3                                                                         \n",
       "4                                                                         \n",
       "\n",
       "  USA_SEARAD_NW STORM_SPEED STORM_DIR  \n",
       "0         nmile         kts   degrees  \n",
       "1                         3        73  \n",
       "2                         3        71  \n",
       "3                         3        67  \n",
       "4                         4        56  \n",
       "\n",
       "[5 rows x 163 columns]"
      ]
     },
     "execution_count": 3,
     "metadata": {},
     "output_type": "execute_result"
    }
   ],
   "source": [
    "#here set up the path of your file, a priori it should be on same directory\n",
    "data = pd.read_csv(\"ibtracs.last3years.list.v04r00.csv\") \n",
    "#data = pd.read_csv(\"ibtracs.since1980.list.v04r00.csv\") \n",
    "\n",
    "# Preview the first 5 lines of the loaded data \n",
    "data.head()"
   ]
  },
  {
   "cell_type": "code",
   "execution_count": 4,
   "metadata": {},
   "outputs": [
    {
     "data": {
      "text/plain": [
       "(20603, 163)"
      ]
     },
     "execution_count": 4,
     "metadata": {},
     "output_type": "execute_result"
    }
   ],
   "source": [
    "data.shape"
   ]
  },
  {
   "cell_type": "code",
   "execution_count": 5,
   "metadata": {},
   "outputs": [
    {
     "name": "stderr",
     "output_type": "stream",
     "text": [
      "/Users/cynthiazeng/anaconda3/lib/python3.7/site-packages/ipykernel_launcher.py:9: SettingWithCopyWarning: \n",
      "A value is trying to be set on a copy of a slice from a DataFrame.\n",
      "Try using .loc[row_indexer,col_indexer] = value instead\n",
      "\n",
      "See the caveats in the documentation: http://pandas.pydata.org/pandas-docs/stable/indexing.html#indexing-view-versus-copy\n",
      "  if __name__ == '__main__':\n",
      "/Users/cynthiazeng/anaconda3/lib/python3.7/site-packages/ipykernel_launcher.py:10: SettingWithCopyWarning: \n",
      "A value is trying to be set on a copy of a slice from a DataFrame.\n",
      "Try using .loc[row_indexer,col_indexer] = value instead\n",
      "\n",
      "See the caveats in the documentation: http://pandas.pydata.org/pandas-docs/stable/indexing.html#indexing-view-versus-copy\n",
      "  # Remove the CWD from sys.path while we load stuff.\n"
     ]
    }
   ],
   "source": [
    "#allows to keep only specific columns\n",
    "def select_data(data):\n",
    "    return data[['SID', 'NUMBER', 'ISO_TIME', 'LAT', 'LON', 'WMO_WIND', 'WMO_PRES', 'DIST2LAND', 'STORM_SPEED', 'STORM_DIR']]#, 'BASIN', 'NATURE']]\n",
    "\n",
    "#convert columns to numeric values\n",
    "#and interpolate missing values\n",
    "def numeric_data(data):\n",
    "    for i in ['LAT', 'LON', 'WMO_WIND', 'WMO_PRES', 'DIST2LAND', 'STORM_SPEED', 'STORM_DIR']:\n",
    "        data[i]=pd.to_numeric(data[i],errors='coerce').astype('float64')\n",
    "        data[i]=data[i].interpolate(method='linear')\n",
    "    return data\n",
    "\n",
    "# df0 is  cleaned data \n",
    "df0 = select_data(data)\n",
    "df0 = numeric_data(df0)"
   ]
  },
  {
   "cell_type": "code",
   "execution_count": 6,
   "metadata": {},
   "outputs": [],
   "source": [
    "#to have one-hot encoding of basin and nature of the storm\n",
    "def add_one_hot(data, df0):\n",
    "    basin = pd.get_dummies(data['BASIN'],prefix='basin')\n",
    "    basin.drop(columns=['basin_ '])\n",
    "    nature = pd.get_dummies(data['NATURE'],prefix='nature')\n",
    "    nature.drop('nature_ ', axis=1)\n",
    "    frames = [df0, basin, nature]\n",
    "    df0 = pd.concat(frames, axis = 1)\n",
    "    return df0"
   ]
  },
  {
   "cell_type": "code",
   "execution_count": 7,
   "metadata": {},
   "outputs": [],
   "source": [
    "#This code allows to get the maximum wind change in the last X hours.\n",
    "def get_max_change(data, time, i):\n",
    "    t = time//3\n",
    "    try:\n",
    "        val = max(data['WMO_WIND'][i-t:i])-min(data['WMO_WIND'][i-t:i])\n",
    "    except:\n",
    "        val = 'NaN'\n",
    "    return val\n",
    "\n",
    "#please specify a multiple of 3h for the time\n",
    "def get_max_wind_change(data, time):\n",
    "    df = data\n",
    "    df['max_wind_change']=[get_max_change(data, time, i) for i in range(len(data))]\n",
    "    return df"
   ]
  },
  {
   "cell_type": "code",
   "execution_count": 8,
   "metadata": {},
   "outputs": [],
   "source": [
    "def sort_storm(data, min_wind, min_steps = 5, max_steps = 120):\n",
    "    '''function to create dictionary of storm matrices\n",
    "    arguments: \n",
    "    data we want to cut\n",
    "    min_wind: the minimum wind speed to store data \n",
    "    '''\n",
    "    #get unique storm_id:\n",
    "    SID=pd.unique(data['SID']).tolist()\n",
    "    #remove empty SID\n",
    "    SID.remove(' ') \n",
    "    #create empty dictionary\n",
    "    dict0={}\n",
    "    ind = 0\n",
    "    for i in range(len(SID)):\n",
    "        #get data of a particular SID\n",
    "        M = data.loc[data['SID'] == SID[i]]\n",
    "        #cut off using min wind speed\n",
    "        #TODO : cut everything before, ie look for the right date\n",
    "        try:\n",
    "            t = M.index[M['WMO_WIND']>= min_wind][0]\n",
    "            t0 = M.index[0]\n",
    "        except:\n",
    "            t = 0\n",
    "        N = M.loc[M['WMO_WIND'] >= min_wind]\n",
    "        #save matrix in dict0\n",
    "        if N.shape[0] > min_steps:\n",
    "            ind+=1\n",
    "            dict0.update({ind:M.iloc[t-t0:max_steps+t-t0]})\n",
    "\n",
    "    return dict0\n",
    "\n",
    "#storms is the dictionary all storm matrices\n",
    "storms = sort_storm(df0, min_wind=45, min_steps=15)\n"
   ]
  },
  {
   "cell_type": "code",
   "execution_count": 9,
   "metadata": {},
   "outputs": [],
   "source": [
    "'''CYNTHIA ADDED THIS Oct.31st'''\n",
    "#Geographical difference features: i.e. feature_1(t) = feature(t)-feature(0)\n",
    "    # features: LAT, LON, DIST2LAND\n",
    "def geo_diff(dict0):\n",
    "    dict1={}\n",
    "    #loop over each dataframe\n",
    "    for i in dict0:\n",
    "        df=dict0[i]\n",
    "        #reset index\n",
    "        df.reset_index(inplace=True, drop=True)\n",
    "        #calculate difference from t=0 \n",
    "        df['LAT_1']= df['LAT'] - df['LAT'][0]\n",
    "        df['LON_1']= df['LON'] - df['LON'][0]\n",
    "        df['DIST2LAND_1']= df['DIST2LAND'] - df['DIST2LAND'][0]\n",
    "        #substitute back to the dictionary\n",
    "        dict1[i]=df\n",
    "    return dict1\n",
    "\n",
    "storms = geo_diff(storms)\n",
    "        "
   ]
  },
  {
   "cell_type": "code",
   "execution_count": 10,
   "metadata": {},
   "outputs": [],
   "source": [
    "#instead of padding with 0, pad with latest values in loop\n",
    "def pad_traj(dict0, max_steps, nan = False):\n",
    "    dict1={}\n",
    "    for t in dict0:\n",
    "        num_steps = dict0[t].shape[0]\n",
    "        steps2add = max_steps - num_steps\n",
    "        if steps2add > 0:\n",
    "            if nan:\n",
    "                dict1[t] = pd.concat([dict0[t], pd.DataFrame([[np.nan] * dict0[t].shape[1]]*steps2add, columns=dict0[t].columns)], ignore_index=True)\n",
    "            else:\n",
    "                dict1[t] = pd.concat([dict0[t], pd.DataFrame([[0] * dict0[t].shape[1]]*steps2add, columns=dict0[t].columns)], ignore_index=True)                \n",
    "            #dict1[t] = pd.concat([dict0[t], pd.DataFrame([dict0[t].tail(1)]*steps2add, columns=dict0[t].columns)], ignore_index=True)                       \n",
    "        else:\n",
    "            dict1[t] = dict0[t][:max_steps]\n",
    "    return dict1"
   ]
  },
  {
   "cell_type": "code",
   "execution_count": 11,
   "metadata": {},
   "outputs": [],
   "source": [
    "#function to calculate tensor shape\n",
    "    #input: dictionary of storm data\n",
    "def tensor_shape(dict0):\n",
    "    #number of storms\n",
    "    num_storms=len(dict0) - 1\n",
    "    #number of features\n",
    "    num_features=dict0[next(iter(dict0))].shape[1]  \n",
    "    \n",
    "    #to compute min and max number of steps\n",
    "    t_max = 0 #initialise \n",
    "    t_min = 1000\n",
    "    t_hist = []\n",
    "    for i in dict0:\n",
    "        t0 = dict0[i].shape[0]\n",
    "        t_hist.append(t0)\n",
    "        if  t0 > t_max:\n",
    "            t_max = t0\n",
    "        if t0 < t_min:\n",
    "            t_min = t0\n",
    "    print(\"There are %s storms with %s features, and maximum number of steps is %s and minimum is %s.\" %(num_storms,num_features,t_max, t_min))\n",
    "    return num_storms, num_features, t_max, t_min, t_hist     \n",
    "    \n",
    "#call tensor_shape \n",
    "#m, n, t_max, t_min, t_hist = tensor_shape(d)"
   ]
  },
  {
   "cell_type": "code",
   "execution_count": 12,
   "metadata": {},
   "outputs": [],
   "source": [
    "#create a tensor\n",
    "def create_tensor(data, number_of_storms):\n",
    "    tensor = data[1]\n",
    "    for i in range(2,number_of_storms,1):\n",
    "        tensor=np.dstack((tensor, data[i]))\n",
    "    #return list of features \n",
    "    p_list = data[1].columns.tolist()\n",
    "    return tensor, p_list\n",
    "\n",
    "def repad(t):\n",
    "    for i in range(t.shape[0]):\n",
    "        if t[i][2][-1] == 0:\n",
    "            ind = np.argmin(t[0][2])\n",
    "            for j in range(ind,t.shape[2]):\n",
    "                t[i,:,j]=t[i,:,ind-1]\n",
    "    return t"
   ]
  },
  {
   "cell_type": "code",
   "execution_count": 13,
   "metadata": {},
   "outputs": [],
   "source": [
    "def prepare_data(path = \"ibtracs.last3years.list.v04r00.csv\", max_wind_change = 12, min_wind = 50, min_steps = 15, max_steps = 120):\n",
    "    data = pd.read_csv(path) \n",
    "    #select interesting columns\n",
    "    df0 = select_data(data)\n",
    "    #transform data from String to numeric\n",
    "    df0 = numeric_data(df0)\n",
    "    #transform basin and nature of the storm into one-hot vector\n",
    "    #df0 = add_one_hot(data, df0)\n",
    "    #add the max-wind-change column\n",
    "    df0 = get_max_wind_change(df0, max_wind_change)\n",
    "    #get a dict with the storms with a windspeed greater to a treshold\n",
    "    storms = sort_storm(df0, min_wind, min_steps)\n",
    "    #add geo_difference columns\n",
    "    storms = geo_diff(storms)\n",
    "    #pad the trajectories to a fix length\n",
    "    d = pad_traj(storms, max_steps)\n",
    "    #print the shape of the tensor\n",
    "    m, n, t_max, t_min, t_hist = tensor_shape(d)\n",
    "    #create the tensor\n",
    "    t, p_list = create_tensor(d, m)\n",
    "    #delete id and number of the storms\n",
    "    t2=torch.Tensor(t[:,3:,:].astype('float64'))\n",
    "    #match feature list \n",
    "    p_list = p_list[3:]\n",
    "    #transpose time and sample\n",
    "    t3=torch.transpose(t2,0,2)\n",
    "    #replace 0 by latest values in the tensor\n",
    "    t3 = repad(t3)\n",
    "    return t3, p_list "
   ]
  },
  {
   "cell_type": "code",
   "execution_count": 14,
   "metadata": {},
   "outputs": [
    {
     "name": "stderr",
     "output_type": "stream",
     "text": [
      "/Users/cynthiazeng/anaconda3/lib/python3.7/site-packages/IPython/core/interactiveshell.py:3248: DtypeWarning: Columns (1,2,8,9,14,19,20,25,161,162) have mixed types. Specify dtype option on import or set low_memory=False.\n",
      "  if (await self.run_code(code, result,  async_=asy)):\n",
      "/Users/cynthiazeng/anaconda3/lib/python3.7/site-packages/ipykernel_launcher.py:9: SettingWithCopyWarning: \n",
      "A value is trying to be set on a copy of a slice from a DataFrame.\n",
      "Try using .loc[row_indexer,col_indexer] = value instead\n",
      "\n",
      "See the caveats in the documentation: http://pandas.pydata.org/pandas-docs/stable/indexing.html#indexing-view-versus-copy\n",
      "  if __name__ == '__main__':\n",
      "/Users/cynthiazeng/anaconda3/lib/python3.7/site-packages/ipykernel_launcher.py:10: SettingWithCopyWarning: \n",
      "A value is trying to be set on a copy of a slice from a DataFrame.\n",
      "Try using .loc[row_indexer,col_indexer] = value instead\n",
      "\n",
      "See the caveats in the documentation: http://pandas.pydata.org/pandas-docs/stable/indexing.html#indexing-view-versus-copy\n",
      "  # Remove the CWD from sys.path while we load stuff.\n",
      "/Users/cynthiazeng/anaconda3/lib/python3.7/site-packages/ipykernel_launcher.py:13: SettingWithCopyWarning: \n",
      "A value is trying to be set on a copy of a slice from a DataFrame.\n",
      "Try using .loc[row_indexer,col_indexer] = value instead\n",
      "\n",
      "See the caveats in the documentation: http://pandas.pydata.org/pandas-docs/stable/indexing.html#indexing-view-versus-copy\n",
      "  del sys.path[0]\n"
     ]
    },
    {
     "name": "stdout",
     "output_type": "stream",
     "text": [
      "There are 92 storms with 14 features, and maximum number of steps is 60 and minimum is 60.\n"
     ]
    }
   ],
   "source": [
    "t3, p_list = prepare_data(max_steps=60)"
   ]
  },
  {
   "cell_type": "code",
   "execution_count": 15,
   "metadata": {},
   "outputs": [
    {
     "data": {
      "text/plain": [
       "['LAT',\n",
       " 'LON',\n",
       " 'WMO_WIND',\n",
       " 'WMO_PRES',\n",
       " 'DIST2LAND',\n",
       " 'STORM_SPEED',\n",
       " 'STORM_DIR',\n",
       " 'max_wind_change',\n",
       " 'LAT_1',\n",
       " 'LON_1',\n",
       " 'DIST2LAND_1']"
      ]
     },
     "execution_count": 15,
     "metadata": {},
     "output_type": "execute_result"
    }
   ],
   "source": [
    "p_list"
   ]
  },
  {
   "cell_type": "code",
   "execution_count": 16,
   "metadata": {},
   "outputs": [],
   "source": [
    "from __future__ import print_function\n",
    "import torch\n",
    "import numpy as np\n",
    "import torch.nn.functional as F\n",
    "\n",
    "dtype = torch.float\n",
    "device = torch.device(\"cpu\")"
   ]
  },
  {
   "cell_type": "code",
   "execution_count": 17,
   "metadata": {},
   "outputs": [],
   "source": [
    "#2 dimensional SVD \n",
    "def mat_svd(X,r,m,n,t):\n",
    "    #Mode-1 folding\n",
    "    X1= X.reshape(m,n*t)\n",
    "    U,S,V= torch.svd(X1,some=True, compute_uv=True) \n",
    "    U1=U[:,:r]\n",
    "    #Mode-2 folding\n",
    "    X2= X.reshape(m*t,n) \n",
    "    U,S,V= torch.svd(X2,some=True, compute_uv=True) \n",
    "    V1=V[:,:r]\n",
    "    return U1,V1\n",
    "\n",
    "#calculate MAE:\n",
    "def get_mae(tensor1,tensor2):\n",
    "    error = (tensor1-tensor2).abs().sum().item()\n",
    "    return error \n",
    "\n",
    "\n",
    "#Slice Iteration: for one iteration \n",
    "def slice_iteration(tensor,r,m,n,t):\n",
    "    new_tensor = torch.empty((m,n,t)) \n",
    "    #get U,V\n",
    "    U,V = mat_svd(tensor, r,m,n,t)\n",
    "    \n",
    "    #update tensor \n",
    "    UU = torch.mm(U,torch.t(U))\n",
    "    VV = torch.mm(V,torch.t(V))\n",
    "    for i in range(t):\n",
    "        new_tensor[:,:,i] = torch.mm(torch.mm(UU, tensor[:,:,i]),VV) \n",
    "    return new_tensor "
   ]
  },
  {
   "cell_type": "code",
   "execution_count": 18,
   "metadata": {},
   "outputs": [],
   "source": [
    "#Slice Learning \n",
    "def slice_learning(tensor_train,r,max_iteration=50,convergence=0.001, plot=False):\n",
    "    m,n,t = tensor_train.shape\n",
    "    new_tensor = torch.empty(m,n,t) \n",
    "    old_tensor = tensor_train \n",
    "    mae_all=[]\n",
    "    \n",
    "    mae = convergence + 1 \n",
    "    #Iterative slice learning \n",
    "    for i in range(max_iteration): \n",
    "        if mae > convergence: \n",
    "            new_tensor = slice_iteration(old_tensor,r,m,n,t)\n",
    "            mae = get_mae(new_tensor,old_tensor) \n",
    "            mae_all.append(mae)\n",
    "            old_tensor = new_tensor \n",
    "    \n",
    "    #plot MAE difference between iterations   \n",
    "    max_i = len(mae_all)\n",
    "\n",
    "    print('Code stopped at iteration = %s, and mae difference = %s'%(max_i,mae_all[-1]))\n",
    "    if plot:\n",
    "        plt.plot(np.linspace(1,max_i,max_i),mae_all)\n",
    "        plt.yscale('log')\n",
    "        plt.show()\n",
    "    return new_tensor \n",
    "\n",
    "#X_imputed = slice_learning(t3_test2,16)\n",
    "\n",
    "#find the MAE difference between X_imputed and X_original\n",
    "#print('The MAE between X_imputed and X_original is %s' %(get_mae(X_imputed,t3_test2)))"
   ]
  },
  {
   "cell_type": "code",
   "execution_count": 19,
   "metadata": {},
   "outputs": [],
   "source": [
    "#Function to standardize and de_standardize data \n",
    "def standardize(tensor): \n",
    "    new_tensor = tensor.clone()\n",
    "    #calculate along 2nd (python index) dimension \n",
    "    std, mean = torch.std_mean(tensor, dim=2)\n",
    "    t=tensor.shape[2]\n",
    "    for i in range(t):\n",
    "        #element wise division\n",
    "        new_tensor[:,:,i] = torch.div((tensor[:,:,i] - mean),std)  \n",
    "    #replace Nan with 0 \n",
    "    new_tensor[new_tensor != new_tensor] = 0\n",
    "    return new_tensor, mean, std\n",
    "\n",
    "def de_standardize(tensor,mean,std):\n",
    "    t=tensor.shape[2]\n",
    "    new_tensor = tensor.clone()\n",
    "    for i in range(t):\n",
    "        #element wise multiplication\n",
    "        new_tensor[:,:,i] = torch.mul(tensor[:,:,i] ,std) + mean \n",
    "    return new_tensor \n",
    "\n",
    "# a,m,std=standardize(x)\n",
    "# b=de_standardize(a,m,std) \n",
    "# print('standardize',a )\n",
    "# print('de_standardize', b)\n",
    " \n",
    "# def de_normalize (tensor, tensor_imputed):\n",
    "#     scale = torch.div(tensor, tensor_imputed)\n",
    "#     tensor_recover = torch.mul(tensor_imputed,scale)\n",
    "#     return tensor_recover"
   ]
  },
  {
   "cell_type": "code",
   "execution_count": 25,
   "metadata": {},
   "outputs": [],
   "source": [
    "#Testing function by deleting entries after time t for one particular storm  \n",
    "def test(data, p_list, storm_id, time, r, plot_feature_p = -1, norm = 'normalize'):\n",
    "    data0 = data.clone()\n",
    "    \n",
    "    #data0= delete one storm data for testing  \n",
    "    for t in range(time,data.shape[2]):\n",
    "        data0[storm_id,:,t] = data0[storm_id,:,time-1]\n",
    "    \n",
    "    #get_best_r(data2, 5, 21)\n",
    "    if norm =='no_scale':\n",
    "        #slice_learning 1: no_scale \n",
    "        X_imputed = slice_learning(data0,r)\n",
    "    \n",
    "    if norm == 'normalize':\n",
    "        #slice learning 2: normalize data \n",
    "        data1 = F.normalize(data0, dim = 2)\n",
    "        X_imputed = slice_learning(data1,r)\n",
    "        #X_imputed = np.array(slice_learning(data1,r))\n",
    "    \n",
    "        #de_normalize\n",
    "        scale = torch.div(data[:,:,:time],X_imputed[:,:,:time])\n",
    "        scale_mean = torch.mean(scale, dim=2)\n",
    "        for i in range(X_imputed.shape[2]):\n",
    "            X_imputed[:,:,i] = torch.mul(X_imputed[:,:,i], scale_mean) \n",
    "\n",
    "\n",
    "#         data = np.array(data)\n",
    "#         scale =  []\n",
    "#         for i in range(time-1):\n",
    "#             scale.append(data[storm_id][p][i]/X_imputed[storm_id][p][i])\n",
    "#         m = np.array(scale).mean()\n",
    "#         X_imputed_p = m*(X_imputed[storm_id][p])\n",
    "        \n",
    "    \n",
    "    if norm == 'standardize':\n",
    "        #slice_learning 3: standardize\n",
    "        data2, mean, std = standardize(data0)\n",
    "        X_imputed = slice_learning(data2, r)\n",
    "        de_standardize \n",
    "        X_imputed = de_standardize(X_imputed, mean, std)\n",
    "    \n",
    "    #calculate error for all features for next 5 hour prediction: \n",
    "    error_5=[]\n",
    "    error_10=[]\n",
    "    error_15=[]\n",
    "    for p in range(len(p_list)):\n",
    "        error_v=np.abs(X_imputed[storm_id][p] - data[storm_id][p])\n",
    "        error_5.append(error_v[time+5].item())\n",
    "        error_10.append(error_v[time+10].item())\n",
    "        error_15.append(error_v[time+15].item())\n",
    "    \n",
    "    #plotting error:\n",
    "    ind = np.arange(len(p_list)) \n",
    "    width = 0.3 \n",
    "    plt.bar(ind,error_5,width, label='t+5')\n",
    "    plt.bar(ind+width,error_10,width, label='t+10')\n",
    "    plt.bar(ind+2*width,error_15,width, label='t+15')\n",
    "    plt.xticks(ind + width / 2, p_list)\n",
    "    plt.title('Error for t+5 /10 /15 prediction over all features, StormID=%s' %(storm_id))\n",
    "    plt.setp(plt.gca().get_xticklabels(), rotation=90, horizontalalignment='right')\n",
    "    plt.legend(loc='best')\n",
    "    plt.show()\n",
    "    \n",
    "    if plot_feature_p >=-100:\n",
    "        p= plot_feature_p\n",
    "        #plot imputed_data and real data: \n",
    "        l = [i for i in range(data.shape[2])]\n",
    "        plt.plot(l, X_imputed[storm_id][p] ,label=norm)\n",
    "        plt.plot(l, data[storm_id][p],label='real')\n",
    "        plt.axvline(x=time)\n",
    "        plt.legend()\n",
    "        plt.title('Feature= %s, StormID=%s' %(p_list[p],storm_id))\n",
    "        plt.show()\n",
    "    return "
   ]
  },
  {
   "cell_type": "code",
   "execution_count": 27,
   "metadata": {},
   "outputs": [
    {
     "name": "stdout",
     "output_type": "stream",
     "text": [
      "Code stopped at iteration = 50, and mae difference = 11.373336791992188\n"
     ]
    },
    {
     "data": {
      "image/png": "[encoded data removed]",
      "text/plain": [
       "<Figure size 432x288 with 1 Axes>"
      ]
     },
     "metadata": {
      "needs_background": "light"
     },
     "output_type": "display_data"
    },
    {
     "data": {
      "image/png": "[encoded data removed]",
      "text/plain": [
       "<Figure size 432x288 with 1 Axes>"
      ]
     },
     "metadata": {
      "needs_background": "light"
     },
     "output_type": "display_data"
    }
   ],
   "source": [
    "#60 is big storm not easy to predict\n",
    "storm_id_list=[90]\n",
    "time = 10\n",
    "r=22 #size of latent features \n",
    "plot_feature_p = 2 #plot predicted feature\n",
    "for storm_id in storm_id_list:\n",
    "    test(t3, p_list, storm_id, time, r, plot_feature_p,norm = 'no_scale')"
   ]
  },
  {
   "cell_type": "code",
   "execution_count": 323,
   "metadata": {},
   "outputs": [
    {
     "ename": "NameError",
     "evalue": "name 't3_test' is not defined",
     "output_type": "error",
     "traceback": [
      "\u001b[0;31m---------------------------------------------------------------------------\u001b[0m",
      "\u001b[0;31mNameError\u001b[0m                                 Traceback (most recent call last)",
      "\u001b[0;32m<ipython-input-323-81aae0869e27>\u001b[0m in \u001b[0;36m<module>\u001b[0;34m\u001b[0m\n\u001b[1;32m      9\u001b[0m     \u001b[0;32mreturn\u001b[0m \u001b[0mr_list\u001b[0m\u001b[0;34m\u001b[0m\u001b[0;34m\u001b[0m\u001b[0m\n\u001b[1;32m     10\u001b[0m \u001b[0;34m\u001b[0m\u001b[0m\n\u001b[0;32m---> 11\u001b[0;31m \u001b[0mget_best_r\u001b[0m\u001b[0;34m(\u001b[0m\u001b[0mt3_test\u001b[0m\u001b[0;34m,\u001b[0m \u001b[0;36m5\u001b[0m\u001b[0;34m,\u001b[0m \u001b[0;36m21\u001b[0m\u001b[0;34m)\u001b[0m\u001b[0;34m\u001b[0m\u001b[0;34m\u001b[0m\u001b[0m\n\u001b[0m",
      "\u001b[0;31mNameError\u001b[0m: name 't3_test' is not defined"
     ]
    }
   ],
   "source": [
    "#get best r\n",
    "def get_best_r(data, r_min, r_max):\n",
    "    r_list = []\n",
    "    for r in range(r_min, r_max):\n",
    "        X_imputed = slice_learning(data,r, plot = False)\n",
    "        r_list.append(get_mae(X_imputed,data))\n",
    "    plt.plot([r for r in range(r_min, r_max)], r_list)\n",
    "    plt.show()\n",
    "    return r_list\n",
    "\n",
    "get_best_r(t3_test, 5, 21)"
   ]
  },
  {
   "cell_type": "code",
   "execution_count": 76,
   "metadata": {
    "collapsed": true
   },
   "outputs": [],
   "source": [
    "r=5\n",
    "m,n,t=t3.shape\n",
    "\n",
    "#SVD \n",
    "def mat_svd(X,r):\n",
    "    #Mode-1 folding\n",
    "    X1= X.reshape(m,n*t)\n",
    "    U,S,V= torch.svd(X1,some=True, compute_uv=True) \n",
    "    U1=U[:,:r]\n",
    "    #Mode-2 folding\n",
    "    X2= X.reshape(m*t,n) \n",
    "    U,S,V= torch.svd(X2,some=True, compute_uv=True)\n",
    "    V1=V[:,:r]\n",
    "    return U1,V1\n",
    "\n",
    "#Update S based on U1, V1\n",
    "def update_s(U, X, V, r ):\n",
    "    new_s = torch.empty((r,r,t))\n",
    "    for i in range(t): \n",
    "        m1 = torch.mm(torch.t(U),X[:,:,i]) #torch.t = transpose\n",
    "        m2 = torch.mm(m1,V)\n",
    "        new_s[:,:,i]=m2\n",
    "    return new_s\n",
    "\n",
    "#Compute Z:\n",
    "def update_z(U,V,S):\n",
    "    new_z = torch.empty((m,n,t))\n",
    "    for i in range(t): \n",
    "        S_t=S[:,:,i]\n",
    "        m1 = torch.mm(U,S_t)\n",
    "        m2 = torch.mm(m1,torch.t(V))\n",
    "        new_z[:,:,i]=m2\n",
    "    return new_z\n",
    "\n",
    "#wrap up everything \n",
    "def tensor_svd1(Z0,r,T=50):\n",
    "    \n",
    "    #initialise R\n",
    "    R=torch.rand(Z0.shape)\n",
    "    error=100\n",
    "    error_all=[]\n",
    "    \n",
    "    for t in range(T):\n",
    "        if error > 1: \n",
    "            U1,V1= mat_svd(R,r)\n",
    "            S=update_s(U1,R,V1,r)\n",
    "            Z1=update_z(U1,V1,S)\n",
    "            R=Z1\n",
    "            #calculate error \n",
    "            error=(Z1-Z0).pow(2).sum().item()\n",
    "            error_all.append(error)\n",
    "    \n",
    "    print('code stopped at t=%s at error=%s'%(t,error))\n",
    "    \n",
    "    #plot error \n",
    "    L=len(error_all)\n",
    "    plt.plot(np.linspace(1,L,L),error_all)\n",
    "    plt.show()\n",
    "    \n",
    "    return Z1    \n"
   ]
  },
  {
   "cell_type": "code",
   "execution_count": 81,
   "metadata": {},
   "outputs": [
    {
     "name": "stdout",
     "output_type": "stream",
     "text": [
      "code stopped at t=49 at error=15690701824.0\n"
     ]
    },
    {
     "data": {
      "image/png": "[encoded data removed]",
      "text/plain": [
       "<Figure size 432x288 with 1 Axes>"
      ]
     },
     "metadata": {
      "needs_background": "light"
     },
     "output_type": "display_data"
    },
    {
     "data": {
      "text/plain": [
       "tensor([[[0.5016, 0.5122, 0.4775,  ..., 0.3260, 0.3831, 0.4205],\n",
       "         [0.5777, 0.3512, 0.5583,  ..., 0.3851, 0.5314, 0.3812],\n",
       "         [0.5273, 0.4193, 0.4554,  ..., 0.4396, 0.5367, 0.3923],\n",
       "         [0.4839, 0.6461, 0.5778,  ..., 0.4843, 0.6149, 0.3576],\n",
       "         [0.6038, 0.4567, 0.4720,  ..., 0.6169, 0.4439, 0.5110]],\n",
       "\n",
       "        [[0.4729, 0.4610, 0.5487,  ..., 0.4879, 0.5260, 0.6021],\n",
       "         [0.5083, 0.5050, 0.5018,  ..., 0.4844, 0.4903, 0.4901],\n",
       "         [0.4997, 0.5932, 0.4719,  ..., 0.4831, 0.5269, 0.4114],\n",
       "         [0.5306, 0.4577, 0.4402,  ..., 0.5177, 0.6059, 0.4925],\n",
       "         [0.4675, 0.5287, 0.5318,  ..., 0.5700, 0.4741, 0.3571]],\n",
       "\n",
       "        [[0.3969, 0.5138, 0.4801,  ..., 0.2843, 0.3513, 0.3843],\n",
       "         [0.5841, 0.3788, 0.5527,  ..., 0.4366, 0.4922, 0.3908],\n",
       "         [0.5734, 0.3260, 0.4945,  ..., 0.4741, 0.5016, 0.5148],\n",
       "         [0.5089, 0.6680, 0.6155,  ..., 0.5222, 0.5942, 0.2782],\n",
       "         [0.5909, 0.4051, 0.4410,  ..., 0.5779, 0.5096, 0.6712]],\n",
       "\n",
       "        ...,\n",
       "\n",
       "        [[0.5266, 0.6468, 0.3999,  ..., 0.4283, 0.4807, 0.4884],\n",
       "         [0.6025, 0.5662, 0.5741,  ..., 0.4867, 0.5694, 0.5097],\n",
       "         [0.5462, 0.5007, 0.4287,  ..., 0.3740, 0.5637, 0.5902],\n",
       "         [0.4601, 0.6121, 0.5644,  ..., 0.6490, 0.4296, 0.4656],\n",
       "         [0.6039, 0.5107, 0.5263,  ..., 0.3381, 0.5528, 0.6727]],\n",
       "\n",
       "        [[0.4110, 0.5364, 0.4868,  ..., 0.4538, 0.5090, 0.5591],\n",
       "         [0.5430, 0.5929, 0.5249,  ..., 0.5395, 0.4874, 0.5351],\n",
       "         [0.5517, 0.5183, 0.4732,  ..., 0.4595, 0.5118, 0.5951],\n",
       "         [0.5225, 0.5042, 0.5020,  ..., 0.6202, 0.4884, 0.4448],\n",
       "         [0.4888, 0.4853, 0.5114,  ..., 0.4043, 0.5714, 0.6051]],\n",
       "\n",
       "        [[0.5919, 0.7402, 0.4054,  ..., 0.6857, 0.6085, 0.5741],\n",
       "         [0.5304, 0.6616, 0.4316,  ..., 0.6085, 0.5882, 0.5234],\n",
       "         [0.4394, 0.5985, 0.4868,  ..., 0.3471, 0.6044, 0.6073],\n",
       "         [0.4200, 0.4836, 0.3615,  ..., 0.6559, 0.4309, 0.6699],\n",
       "         [0.5744, 0.7258, 0.6608,  ..., 0.2549, 0.4990, 0.4562]]])"
      ]
     },
     "execution_count": 81,
     "metadata": {},
     "output_type": "execute_result"
    }
   ],
   "source": [
    "tensor_svd1(t3,5)"
   ]
  },
  {
   "cell_type": "code",
   "execution_count": 108,
   "metadata": {},
   "outputs": [
    {
     "name": "stdout",
     "output_type": "stream",
     "text": [
      "x= tensor([[[0.5615, 0.7745, 0.5196, 0.1971],\n",
      "         [0.4803, 0.2405, 0.8677, 0.1691],\n",
      "         [0.9701, 0.2670, 0.7489, 0.4611]],\n",
      "\n",
      "        [[0.3868, 0.8901, 0.8582, 0.4788],\n",
      "         [0.8212, 0.8500, 0.5475, 0.3127],\n",
      "         [0.5471, 0.7128, 0.4886, 0.6708]]])\n",
      "standardize tensor([[[ 0.2027,  1.0959,  0.0270, -1.3256],\n",
      "         [ 0.1297, -0.6313,  1.3596, -0.8580],\n",
      "         [ 1.1550, -1.1113,  0.4419, -0.4855]],\n",
      "\n",
      "        [[-1.0339,  0.9174,  0.7940, -0.6775],\n",
      "         [ 0.7436,  0.8576, -0.3370, -1.2642],\n",
      "         [-0.5518,  1.0320, -1.1105,  0.6303]]])\n",
      "de_standardize tensor([[[0.5615, 0.7745, 0.5196, 0.1971],\n",
      "         [0.4803, 0.2405, 0.8677, 0.1691],\n",
      "         [0.9701, 0.2670, 0.7489, 0.4611]],\n",
      "\n",
      "        [[0.3868, 0.8901, 0.8582, 0.4788],\n",
      "         [0.8212, 0.8500, 0.5475, 0.3127],\n",
      "         [0.5471, 0.7128, 0.4886, 0.6708]]])\n"
     ]
    },
    {
     "data": {
      "text/plain": [
       "torch.return_types.svd(\n",
       "U=tensor([[[-0.0712,  0.9577,  0.2790],\n",
       "         [-0.7132,  0.1467, -0.6854],\n",
       "         [-0.6973, -0.2478,  0.6726]],\n",
       "\n",
       "        [[-0.6969,  0.0643,  0.7143],\n",
       "         [-0.6632,  0.3214, -0.6760],\n",
       "         [-0.2731, -0.9447, -0.1814]]]),\n",
       "S=tensor([[2.2086, 1.7784, 0.9795],\n",
       "        [1.9129, 1.7228, 1.5404]]),\n",
       "V=tensor([[[-0.4131, -0.0411,  0.7600],\n",
       "         [ 0.5194,  0.6929, -0.0092],\n",
       "         [-0.5794,  0.0651, -0.6403],\n",
       "         [ 0.4731, -0.7169, -0.1106]],\n",
       "\n",
       "        [[ 0.1977,  0.4027, -0.7408],\n",
       "         [-0.7788, -0.3717, -0.0724],\n",
       "         [-0.0139,  0.5757,  0.6468],\n",
       "         [ 0.5951, -0.6068,  0.1664]]]))"
      ]
     },
     "execution_count": 108,
     "metadata": {},
     "output_type": "execute_result"
    }
   ],
   "source": [
    "x = torch.rand(2,3,4)\n",
    "print('x=',x)\n",
    "#     m,n,t = x.shape\n",
    "#     mean = torch.zeros(m,n)\n",
    "#     std = torch.zeros(m,n)\n",
    "#     for i in range(m):\n",
    "#     for j in range(n):\n",
    "#         mean[i,j] = x[i,j,:].mean()\n",
    "#         std[i,j] = x[i,j,:].std() \n",
    "#     print ('loop result',std,mean)\n",
    "\n",
    "#calculate standard deviation and mean of tensor\n",
    "def standardize(tensor):\n",
    "    new_tensor = tensor.clone()\n",
    "    #calculate along 2nd (python index) dimension \n",
    "    std, mean = torch.std_mean(tensor, dim=2)\n",
    "    t=tensor.shape[2]\n",
    "    for i in range(t):\n",
    "        #element wise division\n",
    "        new_tensor[:,:,i] = torch.div((tensor[:,:,i] - mean),std) \n",
    "    return new_tensor, mean, std\n",
    "\n",
    "def de_standardize(tensor,mean,std):\n",
    "    t=tensor.shape[2]\n",
    "    new_tensor = tensor.clone()\n",
    "    for i in range(t):\n",
    "        #element wise multiplication\n",
    "        new_tensor[:,:,i] = torch.mul(tensor[:,:,i] ,std) + mean \n",
    "    return new_tensor \n",
    "a,m,std=standardize(x)\n",
    "b=de_standardize(a,m,std) \n",
    "print('standardize',a )\n",
    "print('de_standardize', b)\n",
    " \n",
    "    \n",
    "torch.svd(a,some=True, compute_uv=True)"
   ]
  },
  {
   "cell_type": "code",
   "execution_count": null,
   "metadata": {
    "collapsed": true
   },
   "outputs": [],
   "source": []
  },
  {
   "cell_type": "code",
   "execution_count": null,
   "metadata": {
    "collapsed": true
   },
   "outputs": [],
   "source": [
    "#to use in the future: computes the wind category\n",
    "def sust_wind_to_cat(wind):\n",
    "    # maximum sustained wind in kt (knot)\n",
    "    if wind<=33: cat='TD' # <=33\n",
    "    elif wind<=63.:  cat='TS'\n",
    "    elif wind <=82.: cat='H1'\n",
    "    elif wind <=95.: cat='H2'\n",
    "    elif wind <=112.: cat='H3'\n",
    "    elif wind <=136.: cat='H4'\n",
    "    else: cat='H5'\n",
    "\n",
    "    return cat"
   ]
  },
  {
   "cell_type": "code",
   "execution_count": 193,
   "metadata": {
    "collapsed": true
   },
   "outputs": [],
   "source": [
    "#allows to keep only the data between two dates to specify\n",
    "def get_periodic_data(data, start ='2018-01-01',end ='2018-12-31',mincat=None,maxcat=None):\n",
    "    n = len(data)\n",
    "    start = datetime.strptime(start, '%Y-%m-%d')\n",
    "    end = datetime.strptime(end, '%Y-%m-%d')\n",
    "    times = pd.to_datetime(data['ISO_TIME'][1:n])\n",
    "    ind_start = 1\n",
    "    ind_end = n\n",
    "    i = 1\n",
    "    while times[i] < start :#or i < n:\n",
    "        i+=1\n",
    "    ind_start = i\n",
    "    while times[i] < end :#or i < n:\n",
    "        i+=1\n",
    "    ind_end = i\n",
    "    return data[ind_start:ind_end]"
   ]
  },
  {
   "cell_type": "code",
   "execution_count": 190,
   "metadata": {
    "collapsed": true
   },
   "outputs": [],
   "source": [
    "#allows to get the distinct ids of the storms \n",
    "def get_ids(data):\n",
    "    return data.SID.unique()"
   ]
  },
  {
   "cell_type": "code",
   "execution_count": 6,
   "metadata": {
    "collapsed": true
   },
   "outputs": [],
   "source": [
    "def get_storm_track(data, storm_id = '2016005N02187', time_step = 6):\n",
    "    #data.set_index(\"SID\", inplace=True)\n",
    "    return data.loc[data['SID'] == storm_id]"
   ]
  },
  {
   "cell_type": "code",
   "execution_count": 8,
   "metadata": {
    "collapsed": true
   },
   "outputs": [],
   "source": [
    "storm = get_storm_track(data)\n",
    "lat = np.array(storm['LAT'])\n",
    "lat2 = [float(lat[i]) for i in range(len(lat))]\n",
    "lon = np.array(storm['LON'])\n",
    "lon2 = [float(lon[i]) for i in range(len(lon))]"
   ]
  },
  {
   "cell_type": "code",
   "execution_count": 9,
   "metadata": {},
   "outputs": [
    {
     "data": {
      "image/png": "[encoded data removed]",
      "text/plain": [
       "<matplotlib.figure.Figure at 0x116477f28>"
      ]
     },
     "metadata": {},
     "output_type": "display_data"
    }
   ],
   "source": [
    "plt.plot(lat2, lon2)\n",
    "plt.show()"
   ]
  },
  {
   "cell_type": "markdown",
   "metadata": {},
   "source": [
    "Some functions we may use"
   ]
  },
  {
   "cell_type": "code",
   "execution_count": 5,
   "metadata": {
    "collapsed": true
   },
   "outputs": [],
   "source": [
    "def get_distance_km(lon1, lat1, lon2, lat2):\n",
    "    '''\n",
    "    Using haversine formula (https://www.movable-type.co.uk/scripts/latlong.html)\n",
    "    '''\n",
    "    R=6371e3 # meters (earth's radius)\n",
    "    phi_1=math.radians(lat1)\n",
    "    phi_2 = math.radians(lat2)\n",
    "    delta_phi=math.radians(lat2-lat1)\n",
    "    delta_lambda=math.radians(lon2-lon1)\n",
    "    a=np.power(math.sin(delta_phi/2),2) + math.cos(phi_1)*math.cos(phi_2)\\\n",
    "      * np.power(math.sin(delta_lambda/2),2)\n",
    "    c= 2 * math.atan2(math.sqrt(a),math.sqrt(1-a))\n",
    "\n",
    "    return R*c/1000.\n",
    "\n",
    "\n",
    "def get_longlat_from_offsets(lon, lat, dkm_lon, dkm_lat):\n",
    "    '''\n",
    "    :param lon: initial longitude\n",
    "    :param lat: inital latitude\n",
    "    :param dn:     offsets in meters\n",
    "    :param de:     offsets in meters\n",
    "    :return: lon_final, lat_final\n",
    "    '''\n",
    "    # Earth’s radius, sphere\n",
    "    R = 6378137\n",
    "    # Coordinate offsets in radians\n",
    "    dLat = dkm_lat / R\n",
    "    dLon = dkm_lon / (R * math.cos(math.radians(lat)))\n",
    "\n",
    "    # OffsetPosition, decimal degrees\n",
    "    latO = lat + dLat * 180 / math.pi\n",
    "    lonO = lon + dLon * 180 / math.pi\n",
    "\n",
    "    return lonO, latO"
   ]
  }
 ],
 "metadata": {
  "kernelspec": {
   "display_name": "Python 3",
   "language": "python",
   "name": "python3"
  },
  "language_info": {
   "codemirror_mode": {
    "name": "ipython",
    "version": 3
   },
   "file_extension": ".py",
   "mimetype": "text/x-python",
   "name": "python",
   "nbconvert_exporter": "python",
   "pygments_lexer": "ipython3",
   "version": "3.7.3"
  }
 },
 "nbformat": 4,
 "nbformat_minor": 2
}
